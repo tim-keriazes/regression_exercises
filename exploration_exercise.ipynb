{
 "cells": [
  {
   "cell_type": "markdown",
   "id": "c575352c",
   "metadata": {},
   "source": [
    "Exercises\n",
    "Our Zillow scenario continues:\n",
    "\n",
    "As a Codeup data science graduate, you want to show off your skills to the Zillow data science team in hopes of getting an interview for a position you saw pop up on LinkedIn. You thought it might look impressive to build an end-to-end project in which you use some of their Kaggle data to predict property values using some of their available features; who knows, you might even do some feature engineering to blow them away. Your goal is to predict the values of single unit properties using the observations from 2017.\n",
    "\n",
    "In these exercises, you will run through the stages of exploration as you continue to work toward the above goal.\n",
    "\n",
    "As with encoded vs. unencoded data, we recommend exploring un-scaled data in your EDA process.\n",
    "\n",
    "Make sure to perform a train, validate, test split before and use only your train dataset to explore the relationships between independent variables with other independent variables or independent variables with your target variable.\n",
    "\n",
    "Write a function named plot_variable_pairs that accepts a dataframe as input and plots all of the pairwise relationships along with the regression line for each pair.\n",
    "\n",
    "Write a function named plot_categorical_and_continuous_vars that accepts your dataframe and the name of the columns that hold the continuous and categorical features and outputs 3 different plots for visualizing a categorical variable and a continuous variable.\n",
    "\n",
    "Save the functions you have written to create visualizations in your explore.py file. Rewrite your notebook code so that you are using the functions imported from this file.\n",
    "\n",
    "Use the functions you created above to explore your Zillow train dataset in your explore.ipynb notebook.\n",
    "\n",
    "Come up with some initial hypotheses based on your goal of predicting property value.\n",
    "\n",
    "Visualize all combinations of variables in some way.\n",
    "\n",
    "Run the appropriate statistical tests where needed.\n",
    "\n",
    "What independent variables are correlated with the dependent variable, home value?\n",
    "\n",
    "Which independent variables are correlated with other independent variables (bedrooms, bathrooms, year built, square feet)?\n",
    "\n",
    "Make sure to document your takeaways from visualizations and statistical tests as well as the decisions you make throughout your process.\n",
    "\n",
    "Explore your dataset with any other visualizations you think will be helpful."
   ]
  },
  {
   "cell_type": "code",
   "execution_count": null,
   "id": "b31c9f35",
   "metadata": {},
   "outputs": [],
   "source": []
  }
 ],
 "metadata": {
  "kernelspec": {
   "display_name": "Python 3 (ipykernel)",
   "language": "python",
   "name": "python3"
  },
  "language_info": {
   "codemirror_mode": {
    "name": "ipython",
    "version": 3
   },
   "file_extension": ".py",
   "mimetype": "text/x-python",
   "name": "python",
   "nbconvert_exporter": "python",
   "pygments_lexer": "ipython3",
   "version": "3.9.12"
  }
 },
 "nbformat": 4,
 "nbformat_minor": 5
}
