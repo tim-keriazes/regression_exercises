{
 "cells": [
  {
   "cell_type": "code",
   "execution_count": null,
   "id": "3423bbb5",
   "metadata": {},
   "outputs": [],
   "source": [
    "# Exercises\n",
    "# Do your work for these exercises in a jupyter notebook named scaling. Use the zillow dataset you acquired and prepped in \n",
    "# previous lesson. Once you are finished, you may wish to repeat the exercises on another dataset for additional practice.\n",
    "\n",
    "# Apply the scalers we talked about in this lesson to your data and visualize the results for the unscaled and scaled distribution .\n",
    "# Apply the .inverse_transform method to your scaled data. Is the resulting dataset the exact same as the original data?\n",
    "# Read the documentation for sklearn's QuantileTransformer. Use normal for the output_distribution and apply this scaler \n",
    "# to your data. Visualize the result of your data scaling.\n",
    "# Use the QuantileTransformer, but omit the output_distribution argument. Visualize your results. What do you notice?\n",
    "# Based on the work you've done, choose a scaling method for your dataset. Write a function within your prepare.py that \n",
    "# accepts as input the train, validate, and test data splits, and returns the scaled versions of each. Be sure to only \n",
    "# learn the parameters for scaling from your training data!"
   ]
  }
 ],
 "metadata": {
  "kernelspec": {
   "display_name": "Python 3 (ipykernel)",
   "language": "python",
   "name": "python3"
  },
  "language_info": {
   "codemirror_mode": {
    "name": "ipython",
    "version": 3
   },
   "file_extension": ".py",
   "mimetype": "text/x-python",
   "name": "python",
   "nbconvert_exporter": "python",
   "pygments_lexer": "ipython3",
   "version": "3.9.12"
  }
 },
 "nbformat": 4,
 "nbformat_minor": 5
}
