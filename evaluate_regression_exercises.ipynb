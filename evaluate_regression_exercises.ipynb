{
 "cells": [
  {
   "cell_type": "code",
   "execution_count": null,
   "id": "94a4067f",
   "metadata": {},
   "outputs": [],
   "source": []
  },
  {
   "cell_type": "code",
   "execution_count": 1,
   "id": "f87964bc",
   "metadata": {},
   "outputs": [],
   "source": [
    "%matplotlib inline\n",
    "import matplotlib.pyplot as plt\n",
    "import numpy as np\n",
    "import pandas as pd\n",
    "import pydataset\n",
    "import seaborn as sns\n",
    "from sklearn.neighbors import KNeighborsClassifier\n",
    "from sklearn.preprocessing import MinMaxScaler, StandardScaler, RobustScaler, QuantileTransformer\n",
    "from sklearn.metrics import mean_squared_error, r2_score\n",
    "import prepare_telco\n",
    "import wrangle\n",
    "import os\n",
    "from env import user, password, host\n",
    "from sklearn.linear_model import LinearRegression\n",
    "from sklearn.feature_selection import f_regression \n",
    "from math import sqrt\n",
    "\n",
    "import warnings\n",
    "warnings.filterwarnings('ignore')\n",
    "\n",
    "\n",
    "from scipy.stats import pearsonr, spearmanr"
   ]
  },
  {
   "cell_type": "code",
   "execution_count": null,
   "id": "d999f925",
   "metadata": {},
   "outputs": [],
   "source": [
    "# Load your zillow dataset.\n",
    "\n",
    "# Fit a linear regression model (ordinary least squares) and \n",
    "# compute yhat, predictions of taxvaluedollarcnt using only \n",
    "# calfulatedfinishedsqft."
   ]
  },
  {
   "cell_type": "code",
   "execution_count": 2,
   "id": "3e47f32c",
   "metadata": {},
   "outputs": [],
   "source": [
    "df=wrangle.wrangle_zillow()\n"
   ]
  },
  {
   "cell_type": "code",
   "execution_count": 3,
   "id": "dfa8b085",
   "metadata": {},
   "outputs": [
    {
     "data": {
      "text/html": [
       "<div>\n",
       "<style scoped>\n",
       "    .dataframe tbody tr th:only-of-type {\n",
       "        vertical-align: middle;\n",
       "    }\n",
       "\n",
       "    .dataframe tbody tr th {\n",
       "        vertical-align: top;\n",
       "    }\n",
       "\n",
       "    .dataframe thead th {\n",
       "        text-align: right;\n",
       "    }\n",
       "</style>\n",
       "<table border=\"1\" class=\"dataframe\">\n",
       "  <thead>\n",
       "    <tr style=\"text-align: right;\">\n",
       "      <th></th>\n",
       "      <th>bedroomcnt</th>\n",
       "      <th>bathroomcnt</th>\n",
       "      <th>calculatedfinishedsquarefeet</th>\n",
       "      <th>taxvaluedollarcnt</th>\n",
       "      <th>yearbuilt</th>\n",
       "      <th>taxamount</th>\n",
       "      <th>fips</th>\n",
       "    </tr>\n",
       "  </thead>\n",
       "  <tbody>\n",
       "    <tr>\n",
       "      <th>4</th>\n",
       "      <td>4</td>\n",
       "      <td>2.0</td>\n",
       "      <td>3633</td>\n",
       "      <td>296425</td>\n",
       "      <td>2005</td>\n",
       "      <td>6941.39</td>\n",
       "      <td>6037</td>\n",
       "    </tr>\n",
       "    <tr>\n",
       "      <th>6</th>\n",
       "      <td>3</td>\n",
       "      <td>4.0</td>\n",
       "      <td>1620</td>\n",
       "      <td>847770</td>\n",
       "      <td>2011</td>\n",
       "      <td>10244.94</td>\n",
       "      <td>6037</td>\n",
       "    </tr>\n",
       "    <tr>\n",
       "      <th>7</th>\n",
       "      <td>3</td>\n",
       "      <td>2.0</td>\n",
       "      <td>2077</td>\n",
       "      <td>646760</td>\n",
       "      <td>1926</td>\n",
       "      <td>7924.68</td>\n",
       "      <td>6037</td>\n",
       "    </tr>\n",
       "    <tr>\n",
       "      <th>11</th>\n",
       "      <td>0</td>\n",
       "      <td>0.0</td>\n",
       "      <td>1200</td>\n",
       "      <td>5328</td>\n",
       "      <td>1972</td>\n",
       "      <td>91.60</td>\n",
       "      <td>6037</td>\n",
       "    </tr>\n",
       "    <tr>\n",
       "      <th>14</th>\n",
       "      <td>0</td>\n",
       "      <td>0.0</td>\n",
       "      <td>171</td>\n",
       "      <td>6920</td>\n",
       "      <td>1973</td>\n",
       "      <td>255.17</td>\n",
       "      <td>6037</td>\n",
       "    </tr>\n",
       "  </tbody>\n",
       "</table>\n",
       "</div>"
      ],
      "text/plain": [
       "    bedroomcnt  bathroomcnt  calculatedfinishedsquarefeet  taxvaluedollarcnt  \\\n",
       "4            4          2.0                          3633             296425   \n",
       "6            3          4.0                          1620             847770   \n",
       "7            3          2.0                          2077             646760   \n",
       "11           0          0.0                          1200               5328   \n",
       "14           0          0.0                           171               6920   \n",
       "\n",
       "    yearbuilt  taxamount  fips  \n",
       "4        2005    6941.39  6037  \n",
       "6        2011   10244.94  6037  \n",
       "7        1926    7924.68  6037  \n",
       "11       1972      91.60  6037  \n",
       "14       1973     255.17  6037  "
      ]
     },
     "execution_count": 3,
     "metadata": {},
     "output_type": "execute_result"
    }
   ],
   "source": [
    "df.head()"
   ]
  },
  {
   "cell_type": "code",
   "execution_count": 5,
   "id": "5125eeba",
   "metadata": {},
   "outputs": [
    {
     "name": "stdout",
     "output_type": "stream",
     "text": [
      "<class 'pandas.core.frame.DataFrame'>\n",
      "Int64Index: 2094583 entries, 4 to 2152862\n",
      "Data columns (total 7 columns):\n",
      " #   Column                        Non-Null Count    Dtype  \n",
      "---  ------                        --------------    -----  \n",
      " 0   bedroomcnt                    2094583 non-null  int32  \n",
      " 1   bathroomcnt                   2094583 non-null  float64\n",
      " 2   calculatedfinishedsquarefeet  2094583 non-null  int32  \n",
      " 3   taxvaluedollarcnt             2094583 non-null  int32  \n",
      " 4   yearbuilt                     2094583 non-null  int32  \n",
      " 5   taxamount                     2094583 non-null  float64\n",
      " 6   fips                          2094583 non-null  int32  \n",
      "dtypes: float64(2), int32(5)\n",
      "memory usage: 87.9 MB\n"
     ]
    }
   ],
   "source": [
    "df.info(show_counts=True)"
   ]
  },
  {
   "cell_type": "code",
   "execution_count": 23,
   "id": "67ba0c3f",
   "metadata": {},
   "outputs": [],
   "source": [
    "train, validate, test = prepare_telco.split(df, stratify_by=None)"
   ]
  },
  {
   "cell_type": "code",
   "execution_count": 24,
   "id": "b30972da",
   "metadata": {
    "scrolled": true
   },
   "outputs": [
    {
     "data": {
      "text/plain": [
       "((1172966, 7), (502700, 7), (418917, 7))"
      ]
     },
     "execution_count": 24,
     "metadata": {},
     "output_type": "execute_result"
    }
   ],
   "source": [
    "train.shape, validate.shape, test.shape"
   ]
  },
  {
   "cell_type": "code",
   "execution_count": 25,
   "id": "47945789",
   "metadata": {
    "scrolled": true
   },
   "outputs": [
    {
     "data": {
      "text/html": [
       "<div>\n",
       "<style scoped>\n",
       "    .dataframe tbody tr th:only-of-type {\n",
       "        vertical-align: middle;\n",
       "    }\n",
       "\n",
       "    .dataframe tbody tr th {\n",
       "        vertical-align: top;\n",
       "    }\n",
       "\n",
       "    .dataframe thead th {\n",
       "        text-align: right;\n",
       "    }\n",
       "</style>\n",
       "<table border=\"1\" class=\"dataframe\">\n",
       "  <thead>\n",
       "    <tr style=\"text-align: right;\">\n",
       "      <th></th>\n",
       "      <th>bedroomcnt</th>\n",
       "      <th>bathroomcnt</th>\n",
       "      <th>calculatedfinishedsquarefeet</th>\n",
       "      <th>taxvaluedollarcnt</th>\n",
       "      <th>yearbuilt</th>\n",
       "      <th>taxamount</th>\n",
       "      <th>fips</th>\n",
       "    </tr>\n",
       "  </thead>\n",
       "  <tbody>\n",
       "    <tr>\n",
       "      <th>421888</th>\n",
       "      <td>3</td>\n",
       "      <td>2.0</td>\n",
       "      <td>1550</td>\n",
       "      <td>357034</td>\n",
       "      <td>1961</td>\n",
       "      <td>4418.72</td>\n",
       "      <td>6037</td>\n",
       "    </tr>\n",
       "    <tr>\n",
       "      <th>548087</th>\n",
       "      <td>3</td>\n",
       "      <td>3.5</td>\n",
       "      <td>1800</td>\n",
       "      <td>287774</td>\n",
       "      <td>1996</td>\n",
       "      <td>2798.18</td>\n",
       "      <td>6059</td>\n",
       "    </tr>\n",
       "    <tr>\n",
       "      <th>714717</th>\n",
       "      <td>3</td>\n",
       "      <td>2.0</td>\n",
       "      <td>1542</td>\n",
       "      <td>588738</td>\n",
       "      <td>1923</td>\n",
       "      <td>7210.51</td>\n",
       "      <td>6037</td>\n",
       "    </tr>\n",
       "    <tr>\n",
       "      <th>749704</th>\n",
       "      <td>3</td>\n",
       "      <td>1.0</td>\n",
       "      <td>1128</td>\n",
       "      <td>290984</td>\n",
       "      <td>1952</td>\n",
       "      <td>3622.02</td>\n",
       "      <td>6037</td>\n",
       "    </tr>\n",
       "    <tr>\n",
       "      <th>539577</th>\n",
       "      <td>0</td>\n",
       "      <td>1.0</td>\n",
       "      <td>396</td>\n",
       "      <td>34541</td>\n",
       "      <td>1942</td>\n",
       "      <td>579.61</td>\n",
       "      <td>6037</td>\n",
       "    </tr>\n",
       "  </tbody>\n",
       "</table>\n",
       "</div>"
      ],
      "text/plain": [
       "        bedroomcnt  bathroomcnt  calculatedfinishedsquarefeet  \\\n",
       "421888           3          2.0                          1550   \n",
       "548087           3          3.5                          1800   \n",
       "714717           3          2.0                          1542   \n",
       "749704           3          1.0                          1128   \n",
       "539577           0          1.0                           396   \n",
       "\n",
       "        taxvaluedollarcnt  yearbuilt  taxamount  fips  \n",
       "421888             357034       1961    4418.72  6037  \n",
       "548087             287774       1996    2798.18  6059  \n",
       "714717             588738       1923    7210.51  6037  \n",
       "749704             290984       1952    3622.02  6037  \n",
       "539577              34541       1942     579.61  6037  "
      ]
     },
     "execution_count": 25,
     "metadata": {},
     "output_type": "execute_result"
    }
   ],
   "source": [
    "train.head()"
   ]
  },
  {
   "cell_type": "code",
   "execution_count": 26,
   "id": "052a9450",
   "metadata": {},
   "outputs": [],
   "source": [
    "train = train[train.calculatedfinishedsquarefeet < 100_000]"
   ]
  },
  {
   "cell_type": "code",
   "execution_count": 27,
   "id": "eb4ed255",
   "metadata": {
    "scrolled": false
   },
   "outputs": [
    {
     "data": {
      "text/html": [
       "<div>\n",
       "<style scoped>\n",
       "    .dataframe tbody tr th:only-of-type {\n",
       "        vertical-align: middle;\n",
       "    }\n",
       "\n",
       "    .dataframe tbody tr th {\n",
       "        vertical-align: top;\n",
       "    }\n",
       "\n",
       "    .dataframe thead th {\n",
       "        text-align: right;\n",
       "    }\n",
       "</style>\n",
       "<table border=\"1\" class=\"dataframe\">\n",
       "  <thead>\n",
       "    <tr style=\"text-align: right;\">\n",
       "      <th></th>\n",
       "      <th>bedroomcnt</th>\n",
       "      <th>bathroomcnt</th>\n",
       "      <th>calculatedfinishedsquarefeet</th>\n",
       "      <th>taxvaluedollarcnt</th>\n",
       "      <th>yearbuilt</th>\n",
       "      <th>taxamount</th>\n",
       "      <th>fips</th>\n",
       "    </tr>\n",
       "  </thead>\n",
       "  <tbody>\n",
       "    <tr>\n",
       "      <th>421888</th>\n",
       "      <td>3</td>\n",
       "      <td>2.0</td>\n",
       "      <td>1550</td>\n",
       "      <td>357034</td>\n",
       "      <td>1961</td>\n",
       "      <td>4418.72</td>\n",
       "      <td>6037</td>\n",
       "    </tr>\n",
       "    <tr>\n",
       "      <th>548087</th>\n",
       "      <td>3</td>\n",
       "      <td>3.5</td>\n",
       "      <td>1800</td>\n",
       "      <td>287774</td>\n",
       "      <td>1996</td>\n",
       "      <td>2798.18</td>\n",
       "      <td>6059</td>\n",
       "    </tr>\n",
       "    <tr>\n",
       "      <th>714717</th>\n",
       "      <td>3</td>\n",
       "      <td>2.0</td>\n",
       "      <td>1542</td>\n",
       "      <td>588738</td>\n",
       "      <td>1923</td>\n",
       "      <td>7210.51</td>\n",
       "      <td>6037</td>\n",
       "    </tr>\n",
       "    <tr>\n",
       "      <th>749704</th>\n",
       "      <td>3</td>\n",
       "      <td>1.0</td>\n",
       "      <td>1128</td>\n",
       "      <td>290984</td>\n",
       "      <td>1952</td>\n",
       "      <td>3622.02</td>\n",
       "      <td>6037</td>\n",
       "    </tr>\n",
       "    <tr>\n",
       "      <th>539577</th>\n",
       "      <td>0</td>\n",
       "      <td>1.0</td>\n",
       "      <td>396</td>\n",
       "      <td>34541</td>\n",
       "      <td>1942</td>\n",
       "      <td>579.61</td>\n",
       "      <td>6037</td>\n",
       "    </tr>\n",
       "  </tbody>\n",
       "</table>\n",
       "</div>"
      ],
      "text/plain": [
       "        bedroomcnt  bathroomcnt  calculatedfinishedsquarefeet  \\\n",
       "421888           3          2.0                          1550   \n",
       "548087           3          3.5                          1800   \n",
       "714717           3          2.0                          1542   \n",
       "749704           3          1.0                          1128   \n",
       "539577           0          1.0                           396   \n",
       "\n",
       "        taxvaluedollarcnt  yearbuilt  taxamount  fips  \n",
       "421888             357034       1961    4418.72  6037  \n",
       "548087             287774       1996    2798.18  6059  \n",
       "714717             588738       1923    7210.51  6037  \n",
       "749704             290984       1952    3622.02  6037  \n",
       "539577              34541       1942     579.61  6037  "
      ]
     },
     "execution_count": 27,
     "metadata": {},
     "output_type": "execute_result"
    }
   ],
   "source": [
    "train.head()"
   ]
  },
  {
   "cell_type": "code",
   "execution_count": 29,
   "id": "997bb077",
   "metadata": {},
   "outputs": [
    {
     "data": {
      "text/plain": [
       "((1172965, 7), (502700, 7), (418917, 7))"
      ]
     },
     "execution_count": 29,
     "metadata": {},
     "output_type": "execute_result"
    }
   ],
   "source": [
    "train.shape, validate.shape, test.shape"
   ]
  },
  {
   "cell_type": "code",
   "execution_count": 33,
   "id": "823878ba",
   "metadata": {
    "scrolled": true
   },
   "outputs": [
    {
     "data": {
      "text/html": [
       "<div>\n",
       "<style scoped>\n",
       "    .dataframe tbody tr th:only-of-type {\n",
       "        vertical-align: middle;\n",
       "    }\n",
       "\n",
       "    .dataframe tbody tr th {\n",
       "        vertical-align: top;\n",
       "    }\n",
       "\n",
       "    .dataframe thead th {\n",
       "        text-align: right;\n",
       "    }\n",
       "</style>\n",
       "<table border=\"1\" class=\"dataframe\">\n",
       "  <thead>\n",
       "    <tr style=\"text-align: right;\">\n",
       "      <th></th>\n",
       "      <th>bedroomcnt</th>\n",
       "      <th>bathroomcnt</th>\n",
       "      <th>calculatedfinishedsquarefeet</th>\n",
       "      <th>taxvaluedollarcnt</th>\n",
       "      <th>yearbuilt</th>\n",
       "      <th>taxamount</th>\n",
       "      <th>fips</th>\n",
       "      <th>baseline</th>\n",
       "    </tr>\n",
       "  </thead>\n",
       "  <tbody>\n",
       "    <tr>\n",
       "      <th>421888</th>\n",
       "      <td>3</td>\n",
       "      <td>2.0</td>\n",
       "      <td>1550</td>\n",
       "      <td>357034</td>\n",
       "      <td>1961</td>\n",
       "      <td>4418.72</td>\n",
       "      <td>6037</td>\n",
       "      <td>398734.974807</td>\n",
       "    </tr>\n",
       "    <tr>\n",
       "      <th>548087</th>\n",
       "      <td>3</td>\n",
       "      <td>3.5</td>\n",
       "      <td>1800</td>\n",
       "      <td>287774</td>\n",
       "      <td>1996</td>\n",
       "      <td>2798.18</td>\n",
       "      <td>6059</td>\n",
       "      <td>398734.974807</td>\n",
       "    </tr>\n",
       "    <tr>\n",
       "      <th>714717</th>\n",
       "      <td>3</td>\n",
       "      <td>2.0</td>\n",
       "      <td>1542</td>\n",
       "      <td>588738</td>\n",
       "      <td>1923</td>\n",
       "      <td>7210.51</td>\n",
       "      <td>6037</td>\n",
       "      <td>398734.974807</td>\n",
       "    </tr>\n",
       "  </tbody>\n",
       "</table>\n",
       "</div>"
      ],
      "text/plain": [
       "        bedroomcnt  bathroomcnt  calculatedfinishedsquarefeet  \\\n",
       "421888           3          2.0                          1550   \n",
       "548087           3          3.5                          1800   \n",
       "714717           3          2.0                          1542   \n",
       "\n",
       "        taxvaluedollarcnt  yearbuilt  taxamount  fips       baseline  \n",
       "421888             357034       1961    4418.72  6037  398734.974807  \n",
       "548087             287774       1996    2798.18  6059  398734.974807  \n",
       "714717             588738       1923    7210.51  6037  398734.974807  "
      ]
     },
     "execution_count": 33,
     "metadata": {},
     "output_type": "execute_result"
    }
   ],
   "source": [
    "#target baseline\n",
    "train['baseline'] = train.taxvaluedollarcnt.mean()\n",
    "train.head(3)"
   ]
  },
  {
   "cell_type": "code",
   "execution_count": 39,
   "id": "d0d5228e",
   "metadata": {},
   "outputs": [
    {
     "data": {
      "text/plain": [
       "398734.97480743245"
      ]
     },
     "execution_count": 39,
     "metadata": {},
     "output_type": "execute_result"
    }
   ],
   "source": [
    "train.taxvaluedollarcnt.mean()"
   ]
  },
  {
   "cell_type": "code",
   "execution_count": 34,
   "id": "701c35fa",
   "metadata": {},
   "outputs": [],
   "source": [
    "# plot data with baseline"
   ]
  },
  {
   "cell_type": "code",
   "execution_count": 41,
   "id": "7e1a518d",
   "metadata": {},
   "outputs": [
    {
     "data": {
      "text/plain": [
       "<matplotlib.lines.Line2D at 0x2d9830e06d0>"
      ]
     },
     "execution_count": 41,
     "metadata": {},
     "output_type": "execute_result"
    },
    {
     "data": {
      "image/png": "[encoded data removed]",
      "text/plain": [
       "<Figure size 432x288 with 1 Axes>"
      ]
     },
     "metadata": {
      "needs_background": "light"
     },
     "output_type": "display_data"
    }
   ],
   "source": [
    "plt.scatter(train.calculatedfinishedsquarefeet, train.taxvaluedollarcnt)\n",
    "plt.axhline(train.taxvaluedollarcnt.mean(), ls = ':') #ls=line style"
   ]
  },
  {
   "cell_type": "code",
   "execution_count": 45,
   "id": "0552048b",
   "metadata": {},
   "outputs": [],
   "source": [
    "# #OLS\n",
    "\n",
    "# #create/fit the model\n",
    "# ols_model = ols('taxvaluedollarcnt ~ calculatedfinishedsquarefeet', data=train).fit()\n",
    "# # compute predictions and attach to DF\n",
    "# train['yhat'] = ols_model.predict(train.taxvaluedollarcnt)\n",
    "\n",
    "# train.head(3)"
   ]
  },
  {
   "cell_type": "code",
   "execution_count": 44,
   "id": "97a0c9eb",
   "metadata": {},
   "outputs": [
    {
     "data": {
      "text/html": [
       "<div>\n",
       "<style scoped>\n",
       "    .dataframe tbody tr th:only-of-type {\n",
       "        vertical-align: middle;\n",
       "    }\n",
       "\n",
       "    .dataframe tbody tr th {\n",
       "        vertical-align: top;\n",
       "    }\n",
       "\n",
       "    .dataframe thead th {\n",
       "        text-align: right;\n",
       "    }\n",
       "</style>\n",
       "<table border=\"1\" class=\"dataframe\">\n",
       "  <thead>\n",
       "    <tr style=\"text-align: right;\">\n",
       "      <th></th>\n",
       "      <th>bedroomcnt</th>\n",
       "      <th>bathroomcnt</th>\n",
       "      <th>calculatedfinishedsquarefeet</th>\n",
       "      <th>taxvaluedollarcnt</th>\n",
       "      <th>yearbuilt</th>\n",
       "      <th>taxamount</th>\n",
       "      <th>fips</th>\n",
       "      <th>baseline</th>\n",
       "      <th>yhat</th>\n",
       "    </tr>\n",
       "  </thead>\n",
       "  <tbody>\n",
       "    <tr>\n",
       "      <th>421888</th>\n",
       "      <td>3</td>\n",
       "      <td>2.0</td>\n",
       "      <td>1550</td>\n",
       "      <td>357034</td>\n",
       "      <td>1961</td>\n",
       "      <td>4418.72</td>\n",
       "      <td>6037</td>\n",
       "      <td>398734.974807</td>\n",
       "      <td>341596.873182</td>\n",
       "    </tr>\n",
       "    <tr>\n",
       "      <th>548087</th>\n",
       "      <td>3</td>\n",
       "      <td>3.5</td>\n",
       "      <td>1800</td>\n",
       "      <td>287774</td>\n",
       "      <td>1996</td>\n",
       "      <td>2798.18</td>\n",
       "      <td>6059</td>\n",
       "      <td>398734.974807</td>\n",
       "      <td>399349.520304</td>\n",
       "    </tr>\n",
       "    <tr>\n",
       "      <th>714717</th>\n",
       "      <td>3</td>\n",
       "      <td>2.0</td>\n",
       "      <td>1542</td>\n",
       "      <td>588738</td>\n",
       "      <td>1923</td>\n",
       "      <td>7210.51</td>\n",
       "      <td>6037</td>\n",
       "      <td>398734.974807</td>\n",
       "      <td>339748.788474</td>\n",
       "    </tr>\n",
       "    <tr>\n",
       "      <th>749704</th>\n",
       "      <td>3</td>\n",
       "      <td>1.0</td>\n",
       "      <td>1128</td>\n",
       "      <td>290984</td>\n",
       "      <td>1952</td>\n",
       "      <td>3622.02</td>\n",
       "      <td>6037</td>\n",
       "      <td>398734.974807</td>\n",
       "      <td>244110.404839</td>\n",
       "    </tr>\n",
       "    <tr>\n",
       "      <th>539577</th>\n",
       "      <td>0</td>\n",
       "      <td>1.0</td>\n",
       "      <td>396</td>\n",
       "      <td>34541</td>\n",
       "      <td>1942</td>\n",
       "      <td>579.61</td>\n",
       "      <td>6037</td>\n",
       "      <td>398734.974807</td>\n",
       "      <td>75010.654066</td>\n",
       "    </tr>\n",
       "    <tr>\n",
       "      <th>...</th>\n",
       "      <td>...</td>\n",
       "      <td>...</td>\n",
       "      <td>...</td>\n",
       "      <td>...</td>\n",
       "      <td>...</td>\n",
       "      <td>...</td>\n",
       "      <td>...</td>\n",
       "      <td>...</td>\n",
       "      <td>...</td>\n",
       "    </tr>\n",
       "    <tr>\n",
       "      <th>83961</th>\n",
       "      <td>3</td>\n",
       "      <td>2.5</td>\n",
       "      <td>2460</td>\n",
       "      <td>463327</td>\n",
       "      <td>1966</td>\n",
       "      <td>5183.18</td>\n",
       "      <td>6059</td>\n",
       "      <td>398734.974807</td>\n",
       "      <td>551816.508706</td>\n",
       "    </tr>\n",
       "    <tr>\n",
       "      <th>828457</th>\n",
       "      <td>2</td>\n",
       "      <td>1.5</td>\n",
       "      <td>1191</td>\n",
       "      <td>517777</td>\n",
       "      <td>1987</td>\n",
       "      <td>5353.78</td>\n",
       "      <td>6059</td>\n",
       "      <td>398734.974807</td>\n",
       "      <td>258664.071914</td>\n",
       "    </tr>\n",
       "    <tr>\n",
       "      <th>722901</th>\n",
       "      <td>3</td>\n",
       "      <td>2.0</td>\n",
       "      <td>1755</td>\n",
       "      <td>478054</td>\n",
       "      <td>1944</td>\n",
       "      <td>5785.01</td>\n",
       "      <td>6037</td>\n",
       "      <td>398734.974807</td>\n",
       "      <td>388954.043822</td>\n",
       "    </tr>\n",
       "    <tr>\n",
       "      <th>821001</th>\n",
       "      <td>3</td>\n",
       "      <td>1.0</td>\n",
       "      <td>1188</td>\n",
       "      <td>72975</td>\n",
       "      <td>1947</td>\n",
       "      <td>482.63</td>\n",
       "      <td>6037</td>\n",
       "      <td>398734.974807</td>\n",
       "      <td>257971.040149</td>\n",
       "    </tr>\n",
       "    <tr>\n",
       "      <th>1388143</th>\n",
       "      <td>4</td>\n",
       "      <td>2.5</td>\n",
       "      <td>2045</td>\n",
       "      <td>224263</td>\n",
       "      <td>1989</td>\n",
       "      <td>2218.78</td>\n",
       "      <td>6059</td>\n",
       "      <td>398734.974807</td>\n",
       "      <td>455947.114483</td>\n",
       "    </tr>\n",
       "  </tbody>\n",
       "</table>\n",
       "<p>1172965 rows × 9 columns</p>\n",
       "</div>"
      ],
      "text/plain": [
       "         bedroomcnt  bathroomcnt  calculatedfinishedsquarefeet  \\\n",
       "421888            3          2.0                          1550   \n",
       "548087            3          3.5                          1800   \n",
       "714717            3          2.0                          1542   \n",
       "749704            3          1.0                          1128   \n",
       "539577            0          1.0                           396   \n",
       "...             ...          ...                           ...   \n",
       "83961             3          2.5                          2460   \n",
       "828457            2          1.5                          1191   \n",
       "722901            3          2.0                          1755   \n",
       "821001            3          1.0                          1188   \n",
       "1388143           4          2.5                          2045   \n",
       "\n",
       "         taxvaluedollarcnt  yearbuilt  taxamount  fips       baseline  \\\n",
       "421888              357034       1961    4418.72  6037  398734.974807   \n",
       "548087              287774       1996    2798.18  6059  398734.974807   \n",
       "714717              588738       1923    7210.51  6037  398734.974807   \n",
       "749704              290984       1952    3622.02  6037  398734.974807   \n",
       "539577               34541       1942     579.61  6037  398734.974807   \n",
       "...                    ...        ...        ...   ...            ...   \n",
       "83961               463327       1966    5183.18  6059  398734.974807   \n",
       "828457              517777       1987    5353.78  6059  398734.974807   \n",
       "722901              478054       1944    5785.01  6037  398734.974807   \n",
       "821001               72975       1947     482.63  6037  398734.974807   \n",
       "1388143             224263       1989    2218.78  6059  398734.974807   \n",
       "\n",
       "                  yhat  \n",
       "421888   341596.873182  \n",
       "548087   399349.520304  \n",
       "714717   339748.788474  \n",
       "749704   244110.404839  \n",
       "539577    75010.654066  \n",
       "...                ...  \n",
       "83961    551816.508706  \n",
       "828457   258664.071914  \n",
       "722901   388954.043822  \n",
       "821001   257971.040149  \n",
       "1388143  455947.114483  \n",
       "\n",
       "[1172965 rows x 9 columns]"
      ]
     },
     "execution_count": 44,
     "metadata": {},
     "output_type": "execute_result"
    }
   ],
   "source": [
    "# Now we fit a regression model using OLS method.\n",
    "# OLS = ordinary least squares.\n",
    "\n",
    "# create the model object\n",
    "lm = LinearRegression(normalize=True)\n",
    "\n",
    "# fit the model to training data\n",
    "lm.fit(train[['calculatedfinishedsquarefeet']], train.taxvaluedollarcnt)\n",
    "\n",
    "# make prediction\n",
    "train['yhat'] = lm.predict(train[['calculatedfinishedsquarefeet']])\n",
    "\n",
    "train"
   ]
  },
  {
   "cell_type": "code",
   "execution_count": 46,
   "id": "4f17a45d",
   "metadata": {},
   "outputs": [
    {
     "data": {
      "text/plain": [
       "Text(0.5, 1.0, 'Baseline and OLS regression model')"
      ]
     },
     "execution_count": 46,
     "metadata": {},
     "output_type": "execute_result"
    },
    {
     "data": {
      "image/png": "[encoded data removed]",
      "text/plain": [
       "<Figure size 720x432 with 1 Axes>"
      ]
     },
     "metadata": {
      "needs_background": "light"
     },
     "output_type": "display_data"
    }
   ],
   "source": [
    "#visualize the data\n",
    "\n",
    "fig = plt.figure(figsize = (10,6))\n",
    "plt.scatter(train.calculatedfinishedsquarefeet, train.taxvaluedollarcnt)\n",
    "plt.axhline(train.taxvaluedollarcnt.mean(), ls = ':')\n",
    "plt.plot(train.calculatedfinishedsquarefeet, train.yhat, color='m')\n",
    "plt.text(42,2.75, 'baseline(mean)')\n",
    "plt.text(35,5.65, 'Regression model')\n",
    "plt.xlabel('x = calculatedfinishedsquarefeet')\n",
    "plt.ylabel('y = taxvaluedollarcnt')\n",
    "plt.title('Baseline and OLS regression model')"
   ]
  },
  {
   "cell_type": "code",
   "execution_count": 47,
   "id": "8e7b22f7",
   "metadata": {},
   "outputs": [],
   "source": [
    "# 3. Plot the residuals for the linear regression model that you made.\n",
    "train['residual'] = train.taxvaluedollarcnt - train.yhat\n",
    "train['baseline_residual'] = train.taxvaluedollarcnt - train.baseline"
   ]
  },
  {
   "cell_type": "code",
   "execution_count": 48,
   "id": "eb869a86",
   "metadata": {},
   "outputs": [
    {
     "data": {
      "text/html": [
       "<div>\n",
       "<style scoped>\n",
       "    .dataframe tbody tr th:only-of-type {\n",
       "        vertical-align: middle;\n",
       "    }\n",
       "\n",
       "    .dataframe tbody tr th {\n",
       "        vertical-align: top;\n",
       "    }\n",
       "\n",
       "    .dataframe thead th {\n",
       "        text-align: right;\n",
       "    }\n",
       "</style>\n",
       "<table border=\"1\" class=\"dataframe\">\n",
       "  <thead>\n",
       "    <tr style=\"text-align: right;\">\n",
       "      <th></th>\n",
       "      <th>bedroomcnt</th>\n",
       "      <th>bathroomcnt</th>\n",
       "      <th>calculatedfinishedsquarefeet</th>\n",
       "      <th>taxvaluedollarcnt</th>\n",
       "      <th>yearbuilt</th>\n",
       "      <th>taxamount</th>\n",
       "      <th>fips</th>\n",
       "      <th>baseline</th>\n",
       "      <th>yhat</th>\n",
       "      <th>residual</th>\n",
       "      <th>baseline_residual</th>\n",
       "    </tr>\n",
       "  </thead>\n",
       "  <tbody>\n",
       "    <tr>\n",
       "      <th>421888</th>\n",
       "      <td>3</td>\n",
       "      <td>2.0</td>\n",
       "      <td>1550</td>\n",
       "      <td>357034</td>\n",
       "      <td>1961</td>\n",
       "      <td>4418.72</td>\n",
       "      <td>6037</td>\n",
       "      <td>398734.974807</td>\n",
       "      <td>341596.873182</td>\n",
       "      <td>15437.126818</td>\n",
       "      <td>-41700.974807</td>\n",
       "    </tr>\n",
       "    <tr>\n",
       "      <th>548087</th>\n",
       "      <td>3</td>\n",
       "      <td>3.5</td>\n",
       "      <td>1800</td>\n",
       "      <td>287774</td>\n",
       "      <td>1996</td>\n",
       "      <td>2798.18</td>\n",
       "      <td>6059</td>\n",
       "      <td>398734.974807</td>\n",
       "      <td>399349.520304</td>\n",
       "      <td>-111575.520304</td>\n",
       "      <td>-110960.974807</td>\n",
       "    </tr>\n",
       "    <tr>\n",
       "      <th>714717</th>\n",
       "      <td>3</td>\n",
       "      <td>2.0</td>\n",
       "      <td>1542</td>\n",
       "      <td>588738</td>\n",
       "      <td>1923</td>\n",
       "      <td>7210.51</td>\n",
       "      <td>6037</td>\n",
       "      <td>398734.974807</td>\n",
       "      <td>339748.788474</td>\n",
       "      <td>248989.211526</td>\n",
       "      <td>190003.025193</td>\n",
       "    </tr>\n",
       "    <tr>\n",
       "      <th>749704</th>\n",
       "      <td>3</td>\n",
       "      <td>1.0</td>\n",
       "      <td>1128</td>\n",
       "      <td>290984</td>\n",
       "      <td>1952</td>\n",
       "      <td>3622.02</td>\n",
       "      <td>6037</td>\n",
       "      <td>398734.974807</td>\n",
       "      <td>244110.404839</td>\n",
       "      <td>46873.595161</td>\n",
       "      <td>-107750.974807</td>\n",
       "    </tr>\n",
       "    <tr>\n",
       "      <th>539577</th>\n",
       "      <td>0</td>\n",
       "      <td>1.0</td>\n",
       "      <td>396</td>\n",
       "      <td>34541</td>\n",
       "      <td>1942</td>\n",
       "      <td>579.61</td>\n",
       "      <td>6037</td>\n",
       "      <td>398734.974807</td>\n",
       "      <td>75010.654066</td>\n",
       "      <td>-40469.654066</td>\n",
       "      <td>-364193.974807</td>\n",
       "    </tr>\n",
       "  </tbody>\n",
       "</table>\n",
       "</div>"
      ],
      "text/plain": [
       "        bedroomcnt  bathroomcnt  calculatedfinishedsquarefeet  \\\n",
       "421888           3          2.0                          1550   \n",
       "548087           3          3.5                          1800   \n",
       "714717           3          2.0                          1542   \n",
       "749704           3          1.0                          1128   \n",
       "539577           0          1.0                           396   \n",
       "\n",
       "        taxvaluedollarcnt  yearbuilt  taxamount  fips       baseline  \\\n",
       "421888             357034       1961    4418.72  6037  398734.974807   \n",
       "548087             287774       1996    2798.18  6059  398734.974807   \n",
       "714717             588738       1923    7210.51  6037  398734.974807   \n",
       "749704             290984       1952    3622.02  6037  398734.974807   \n",
       "539577              34541       1942     579.61  6037  398734.974807   \n",
       "\n",
       "                 yhat       residual  baseline_residual  \n",
       "421888  341596.873182   15437.126818      -41700.974807  \n",
       "548087  399349.520304 -111575.520304     -110960.974807  \n",
       "714717  339748.788474  248989.211526      190003.025193  \n",
       "749704  244110.404839   46873.595161     -107750.974807  \n",
       "539577   75010.654066  -40469.654066     -364193.974807  "
      ]
     },
     "execution_count": 48,
     "metadata": {},
     "output_type": "execute_result"
    }
   ],
   "source": [
    "train.head()"
   ]
  },
  {
   "cell_type": "code",
   "execution_count": 49,
   "id": "6b1b6eb1",
   "metadata": {},
   "outputs": [
    {
     "data": {
      "image/png": "[encoded data removed]",
      "text/plain": [
       "<Figure size 432x288 with 1 Axes>"
      ]
     },
     "metadata": {
      "needs_background": "light"
     },
     "output_type": "display_data"
    }
   ],
   "source": [
    "#should only be left with random noise: ϵ\n",
    "#after removing linear trend\n",
    "plt.scatter(train.calculatedfinishedsquarefeet, train.residual)\n",
    "plt.axhline(y = 0, ls = ':')\n",
    "plt.title('OLS model residuals');\n",
    "\n"
   ]
  },
  {
   "cell_type": "code",
   "execution_count": 50,
   "id": "2936d003",
   "metadata": {},
   "outputs": [
    {
     "data": {
      "image/png": "[encoded data removed]",
      "text/plain": [
       "<Figure size 432x288 with 1 Axes>"
      ]
     },
     "metadata": {
      "needs_background": "light"
     },
     "output_type": "display_data"
    }
   ],
   "source": [
    "plt.scatter(train.taxvaluedollarcnt, train.residual)\n",
    "plt.axhline(y = 0, ls = ':')\n",
    "plt.title('OLS model residuals');"
   ]
  },
  {
   "cell_type": "code",
   "execution_count": 51,
   "id": "346a6d77",
   "metadata": {},
   "outputs": [
    {
     "data": {
      "image/png": "[encoded data removed]",
      "text/plain": [
       "<Figure size 432x288 with 1 Axes>"
      ]
     },
     "metadata": {
      "needs_background": "light"
     },
     "output_type": "display_data"
    }
   ],
   "source": [
    "plt.scatter(train.calculatedfinishedsquarefeet, train.baseline_residual)\n",
    "plt.axhline(y = 0, ls = ':')\n",
    "plt.title('OLS model residuals');"
   ]
  },
  {
   "cell_type": "markdown",
   "id": "e653cfe8",
   "metadata": {},
   "source": [
    "#### 4. \n",
    "    -Calculate the:\n",
    "    -mean squared error (MSE)\n",
    "    -sum of squared errors (SSE)\n",
    "    -root mean squared error (RMSE)\n",
    "    -total sum of squares (TSS)\n",
    "    -TSS = SSE_baseline\n",
    "    -TSS = SSE + ESS\n",
    "    explained sum of squares (R2)\n",
    "\n",
    "    -R^2 = ESS/TSS\n",
    "    -R^2 = 1 - SSE/TSS \n",
    "(since ESS + SSE = TSS)\n",
    "for your model."
   ]
  },
  {
   "cell_type": "code",
   "execution_count": 52,
   "id": "730c5561",
   "metadata": {},
   "outputs": [
    {
     "name": "stdout",
     "output_type": "stream",
     "text": [
      "MSE: 64911583554.72536\n",
      "MSE baseline: 98437918521.73708\n"
     ]
    }
   ],
   "source": [
    "# Mean Squared Error (MSE) via sklearn\n",
    "MSE = mean_squared_error(train.taxvaluedollarcnt, train.yhat)\n",
    "MSE_baseline = mean_squared_error(train.taxvaluedollarcnt, train.baseline)\n",
    "\n",
    "print(f\"MSE: {MSE}\") \n",
    "print(f\"MSE baseline: {MSE_baseline}\") "
   ]
  },
  {
   "cell_type": "code",
   "execution_count": 53,
   "id": "11fcd090",
   "metadata": {},
   "outputs": [
    {
     "name": "stdout",
     "output_type": "stream",
     "text": [
      "SSE: 7.613901560426843e+16\n",
      "SSE baseline: 1.1546423309884933e+17\n"
     ]
    }
   ],
   "source": [
    "# Sum of Squared Errors (SSE)\n",
    "SSE = MSE * len(train)\n",
    "SSE_baseline = MSE_baseline * len(train)\n",
    "\n",
    "print(f\"SSE: {SSE}\") \n",
    "print(f\"SSE baseline: {SSE_baseline}\") "
   ]
  },
  {
   "cell_type": "code",
   "execution_count": 54,
   "id": "412921a3",
   "metadata": {},
   "outputs": [
    {
     "name": "stdout",
     "output_type": "stream",
     "text": [
      "RMSE: 254777.5177576023\n",
      "RMSE baseline: 313748.17692177446\n"
     ]
    }
   ],
   "source": [
    "# Root Mean Squared Errors (RMSE)\n",
    "RMSE = sqrt(MSE)\n",
    "RMSE_baseline = sqrt(MSE_baseline)\n",
    "\n",
    "print(f\"RMSE: {RMSE}\") \n",
    "print(f\"RMSE baseline: {RMSE_baseline}\") "
   ]
  },
  {
   "cell_type": "code",
   "execution_count": 55,
   "id": "bdd79ab1",
   "metadata": {},
   "outputs": [
    {
     "name": "stdout",
     "output_type": "stream",
     "text": [
      "TSS: 1.1546423309884933e+17 :SSE_baseline\n"
     ]
    }
   ],
   "source": [
    "# Total sum of Squares (TSS)\n",
    "TSS = SSE_baseline\n",
    "print(f\"TSS: {TSS} :SSE_baseline\") "
   ]
  },
  {
   "cell_type": "code",
   "execution_count": 56,
   "id": "376ab7e1",
   "metadata": {},
   "outputs": [
    {
     "name": "stdout",
     "output_type": "stream",
     "text": [
      "ESS: 3.93252174945809e+16\n"
     ]
    }
   ],
   "source": [
    "# Explained Sum of Squares (ESS) AKA: 'Explained Error'\n",
    "ESS = TSS - SSE\n",
    "\n",
    "print(f\"ESS: {ESS}\") "
   ]
  },
  {
   "cell_type": "code",
   "execution_count": 57,
   "id": "7d4a95b6",
   "metadata": {},
   "outputs": [
    {
     "name": "stdout",
     "output_type": "stream",
     "text": [
      "R2: 0.34058354209926156\n"
     ]
    }
   ],
   "source": [
    "# R^2\n",
    "R2 = 1 - (SSE/TSS)\n",
    "\n",
    "print(f\"R2: {R2}\") "
   ]
  },
  {
   "cell_type": "code",
   "execution_count": 58,
   "id": "afa69ed6",
   "metadata": {},
   "outputs": [
    {
     "name": "stdout",
     "output_type": "stream",
     "text": [
      "R2: 0.3405835420992615\n"
     ]
    }
   ],
   "source": [
    "# R^2\n",
    "R2_alt = ESS/TSS\n",
    "\n",
    "print(f\"R2: {R2_alt}\") "
   ]
  },
  {
   "cell_type": "markdown",
   "id": "c824b7a4",
   "metadata": {},
   "source": [
    "### 5. Calculate\n",
    "    sum of squared errors (SSE_baseline)\n",
    "    mean squared error (MSE_baseline)\n",
    "    root mean squared error (RMSE_baseline)\n",
    "    \n",
    "    for the baseline model (i.e. a model that always predicts the average taxvaluedollarcnt amount)."
   ]
  },
  {
   "cell_type": "code",
   "execution_count": 59,
   "id": "5565a05a",
   "metadata": {},
   "outputs": [
    {
     "name": "stdout",
     "output_type": "stream",
     "text": [
      "SSE baseline: 1.1546423309884933e+17\n",
      "MSE baseline: 98437918521.73708\n",
      "RMSE baseline: 313748.17692177446\n"
     ]
    }
   ],
   "source": [
    "print(f\"SSE baseline: {SSE_baseline}\") \n",
    "print(f\"MSE baseline: {MSE_baseline}\") \n",
    "print(f\"RMSE baseline: {RMSE_baseline}\") "
   ]
  },
  {
   "cell_type": "markdown",
   "id": "69988caa",
   "metadata": {},
   "source": [
    "### 6. Write python code that\n",
    "    -compares the sum of squared errors for your model (SSE) against the sum of squared errors for the baseline model (SSE_baseline) and\n",
    "    -outputs whether or not your model performs better than the baseline model"
   ]
  },
  {
   "cell_type": "code",
   "execution_count": 60,
   "id": "ca8ab3ed",
   "metadata": {},
   "outputs": [
    {
     "name": "stdout",
     "output_type": "stream",
     "text": [
      "Linear Regression Model's SSE 7.613901560426843e+16 performs better than the Baseline SSE 1.1546423309884933e+17.\n"
     ]
    }
   ],
   "source": [
    "if (SSE < SSE_baseline):\n",
    "    print(f\"Linear Regression Model's SSE {round(SSE, 3)} performs better than the Baseline SSE {round(SSE_baseline, 3)}.\")\n",
    "        \n",
    "else:\n",
    "    print(f\"The Baseline SSE {round(SSE_baseline, 3)} performs better than the Linear Regression Model's SSE {round(SSE, 3)}.\")\n",
    "    "
   ]
  },
  {
   "cell_type": "markdown",
   "id": "db0e51cb",
   "metadata": {},
   "source": [
    "### 7. What is the amount of variance explained in your model?"
   ]
  },
  {
   "cell_type": "code",
   "execution_count": 61,
   "id": "68e37740",
   "metadata": {},
   "outputs": [
    {
     "name": "stdout",
     "output_type": "stream",
     "text": [
      "R2: 0.34058354209926156\n"
     ]
    }
   ],
   "source": [
    "print(f\"R2: {R2}\")"
   ]
  },
  {
   "cell_type": "code",
   "execution_count": 63,
   "id": "9f3fe030",
   "metadata": {},
   "outputs": [],
   "source": [
    "# ols_model.summary()"
   ]
  },
  {
   "cell_type": "code",
   "execution_count": 70,
   "id": "aa187ab0",
   "metadata": {},
   "outputs": [
    {
     "data": {
      "text/plain": [
       "0.34058354209926156"
      ]
     },
     "execution_count": 70,
     "metadata": {},
     "output_type": "execute_result"
    }
   ],
   "source": [
    "# calculate R2 the easy way Note: explained_variance_score == r2_score:\n",
    "\n",
    "from sklearn.metrics import r2_score\n",
    "r2_score(train.taxvaluedollarcnt, train.yhat)"
   ]
  },
  {
   "cell_type": "markdown",
   "id": "cec021ae",
   "metadata": {},
   "source": [
    "### 8. is your model significantly better than the baseline model?"
   ]
  },
  {
   "cell_type": "code",
   "execution_count": 65,
   "id": "3da124b8",
   "metadata": {},
   "outputs": [],
   "source": [
    "null_hypothesis = \"β1 = β2: The baseline and linear regression models are the same.\"\n",
    "alt_hypothesis = \"β1 != β2: The baseline and linear regression models are NOT the same.\""
   ]
  },
  {
   "cell_type": "code",
   "execution_count": 66,
   "id": "3f81473d",
   "metadata": {},
   "outputs": [],
   "source": [
    "α = 0.05"
   ]
  },
  {
   "cell_type": "code",
   "execution_count": 73,
   "id": "6033b6a0",
   "metadata": {
    "scrolled": true
   },
   "outputs": [
    {
     "data": {
      "text/plain": [
       "(array([            nan, 605826.39166024]), array([nan,  0.]))"
      ]
     },
     "execution_count": 73,
     "metadata": {},
     "output_type": "execute_result"
    }
   ],
   "source": [
    "from sklearn.feature_selection import f_regression\n",
    "\n",
    "f_regression(X, Y)"
   ]
  },
  {
   "cell_type": "code",
   "execution_count": null,
   "id": "4ad9305c",
   "metadata": {},
   "outputs": [],
   "source": []
  },
  {
   "cell_type": "code",
   "execution_count": null,
   "id": "76c5941e",
   "metadata": {},
   "outputs": [],
   "source": []
  },
  {
   "cell_type": "code",
   "execution_count": null,
   "id": "3f793fbb",
   "metadata": {},
   "outputs": [],
   "source": [
    "# import pandas\n",
    "# import statsmodels.api as sm\n",
    "# df = pandas.read_csv(\"restaurants.csv\")\n",
    "# X = df['Food_Quality']\n",
    "# Y = df['Price']\n",
    "# X = sm.add_constant(X)\n",
    "# model = sm.OLS(Y, X).fit()\n",
    "# summary = model.summary()\n",
    "# print(summary)"
   ]
  },
  {
   "cell_type": "code",
   "execution_count": 71,
   "id": "36182e2a",
   "metadata": {},
   "outputs": [],
   "source": [
    "import statsmodels.api as sm"
   ]
  },
  {
   "cell_type": "code",
   "execution_count": 72,
   "id": "f019f9c0",
   "metadata": {
    "scrolled": false
   },
   "outputs": [
    {
     "name": "stdout",
     "output_type": "stream",
     "text": [
      "                            OLS Regression Results                            \n",
      "==============================================================================\n",
      "Dep. Variable:      taxvaluedollarcnt   R-squared:                       0.341\n",
      "Model:                            OLS   Adj. R-squared:                  0.341\n",
      "Method:                 Least Squares   F-statistic:                 6.058e+05\n",
      "Date:                Thu, 21 Jul 2022   Prob (F-statistic):               0.00\n",
      "Time:                        13:19:12   Log-Likelihood:            -1.6266e+07\n",
      "No. Observations:             1172965   AIC:                         3.253e+07\n",
      "Df Residuals:                 1172963   BIC:                         3.253e+07\n",
      "Df Model:                           1                                         \n",
      "Covariance Type:            nonrobust                                         \n",
      "================================================================================================\n",
      "                                   coef    std err          t      P>|t|      [0.025      0.975]\n",
      "------------------------------------------------------------------------------------------------\n",
      "const                        -1.647e+04    583.010    -28.249      0.000   -1.76e+04   -1.53e+04\n",
      "calculatedfinishedsquarefeet   231.0106      0.297    778.349      0.000     230.429     231.592\n",
      "==============================================================================\n",
      "Omnibus:                   386148.669   Durbin-Watson:                   2.001\n",
      "Prob(Omnibus):                  0.000   Jarque-Bera (JB):          7429550.568\n",
      "Skew:                           1.103   Prob(JB):                         0.00\n",
      "Kurtosis:                      15.130   Cond. No.                     4.87e+03\n",
      "==============================================================================\n",
      "\n",
      "Notes:\n",
      "[1] Standard Errors assume that the covariance matrix of the errors is correctly specified.\n",
      "[2] The condition number is large, 4.87e+03. This might indicate that there are\n",
      "strong multicollinearity or other numerical problems.\n"
     ]
    }
   ],
   "source": [
    "X = train['calculatedfinishedsquarefeet']\n",
    "Y = train['taxvaluedollarcnt']\n",
    "X = sm.add_constant(X)\n",
    "model = sm.OLS(Y, X).fit()\n",
    "summary = model.summary()\n",
    "print(summary)"
   ]
  },
  {
   "cell_type": "code",
   "execution_count": null,
   "id": "3489c0eb",
   "metadata": {},
   "outputs": [],
   "source": []
  },
  {
   "cell_type": "markdown",
   "id": "25e969cd",
   "metadata": {},
   "source": [
    "### Create a file named evaluate.py that contains the following functions.\n",
    "\n",
    "    -plot_residuals(y, yhat): creates a residual plot\n",
    "    -regression_errors(y, yhat): returns the following values:\n",
    "    -sum of squared errors (SSE)\n",
    "    -explained sum of squares (ESS)\n",
    "    -total sum of squares (TSS)\n",
    "    -mean squared error (MSE)\n",
    "    -root mean squared error (RMSE)\n",
    "    -baseline_mean_errors(y): computes the SSE, MSE, and RMSE for the baseline model\n",
    "    -better_than_baseline(y, yhat): returns true if your model performs better than the baseline, otherwise false"
   ]
  },
  {
   "cell_type": "code",
   "execution_count": null,
   "id": "f7047df5",
   "metadata": {},
   "outputs": [],
   "source": [
    "# def sse_vs_baseline(df, y, x):\n",
    "#     '''\n",
    "    \n",
    "#     '''\n",
    "#     df['baseline'] = df[y].mean()\n",
    "    \n",
    "#     ols_model = ols('y ~ x', data=df).fit()\n",
    "#     df['yhat'] = ols_model.predict(df[x])\n",
    "    \n",
    "#     MSE = mean_squared_error(df[y], df.yhat)\n",
    "#     MSE_baseline = mean_squared_error(df[y], df.baseline)\n",
    "    \n",
    "#     SSE = MSE * len(df)\n",
    "#     SSE_baseline = MSE_baseline * len(df)\n",
    "    \n",
    "#     if (SSE < SSE_baseline):\n",
    "#         print(f\"Linear Regression Model's SSE {round(SSE, 3)} performs better than the Baseline SSE {round(SSE_baseline, 3)}.\")\n",
    "        \n",
    "#     else:\n",
    "#         print(f\"The Baseline SSE {round(SSE_baseline, 3)} performs better than the Linear Regression Model's SSE {round(SSE, 3)}.\")\n",
    "        \n",
    "    \n",
    "    "
   ]
  },
  {
   "cell_type": "code",
   "execution_count": null,
   "id": "ed1702bd",
   "metadata": {},
   "outputs": [],
   "source": [
    "# # Now we fit a regression model using OLS method.\n",
    "# # OLS = ordinary least squares.\n",
    "\n",
    "# # create the model object\n",
    "# lm = LinearRegression(normalize=True)\n",
    "\n",
    "# # fit the model to training data\n",
    "# lm.fit(train[['calculatedfinishedsquarefeet']], train.taxvaluedollarcnt)\n",
    "\n",
    "# # make prediction\n",
    "# train['yhat'] = lm.predict(train[['calculatedfinishedsquarefeet']])\n",
    "\n",
    "# train"
   ]
  },
  {
   "cell_type": "code",
   "execution_count": null,
   "id": "52adc9ef",
   "metadata": {},
   "outputs": [],
   "source": [
    "def base():\n",
    "    '''\n",
    "    \n",
    "    '''\n",
    "    \n",
    "    x = df['{var}']\n",
    "    y = df['{target}']"
   ]
  },
  {
   "cell_type": "code",
   "execution_count": 74,
   "id": "a40d69fe",
   "metadata": {},
   "outputs": [],
   "source": [
    "def plot_residuals(target, yhat):\n",
    "    '''\n",
    "    plot_residuals will take in a target series and prediction series\n",
    "    and plot the residuals as a scatterplot.\n",
    "    '''\n",
    "    \n",
    "    residual = target - yhat\n",
    "    \n",
    "    plt.scatter(target, residual)\n",
    "    plt.axhline(y = 0, ls = ':')\n",
    "    plt.xlabel(\"target\")\n",
    "    plt.ylabel(\"residual\")\n",
    "    plt.title('Residual Plot')\n",
    "    plt.show"
   ]
  },
  {
   "cell_type": "code",
   "execution_count": 76,
   "id": "8615a808",
   "metadata": {},
   "outputs": [
    {
     "data": {
      "image/png": "[encoded data removed]",
      "text/plain": [
       "<Figure size 432x288 with 1 Axes>"
      ]
     },
     "metadata": {
      "needs_background": "light"
     },
     "output_type": "display_data"
    }
   ],
   "source": [
    "plot_residuals(train.taxvaluedollarcnt, train.yhat)"
   ]
  },
  {
   "cell_type": "code",
   "execution_count": 77,
   "id": "38a77199",
   "metadata": {},
   "outputs": [
    {
     "data": {
      "image/png": "[encoded data removed]",
      "text/plain": [
       "<Figure size 432x288 with 1 Axes>"
      ]
     },
     "metadata": {
      "needs_background": "light"
     },
     "output_type": "display_data"
    }
   ],
   "source": [
    "plot_residuals(train.taxvaluedollarcnt, train.baseline)"
   ]
  },
  {
   "cell_type": "code",
   "execution_count": 78,
   "id": "933b5c2f",
   "metadata": {},
   "outputs": [],
   "source": [
    "def regression_errors(target, yhat):\n",
    "    '''\n",
    "    regression_errors takes in a target and prediction series\n",
    "    and prints out the regression error metrics.\n",
    "    '''\n",
    "    residual = target - yhat\n",
    "    \n",
    "    mse = mean_squared_error(target, yhat)\n",
    "    sse = (residual **2).sum()\n",
    "    rmse = sqrt(mse)\n",
    "    tss = ((target - yhat.mean()) ** 2).sum()\n",
    "    ess = ((yhat - target.mean()) ** 2).sum()\n",
    "    print(f\"\"\"\n",
    "    MSE: {round(mse,2)}\n",
    "    SSE: {round(sse,2)}\n",
    "    RMSE: {round(rmse,2)}\n",
    "    TSS: {round(tss,2)}\n",
    "    ESS: {round(ess,2)}\n",
    "    \"\"\")\n",
    "    "
   ]
  },
  {
   "cell_type": "code",
   "execution_count": 79,
   "id": "af2843dc",
   "metadata": {},
   "outputs": [
    {
     "name": "stdout",
     "output_type": "stream",
     "text": [
      "\n",
      "    MSE: 64911583554.73\n",
      "    SSE: 7.613901560426843e+16\n",
      "    RMSE: 254777.52\n",
      "    TSS: 1.1546423309884933e+17\n",
      "    ESS: 3.93252174945813e+16\n",
      "    \n"
     ]
    }
   ],
   "source": [
    "regression_errors(train.taxvaluedollarcnt, train.yhat)"
   ]
  },
  {
   "cell_type": "code",
   "execution_count": 80,
   "id": "fb1ba7fe",
   "metadata": {},
   "outputs": [],
   "source": [
    "def baseline_mean_errors(target):\n",
    "    '''\n",
    "    baseline_mean_errors takes in a target \n",
    "    and prints out the regression error metrics for the baseline.\n",
    "    '''\n",
    "    baseline = target.mean()\n",
    "    \n",
    "    residual = target - (baseline)\n",
    "    \n",
    "    sse_baseline = (residual **2).sum()\n",
    "    mse_baseline = sse_baseline * len(target)\n",
    "    rmse_baseline = sqrt(mse_baseline)\n",
    "    \n",
    "    print(f\"\"\"\n",
    "    MSE_baseline: {round(MSE_baseline,2)}\n",
    "    SSE_baseline: {round(SSE_baseline,2)}\n",
    "    RMSE_baseline: {round(RMSE_baseline,2)}\n",
    "    \"\"\")"
   ]
  },
  {
   "cell_type": "code",
   "execution_count": 81,
   "id": "362cb876",
   "metadata": {},
   "outputs": [
    {
     "name": "stdout",
     "output_type": "stream",
     "text": [
      "\n",
      "    MSE_baseline: 98437918521.74\n",
      "    SSE_baseline: 1.1546423309884933e+17\n",
      "    RMSE_baseline: 313748.18\n",
      "    \n"
     ]
    }
   ],
   "source": [
    "baseline_mean_errors(train.taxvaluedollarcnt)"
   ]
  },
  {
   "cell_type": "code",
   "execution_count": 82,
   "id": "0bcf5dab",
   "metadata": {},
   "outputs": [],
   "source": [
    "def better_than_baseline(target, yhat):\n",
    "    '''\n",
    "    better_than_baseline takes in a target and prediction \n",
    "    and returns boolean answering if the model is better than the baseline.\n",
    "    '''\n",
    "    \n",
    "    rmse_baseline = sqrt((((target - (target.mean())) **2).sum()) * len(target))\n",
    "    rmse_model = sqrt((((target - yhat) **2).sum()) * len(target))\n",
    "    return rmse_model < rmse_baseline"
   ]
  },
  {
   "cell_type": "code",
   "execution_count": 83,
   "id": "6478d27d",
   "metadata": {},
   "outputs": [
    {
     "data": {
      "text/plain": [
       "True"
      ]
     },
     "execution_count": 83,
     "metadata": {},
     "output_type": "execute_result"
    }
   ],
   "source": [
    "better_than_baseline(train.taxvaluedollarcnt, train.yhat)"
   ]
  },
  {
   "cell_type": "code",
   "execution_count": 84,
   "id": "caaade36",
   "metadata": {},
   "outputs": [],
   "source": [
    "def model_significance(ols_model):\n",
    "    return {\n",
    "        'r^2 -- variance explained': ols_model.rsquared,\n",
    "        'p-value -- P(data|model == baseline)': ols_model.f_pvalue,\n",
    "    }"
   ]
  },
  {
   "cell_type": "code",
   "execution_count": 85,
   "id": "2418ab46",
   "metadata": {},
   "outputs": [
    {
     "ename": "NameError",
     "evalue": "name 'ols_model' is not defined",
     "output_type": "error",
     "traceback": [
      "\u001b[1;31m---------------------------------------------------------------------------\u001b[0m",
      "\u001b[1;31mNameError\u001b[0m                                 Traceback (most recent call last)",
      "Input \u001b[1;32mIn [85]\u001b[0m, in \u001b[0;36m<cell line: 1>\u001b[1;34m()\u001b[0m\n\u001b[1;32m----> 1\u001b[0m model_significance(\u001b[43mols_model\u001b[49m)\n",
      "\u001b[1;31mNameError\u001b[0m: name 'ols_model' is not defined"
     ]
    }
   ],
   "source": [
    "model_significance(ols_model)"
   ]
  },
  {
   "cell_type": "code",
   "execution_count": 86,
   "id": "943ad9f0",
   "metadata": {},
   "outputs": [],
   "source": [
    "def residuals(actual, predicted):\n",
    "    return actual - predicted\n",
    "\n",
    "def sse(actual, predicted):\n",
    "    return (residuals(actual, predicted) **2).sum()\n",
    "\n",
    "def mse(actual, predicted):\n",
    "    n = actual.shape[0]\n",
    "    return sse(actual, predicted) / n\n",
    "\n",
    "def rmse(actual, predicted):\n",
    "    return sqrt(mse(actual, predicted))\n",
    "\n",
    "def ess(actual, predicted):\n",
    "    return ((predicted - actual.mean()) ** 2).sum()\n",
    "\n",
    "def tss(actual):\n",
    "    return ((actual - actual.mean()) ** 2).sum()"
   ]
  },
  {
   "cell_type": "code",
   "execution_count": 87,
   "id": "4b439ea2",
   "metadata": {},
   "outputs": [],
   "source": [
    "def reg_error_metrics(target, yhat):\n",
    "    '''\n",
    "    reg_error_metrics takes in target and prediction series \n",
    "    and returns a dataframe that contains the SSE/MSE/RMSE metrics \n",
    "    for. both model and baseline\n",
    "    and answers if the model is better than the baseline.\n",
    "    '''\n",
    "    \n",
    "    df = pd.DataFrame(np.array(['SSE', 'MSE','RMSE']), columns=['metric'])\n",
    "    \n",
    "    df['model_error'] = np.array([sse(target, yhat),  mse(target, yhat), rmse(target, yhat)])\n",
    "    \n",
    "    df['baseline_error'] = np.array([sse(target, target.mean()), mse(target, target.mean()), rmse(target, target.mean())])\n",
    "    \n",
    "    df['better_than_baseline'] = df.baseline_error > df.model_error\n",
    "    \n",
    "    df = df.set_index(\"metric\")\n",
    "    \n",
    "    return df"
   ]
  },
  {
   "cell_type": "code",
   "execution_count": 88,
   "id": "ff8916fb",
   "metadata": {},
   "outputs": [
    {
     "data": {
      "text/html": [
       "<div>\n",
       "<style scoped>\n",
       "    .dataframe tbody tr th:only-of-type {\n",
       "        vertical-align: middle;\n",
       "    }\n",
       "\n",
       "    .dataframe tbody tr th {\n",
       "        vertical-align: top;\n",
       "    }\n",
       "\n",
       "    .dataframe thead th {\n",
       "        text-align: right;\n",
       "    }\n",
       "</style>\n",
       "<table border=\"1\" class=\"dataframe\">\n",
       "  <thead>\n",
       "    <tr style=\"text-align: right;\">\n",
       "      <th></th>\n",
       "      <th>model_error</th>\n",
       "      <th>baseline_error</th>\n",
       "      <th>better_than_baseline</th>\n",
       "    </tr>\n",
       "    <tr>\n",
       "      <th>metric</th>\n",
       "      <th></th>\n",
       "      <th></th>\n",
       "      <th></th>\n",
       "    </tr>\n",
       "  </thead>\n",
       "  <tbody>\n",
       "    <tr>\n",
       "      <th>SSE</th>\n",
       "      <td>7.613902e+16</td>\n",
       "      <td>1.154642e+17</td>\n",
       "      <td>True</td>\n",
       "    </tr>\n",
       "    <tr>\n",
       "      <th>MSE</th>\n",
       "      <td>6.491158e+10</td>\n",
       "      <td>9.843792e+10</td>\n",
       "      <td>True</td>\n",
       "    </tr>\n",
       "    <tr>\n",
       "      <th>RMSE</th>\n",
       "      <td>2.547775e+05</td>\n",
       "      <td>3.137482e+05</td>\n",
       "      <td>True</td>\n",
       "    </tr>\n",
       "  </tbody>\n",
       "</table>\n",
       "</div>"
      ],
      "text/plain": [
       "         model_error  baseline_error  better_than_baseline\n",
       "metric                                                    \n",
       "SSE     7.613902e+16    1.154642e+17                  True\n",
       "MSE     6.491158e+10    9.843792e+10                  True\n",
       "RMSE    2.547775e+05    3.137482e+05                  True"
      ]
     },
     "execution_count": 88,
     "metadata": {},
     "output_type": "execute_result"
    }
   ],
   "source": [
    "reg_error_metrics(train.taxvaluedollarcnt, train.yhat)"
   ]
  },
  {
   "cell_type": "code",
   "execution_count": null,
   "id": "67a83015",
   "metadata": {},
   "outputs": [],
   "source": []
  },
  {
   "cell_type": "code",
   "execution_count": null,
   "id": "1fcc0589",
   "metadata": {},
   "outputs": [],
   "source": []
  },
  {
   "cell_type": "code",
   "execution_count": null,
   "id": "a4f1be3a",
   "metadata": {},
   "outputs": [],
   "source": []
  },
  {
   "cell_type": "code",
   "execution_count": 9,
   "id": "4f2a67a6",
   "metadata": {},
   "outputs": [],
   "source": []
  },
  {
   "cell_type": "code",
   "execution_count": null,
   "id": "b7da784e",
   "metadata": {},
   "outputs": [],
   "source": []
  },
  {
   "cell_type": "code",
   "execution_count": null,
   "id": "afd35c6c",
   "metadata": {},
   "outputs": [],
   "source": []
  },
  {
   "cell_type": "code",
   "execution_count": 15,
   "id": "532ffea9",
   "metadata": {
    "scrolled": true
   },
   "outputs": [],
   "source": []
  },
  {
   "cell_type": "code",
   "execution_count": null,
   "id": "46539941",
   "metadata": {},
   "outputs": [],
   "source": []
  },
  {
   "cell_type": "code",
   "execution_count": null,
   "id": "c78fbf03",
   "metadata": {},
   "outputs": [],
   "source": []
  },
  {
   "cell_type": "code",
   "execution_count": null,
   "id": "9785ab7a",
   "metadata": {},
   "outputs": [],
   "source": []
  },
  {
   "cell_type": "code",
   "execution_count": null,
   "id": "88dcab1e",
   "metadata": {},
   "outputs": [],
   "source": []
  },
  {
   "cell_type": "code",
   "execution_count": null,
   "id": "14b90321",
   "metadata": {},
   "outputs": [],
   "source": []
  },
  {
   "cell_type": "code",
   "execution_count": null,
   "id": "6c4f362c",
   "metadata": {},
   "outputs": [],
   "source": [
    "# - Sum of Squared Errors\n",
    "#     - (Residuals**2).sum()\n",
    "# - Explained sum of squares\n",
    "#     -  ((yhat-baseline)**2).sum()\n",
    "# - Total sum of squares\n",
    "#     - (Sum of Squared Errors) + (Explained Sum of Squares)\n",
    "# - Mean Squared Error\n",
    "#     - (Sum of Squared Errors)/(Count of Residuals)\n",
    "# - Root Mean Squared Error\n",
    "#     - $ \\sqrt(Mean Squared Error) $\n"
   ]
  }
 ],
 "metadata": {
  "kernelspec": {
   "display_name": "Python 3 (ipykernel)",
   "language": "python",
   "name": "python3"
  },
  "language_info": {
   "codemirror_mode": {
    "name": "ipython",
    "version": 3
   },
   "file_extension": ".py",
   "mimetype": "text/x-python",
   "name": "python",
   "nbconvert_exporter": "python",
   "pygments_lexer": "ipython3",
   "version": "3.9.12"
  }
 },
 "nbformat": 4,
 "nbformat_minor": 5
}
