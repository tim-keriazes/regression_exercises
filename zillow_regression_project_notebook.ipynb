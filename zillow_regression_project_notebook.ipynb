{
 "cells": [
  {
   "cell_type": "code",
   "execution_count": 97,
   "id": "4b9ca0f3",
   "metadata": {},
   "outputs": [],
   "source": [
    "#imports\n",
    "import pandas as pd\n",
    "import numpy as np\n",
    "import matplotlib.pyplot as plt\n",
    "import warnings\n",
    "import seaborn as sns\n",
    "from sklearn.model_selection import train_test_split\n",
    "from scipy import stats\n",
    "\n",
    "#functions\n",
    "import wrangle as wr\n",
    "import explore as exp\n",
    "import model as mo\n",
    "\n",
    "\n",
    "warnings.filterwarnings(\"ignore\")\n",
    "\n",
    "#evaluate\n",
    "from sklearn.metrics import mean_squared_error, r2_score, explained_variance_score\n",
    "from sklearn.feature_selection import f_regression \n",
    "from statsmodels.formula.api import ols\n",
    "import sklearn.preprocessing\n",
    "\n",
    "#feature engineering\n",
    "from sklearn.feature_selection import SelectKBest, f_regression\n",
    "from sklearn.linear_model import LinearRegression\n",
    "from sklearn.feature_selection import RFE\n",
    "from sklearn.model_selection import train_test_split\n",
    "from sklearn.preprocessing import MinMaxScaler\n",
    "\n",
    "# modeling methods\n",
    "from sklearn.metrics import mean_squared_error\n",
    "from sklearn.linear_model import LinearRegression, LassoLars, TweedieRegressor\n",
    "from sklearn.preprocessing import PolynomialFeatures"
   ]
  },
  {
   "cell_type": "markdown",
   "id": "3c84c3d2",
   "metadata": {},
   "source": [
    "\n",
    "## Acquire Data\n",
    "Read zillow data from MySQL using the get_new_zillow_data() function in wrangle.py"
   ]
  },
  {
   "cell_type": "code",
   "execution_count": 2,
   "id": "8efd9d2c",
   "metadata": {},
   "outputs": [],
   "source": [
    "df = wr.get_new_zillow_data()"
   ]
  },
  {
   "cell_type": "code",
   "execution_count": 3,
   "id": "c02781aa",
   "metadata": {},
   "outputs": [
    {
     "data": {
      "text/html": [
       "<div>\n",
       "<style scoped>\n",
       "    .dataframe tbody tr th:only-of-type {\n",
       "        vertical-align: middle;\n",
       "    }\n",
       "\n",
       "    .dataframe tbody tr th {\n",
       "        vertical-align: top;\n",
       "    }\n",
       "\n",
       "    .dataframe thead th {\n",
       "        text-align: right;\n",
       "    }\n",
       "</style>\n",
       "<table border=\"1\" class=\"dataframe\">\n",
       "  <thead>\n",
       "    <tr style=\"text-align: right;\">\n",
       "      <th></th>\n",
       "      <th>bedroomcnt</th>\n",
       "      <th>bathroomcnt</th>\n",
       "      <th>calculatedfinishedsquarefeet</th>\n",
       "      <th>taxvaluedollarcnt</th>\n",
       "      <th>yearbuilt</th>\n",
       "      <th>taxamount</th>\n",
       "      <th>fips</th>\n",
       "    </tr>\n",
       "  </thead>\n",
       "  <tbody>\n",
       "    <tr>\n",
       "      <th>0</th>\n",
       "      <td>0.0</td>\n",
       "      <td>0.0</td>\n",
       "      <td>NaN</td>\n",
       "      <td>27516.0</td>\n",
       "      <td>NaN</td>\n",
       "      <td>NaN</td>\n",
       "      <td>6037.0</td>\n",
       "    </tr>\n",
       "    <tr>\n",
       "      <th>1</th>\n",
       "      <td>0.0</td>\n",
       "      <td>0.0</td>\n",
       "      <td>NaN</td>\n",
       "      <td>10.0</td>\n",
       "      <td>NaN</td>\n",
       "      <td>NaN</td>\n",
       "      <td>6037.0</td>\n",
       "    </tr>\n",
       "    <tr>\n",
       "      <th>2</th>\n",
       "      <td>0.0</td>\n",
       "      <td>0.0</td>\n",
       "      <td>NaN</td>\n",
       "      <td>10.0</td>\n",
       "      <td>NaN</td>\n",
       "      <td>NaN</td>\n",
       "      <td>6037.0</td>\n",
       "    </tr>\n",
       "    <tr>\n",
       "      <th>3</th>\n",
       "      <td>0.0</td>\n",
       "      <td>0.0</td>\n",
       "      <td>NaN</td>\n",
       "      <td>2108.0</td>\n",
       "      <td>NaN</td>\n",
       "      <td>174.21</td>\n",
       "      <td>6037.0</td>\n",
       "    </tr>\n",
       "    <tr>\n",
       "      <th>4</th>\n",
       "      <td>4.0</td>\n",
       "      <td>2.0</td>\n",
       "      <td>3633.0</td>\n",
       "      <td>296425.0</td>\n",
       "      <td>2005.0</td>\n",
       "      <td>6941.39</td>\n",
       "      <td>6037.0</td>\n",
       "    </tr>\n",
       "  </tbody>\n",
       "</table>\n",
       "</div>"
      ],
      "text/plain": [
       "   bedroomcnt  bathroomcnt  calculatedfinishedsquarefeet  taxvaluedollarcnt  \\\n",
       "0         0.0          0.0                           NaN            27516.0   \n",
       "1         0.0          0.0                           NaN               10.0   \n",
       "2         0.0          0.0                           NaN               10.0   \n",
       "3         0.0          0.0                           NaN             2108.0   \n",
       "4         4.0          2.0                        3633.0           296425.0   \n",
       "\n",
       "   yearbuilt  taxamount    fips  \n",
       "0        NaN        NaN  6037.0  \n",
       "1        NaN        NaN  6037.0  \n",
       "2        NaN        NaN  6037.0  \n",
       "3        NaN     174.21  6037.0  \n",
       "4     2005.0    6941.39  6037.0  "
      ]
     },
     "execution_count": 3,
     "metadata": {},
     "output_type": "execute_result"
    }
   ],
   "source": [
    "#inspect\n",
    "df.head()"
   ]
  },
  {
   "cell_type": "markdown",
   "id": "4e000f00",
   "metadata": {},
   "source": [
    "### Introduction to the data\n",
    "\n",
    "learn about it's size, attributes, and components."
   ]
  },
  {
   "cell_type": "code",
   "execution_count": 4,
   "id": "73d73174",
   "metadata": {},
   "outputs": [
    {
     "name": "stdout",
     "output_type": "stream",
     "text": [
      "<class 'pandas.core.frame.DataFrame'>\n",
      "RangeIndex: 2152863 entries, 0 to 2152862\n",
      "Data columns (total 7 columns):\n",
      " #   Column                        Dtype  \n",
      "---  ------                        -----  \n",
      " 0   bedroomcnt                    float64\n",
      " 1   bathroomcnt                   float64\n",
      " 2   calculatedfinishedsquarefeet  float64\n",
      " 3   taxvaluedollarcnt             float64\n",
      " 4   yearbuilt                     float64\n",
      " 5   taxamount                     float64\n",
      " 6   fips                          float64\n",
      "dtypes: float64(7)\n",
      "memory usage: 115.0 MB\n"
     ]
    }
   ],
   "source": [
    "df.info()"
   ]
  },
  {
   "cell_type": "code",
   "execution_count": 5,
   "id": "940afcbc",
   "metadata": {},
   "outputs": [
    {
     "data": {
      "text/plain": [
       "bedroomcnt                        11\n",
       "bathroomcnt                       11\n",
       "calculatedfinishedsquarefeet    8484\n",
       "taxvaluedollarcnt                493\n",
       "yearbuilt                       9337\n",
       "taxamount                       4442\n",
       "fips                               0\n",
       "dtype: int64"
      ]
     },
     "execution_count": 5,
     "metadata": {},
     "output_type": "execute_result"
    }
   ],
   "source": [
    "#check for blanks/nulls\n",
    "df.isnull().sum()"
   ]
  },
  {
   "cell_type": "code",
   "execution_count": 6,
   "id": "bee3d7fa",
   "metadata": {},
   "outputs": [],
   "source": [
    "def handle_nulls(df):    \n",
    "    # We keep most of the data after dropping nulls\n",
    "    # round(df.dropna().shape[0] / df.shape[0], 4) returned .9941\n",
    "    df = df.dropna()\n",
    "    return df"
   ]
  },
  {
   "cell_type": "code",
   "execution_count": 7,
   "id": "b69bf580",
   "metadata": {},
   "outputs": [],
   "source": [
    "df = wr.handle_nulls(df)"
   ]
  },
  {
   "cell_type": "code",
   "execution_count": 8,
   "id": "b6802205",
   "metadata": {},
   "outputs": [
    {
     "data": {
      "text/plain": [
       "bedroomcnt                      0\n",
       "bathroomcnt                     0\n",
       "calculatedfinishedsquarefeet    0\n",
       "taxvaluedollarcnt               0\n",
       "yearbuilt                       0\n",
       "taxamount                       0\n",
       "fips                            0\n",
       "dtype: int64"
      ]
     },
     "execution_count": 8,
     "metadata": {},
     "output_type": "execute_result"
    }
   ],
   "source": [
    "df.isnull().sum()"
   ]
  },
  {
   "cell_type": "markdown",
   "id": "3965683c",
   "metadata": {},
   "source": [
    "###  optimize data types, clean, handle outliers"
   ]
  },
  {
   "cell_type": "code",
   "execution_count": 9,
   "id": "a88f3435",
   "metadata": {},
   "outputs": [],
   "source": [
    "def optimize_types(df):\n",
    "    # Convert some columns to integers\n",
    "    # fips, yearbuilt, and bedrooms can be integers\n",
    "    df[\"fips\"] = df[\"fips\"].astype(str)\n",
    "    df[\"yearbuilt\"] = df[\"yearbuilt\"].astype(int)\n",
    "    df[\"bedroomcnt\"] = df[\"bedroomcnt\"].astype(int)    \n",
    "    df[\"taxvaluedollarcnt\"] = df[\"taxvaluedollarcnt\"].astype(int)\n",
    "    df[\"calculatedfinishedsquarefeet\"] = df[\"calculatedfinishedsquarefeet\"].astype(int)\n",
    "    return df"
   ]
  },
  {
   "cell_type": "code",
   "execution_count": 10,
   "id": "966359b3",
   "metadata": {},
   "outputs": [],
   "source": [
    "df = wr.optimize_types(df)"
   ]
  },
  {
   "cell_type": "code",
   "execution_count": 11,
   "id": "1adbd432",
   "metadata": {},
   "outputs": [
    {
     "data": {
      "text/plain": [
       "(count    2.140235e+06\n",
       " mean     3.301419e+00\n",
       " std      9.325998e-01\n",
       " min      0.000000e+00\n",
       " 25%      3.000000e+00\n",
       " 50%      3.000000e+00\n",
       " 75%      4.000000e+00\n",
       " max      2.500000e+01\n",
       " Name: bedroomcnt, dtype: float64,\n",
       " count    2.140235e+06\n",
       " mean     2.240352e+00\n",
       " std      9.905489e-01\n",
       " min      0.000000e+00\n",
       " 25%      2.000000e+00\n",
       " 50%      2.000000e+00\n",
       " 75%      3.000000e+00\n",
       " max      3.200000e+01\n",
       " Name: bathroomcnt, dtype: float64,\n",
       " count    2.140235e+06\n",
       " mean     1.863194e+03\n",
       " std      1.221754e+03\n",
       " min      1.000000e+00\n",
       " 25%      1.258000e+03\n",
       " 50%      1.623000e+03\n",
       " 75%      2.208000e+03\n",
       " max      9.525760e+05\n",
       " Name: calculatedfinishedsquarefeet, dtype: float64,\n",
       " count    2.140235e+06\n",
       " mean     4.606416e+05\n",
       " std      6.771576e+05\n",
       " min      2.200000e+01\n",
       " 25%      1.891660e+05\n",
       " 50%      3.282960e+05\n",
       " 75%      5.346060e+05\n",
       " max      9.018846e+07\n",
       " Name: taxvaluedollarcnt, dtype: float64,\n",
       " count    2.140235e+06\n",
       " mean     1.960968e+03\n",
       " std      2.215056e+01\n",
       " min      1.801000e+03\n",
       " 25%      1.949000e+03\n",
       " 50%      1.958000e+03\n",
       " 75%      1.976000e+03\n",
       " max      2.016000e+03\n",
       " Name: yearbuilt, dtype: float64)"
      ]
     },
     "execution_count": 11,
     "metadata": {},
     "output_type": "execute_result"
    }
   ],
   "source": [
    "#what about the outliers\n",
    "df.bedroomcnt.describe(), df.bathroomcnt.describe(), df.calculatedfinishedsquarefeet.describe(),df.taxvaluedollarcnt.describe(),df.yearbuilt.describe()"
   ]
  },
  {
   "cell_type": "code",
   "execution_count": 12,
   "id": "eb569012",
   "metadata": {},
   "outputs": [
    {
     "data": {
      "text/plain": [
       "<AxesSubplot:xlabel='bedroomcnt'>"
      ]
     },
     "execution_count": 12,
     "metadata": {},
     "output_type": "execute_result"
    },
    {
     "data": {
      "image/png": "[encoded data removed]",
      "text/plain": [
       "<Figure size 432x288 with 1 Axes>"
      ]
     },
     "metadata": {
      "needs_background": "light"
     },
     "output_type": "display_data"
    }
   ],
   "source": [
    "#visualize outliers\n",
    "sns.boxplot(x='bedroomcnt', data=df)"
   ]
  },
  {
   "cell_type": "code",
   "execution_count": 13,
   "id": "051bba3c",
   "metadata": {},
   "outputs": [
    {
     "data": {
      "text/plain": [
       "<AxesSubplot:xlabel='bathroomcnt'>"
      ]
     },
     "execution_count": 13,
     "metadata": {},
     "output_type": "execute_result"
    },
    {
     "data": {
      "image/png": "[encoded data removed]",
      "text/plain": [
       "<Figure size 432x288 with 1 Axes>"
      ]
     },
     "metadata": {
      "needs_background": "light"
     },
     "output_type": "display_data"
    }
   ],
   "source": [
    "#visualize outliers\n",
    "sns.boxplot(x='bathroomcnt', data=df)"
   ]
  },
  {
   "cell_type": "code",
   "execution_count": 14,
   "id": "6c03e78e",
   "metadata": {},
   "outputs": [
    {
     "data": {
      "text/plain": [
       "<AxesSubplot:xlabel='calculatedfinishedsquarefeet'>"
      ]
     },
     "execution_count": 14,
     "metadata": {},
     "output_type": "execute_result"
    },
    {
     "data": {
      "image/png": "[encoded data removed]",
      "text/plain": [
       "<Figure size 432x288 with 1 Axes>"
      ]
     },
     "metadata": {
      "needs_background": "light"
     },
     "output_type": "display_data"
    }
   ],
   "source": [
    "#visualize outliers\n",
    "sns.boxplot(x='calculatedfinishedsquarefeet', data=df)"
   ]
  },
  {
   "cell_type": "code",
   "execution_count": 15,
   "id": "023d13ac",
   "metadata": {},
   "outputs": [
    {
     "data": {
      "text/plain": [
       "<AxesSubplot:xlabel='taxvaluedollarcnt'>"
      ]
     },
     "execution_count": 15,
     "metadata": {},
     "output_type": "execute_result"
    },
    {
     "data": {
      "image/png": "[encoded data removed]",
      "text/plain": [
       "<Figure size 432x288 with 1 Axes>"
      ]
     },
     "metadata": {
      "needs_background": "light"
     },
     "output_type": "display_data"
    }
   ],
   "source": [
    "#visualize outliers\n",
    "sns.boxplot(x='taxvaluedollarcnt', data=df)"
   ]
  },
  {
   "cell_type": "code",
   "execution_count": 16,
   "id": "d3df4894",
   "metadata": {},
   "outputs": [
    {
     "data": {
      "text/plain": [
       "<AxesSubplot:xlabel='yearbuilt'>"
      ]
     },
     "execution_count": 16,
     "metadata": {},
     "output_type": "execute_result"
    },
    {
     "data": {
      "image/png": "[encoded data removed]",
      "text/plain": [
       "<Figure size 432x288 with 1 Axes>"
      ]
     },
     "metadata": {
      "needs_background": "light"
     },
     "output_type": "display_data"
    }
   ],
   "source": [
    "#visualize outliers\n",
    "sns.boxplot(x='yearbuilt', data=df)"
   ]
  },
  {
   "cell_type": "code",
   "execution_count": 17,
   "id": "0c738372",
   "metadata": {},
   "outputs": [],
   "source": [
    "#looks like we can manually trim the data so as to remove the outliers skewing the data\n",
    "#homes with more that 6 bedroom, more than 6 bathrooms, with less than 15000 sq ft, and less than 1500000 taxvaluedollarcnt"
   ]
  },
  {
   "cell_type": "code",
   "execution_count": 18,
   "id": "a295c1ae",
   "metadata": {},
   "outputs": [],
   "source": [
    "def handle_outliers(df):\n",
    "    \"\"\"Manually handle outliers that do not represent properties likely for 99% of buyers and zillow visitors\"\"\"\n",
    "    df = df[df.bathroomcnt <= 6]\n",
    "    \n",
    "    df = df[df.bedroomcnt <= 6]\n",
    "\n",
    "    df = df[df.taxvaluedollarcnt < 1_500_000]\n",
    "    \n",
    "    df.drop(df.loc[df.calculatedfinishedsquarefeet >15000].index, inplace=True)\n",
    "\n",
    "    df.drop(df.loc[df['bedroomcnt']==0].index, inplace=True)\n",
    "    \n",
    "    df.drop(df.loc[df['bathroomcnt']==0].index, inplace=True)\n",
    "\n",
    "    return df"
   ]
  },
  {
   "cell_type": "code",
   "execution_count": 19,
   "id": "f93e18c4",
   "metadata": {},
   "outputs": [],
   "source": [
    "df = wr.handle_outliers(df)"
   ]
  },
  {
   "cell_type": "code",
   "execution_count": 20,
   "id": "2b7bbd91",
   "metadata": {},
   "outputs": [
    {
     "data": {
      "text/plain": [
       "<AxesSubplot:xlabel='taxvaluedollarcnt'>"
      ]
     },
     "execution_count": 20,
     "metadata": {},
     "output_type": "execute_result"
    },
    {
     "data": {
      "image/png": "[encoded data removed]",
      "text/plain": [
       "<Figure size 432x288 with 1 Axes>"
      ]
     },
     "metadata": {
      "needs_background": "light"
     },
     "output_type": "display_data"
    }
   ],
   "source": [
    "#inspect\n",
    "sns.boxplot(x='taxvaluedollarcnt', data=df)"
   ]
  },
  {
   "cell_type": "code",
   "execution_count": 21,
   "id": "13d00660",
   "metadata": {},
   "outputs": [
    {
     "data": {
      "text/plain": [
       "<AxesSubplot:xlabel='bathroomcnt'>"
      ]
     },
     "execution_count": 21,
     "metadata": {},
     "output_type": "execute_result"
    },
    {
     "data": {
      "image/png": "[encoded data removed]",
      "text/plain": [
       "<Figure size 432x288 with 1 Axes>"
      ]
     },
     "metadata": {
      "needs_background": "light"
     },
     "output_type": "display_data"
    }
   ],
   "source": [
    "#inspect\n",
    "sns.boxplot(x='bathroomcnt', data=df)"
   ]
  },
  {
   "cell_type": "code",
   "execution_count": 22,
   "id": "66145677",
   "metadata": {},
   "outputs": [
    {
     "data": {
      "text/plain": [
       "<AxesSubplot:xlabel='bedroomcnt'>"
      ]
     },
     "execution_count": 22,
     "metadata": {},
     "output_type": "execute_result"
    },
    {
     "data": {
      "image/png": "[encoded data removed]",
      "text/plain": [
       "<Figure size 432x288 with 1 Axes>"
      ]
     },
     "metadata": {
      "needs_background": "light"
     },
     "output_type": "display_data"
    }
   ],
   "source": [
    "#inspect\n",
    "sns.boxplot(x='bedroomcnt', data=df)"
   ]
  },
  {
   "cell_type": "code",
   "execution_count": 23,
   "id": "e975e21f",
   "metadata": {
    "scrolled": true
   },
   "outputs": [
    {
     "data": {
      "text/plain": [
       "<AxesSubplot:xlabel='calculatedfinishedsquarefeet'>"
      ]
     },
     "execution_count": 23,
     "metadata": {},
     "output_type": "execute_result"
    },
    {
     "data": {
      "image/png": "[encoded data removed]",
      "text/plain": [
       "<Figure size 432x288 with 1 Axes>"
      ]
     },
     "metadata": {
      "needs_background": "light"
     },
     "output_type": "display_data"
    }
   ],
   "source": [
    "#visualize outliers\n",
    "sns.boxplot(x='calculatedfinishedsquarefeet', data=df)"
   ]
  },
  {
   "cell_type": "code",
   "execution_count": 24,
   "id": "71a48ebb",
   "metadata": {},
   "outputs": [],
   "source": [
    "df.drop(df.loc[df.calculatedfinishedsquarefeet >15000].index, inplace=True)"
   ]
  },
  {
   "cell_type": "markdown",
   "id": "988a9ba8",
   "metadata": {},
   "source": [
    "### feature engineering and adjustment\n"
   ]
  },
  {
   "cell_type": "code",
   "execution_count": 25,
   "id": "1db5705d",
   "metadata": {},
   "outputs": [],
   "source": [
    "    #new column total bill divided by size\n",
    "df['cost_per_sqft'] = (df['taxvaluedollarcnt']/df['calculatedfinishedsquarefeet']).round(2)\n",
    "\n",
    "    #avg sqft per number of rooms (bedroom+bathroom)\n",
    "df['sqft_room_ratio'] = (df['calculatedfinishedsquarefeet']/(df['bedroomcnt']+df['bathroomcnt'])).round(2)\n",
    "\n",
    "    #dummy encode fips\n",
    "dummies = pd.get_dummies(df.fips)\n",
    "df = pd.concat([df,dummies],axis=1)"
   ]
  },
  {
   "cell_type": "code",
   "execution_count": 26,
   "id": "66abe38f",
   "metadata": {},
   "outputs": [],
   "source": [
    "#rename columns for ease of use\n",
    "df=df.rename(columns={\"bedroomcnt\": \"bedrooms\", \"bathroomcnt\": \"bathrooms\", \"calculatedfinishedsquarefeet\": \"sqft\",\"taxvaluedollarcnt\": \"home_value\"})"
   ]
  },
  {
   "cell_type": "code",
   "execution_count": 27,
   "id": "91aba1a7",
   "metadata": {
    "scrolled": true
   },
   "outputs": [
    {
     "data": {
      "text/html": [
       "<div>\n",
       "<style scoped>\n",
       "    .dataframe tbody tr th:only-of-type {\n",
       "        vertical-align: middle;\n",
       "    }\n",
       "\n",
       "    .dataframe tbody tr th {\n",
       "        vertical-align: top;\n",
       "    }\n",
       "\n",
       "    .dataframe thead th {\n",
       "        text-align: right;\n",
       "    }\n",
       "</style>\n",
       "<table border=\"1\" class=\"dataframe\">\n",
       "  <thead>\n",
       "    <tr style=\"text-align: right;\">\n",
       "      <th></th>\n",
       "      <th>bedrooms</th>\n",
       "      <th>bathrooms</th>\n",
       "      <th>sqft</th>\n",
       "      <th>home_value</th>\n",
       "      <th>yearbuilt</th>\n",
       "      <th>taxamount</th>\n",
       "      <th>fips</th>\n",
       "      <th>cost_per_sqft</th>\n",
       "      <th>sqft_room_ratio</th>\n",
       "      <th>6037.0</th>\n",
       "      <th>6059.0</th>\n",
       "      <th>6111.0</th>\n",
       "    </tr>\n",
       "  </thead>\n",
       "  <tbody>\n",
       "    <tr>\n",
       "      <th>4</th>\n",
       "      <td>4</td>\n",
       "      <td>2.0</td>\n",
       "      <td>3633</td>\n",
       "      <td>296425</td>\n",
       "      <td>2005</td>\n",
       "      <td>6941.39</td>\n",
       "      <td>6037.0</td>\n",
       "      <td>81.59</td>\n",
       "      <td>605.50</td>\n",
       "      <td>1</td>\n",
       "      <td>0</td>\n",
       "      <td>0</td>\n",
       "    </tr>\n",
       "    <tr>\n",
       "      <th>6</th>\n",
       "      <td>3</td>\n",
       "      <td>4.0</td>\n",
       "      <td>1620</td>\n",
       "      <td>847770</td>\n",
       "      <td>2011</td>\n",
       "      <td>10244.94</td>\n",
       "      <td>6037.0</td>\n",
       "      <td>523.31</td>\n",
       "      <td>231.43</td>\n",
       "      <td>1</td>\n",
       "      <td>0</td>\n",
       "      <td>0</td>\n",
       "    </tr>\n",
       "    <tr>\n",
       "      <th>7</th>\n",
       "      <td>3</td>\n",
       "      <td>2.0</td>\n",
       "      <td>2077</td>\n",
       "      <td>646760</td>\n",
       "      <td>1926</td>\n",
       "      <td>7924.68</td>\n",
       "      <td>6037.0</td>\n",
       "      <td>311.39</td>\n",
       "      <td>415.40</td>\n",
       "      <td>1</td>\n",
       "      <td>0</td>\n",
       "      <td>0</td>\n",
       "    </tr>\n",
       "    <tr>\n",
       "      <th>18</th>\n",
       "      <td>3</td>\n",
       "      <td>1.0</td>\n",
       "      <td>1244</td>\n",
       "      <td>169471</td>\n",
       "      <td>1950</td>\n",
       "      <td>2532.88</td>\n",
       "      <td>6037.0</td>\n",
       "      <td>136.23</td>\n",
       "      <td>311.00</td>\n",
       "      <td>1</td>\n",
       "      <td>0</td>\n",
       "      <td>0</td>\n",
       "    </tr>\n",
       "    <tr>\n",
       "      <th>19</th>\n",
       "      <td>3</td>\n",
       "      <td>2.0</td>\n",
       "      <td>1300</td>\n",
       "      <td>233266</td>\n",
       "      <td>1950</td>\n",
       "      <td>3110.99</td>\n",
       "      <td>6037.0</td>\n",
       "      <td>179.44</td>\n",
       "      <td>260.00</td>\n",
       "      <td>1</td>\n",
       "      <td>0</td>\n",
       "      <td>0</td>\n",
       "    </tr>\n",
       "    <tr>\n",
       "      <th>...</th>\n",
       "      <td>...</td>\n",
       "      <td>...</td>\n",
       "      <td>...</td>\n",
       "      <td>...</td>\n",
       "      <td>...</td>\n",
       "      <td>...</td>\n",
       "      <td>...</td>\n",
       "      <td>...</td>\n",
       "      <td>...</td>\n",
       "      <td>...</td>\n",
       "      <td>...</td>\n",
       "      <td>...</td>\n",
       "    </tr>\n",
       "    <tr>\n",
       "      <th>2152856</th>\n",
       "      <td>4</td>\n",
       "      <td>4.0</td>\n",
       "      <td>4375</td>\n",
       "      <td>422400</td>\n",
       "      <td>2015</td>\n",
       "      <td>13877.56</td>\n",
       "      <td>6037.0</td>\n",
       "      <td>96.55</td>\n",
       "      <td>546.88</td>\n",
       "      <td>1</td>\n",
       "      <td>0</td>\n",
       "      <td>0</td>\n",
       "    </tr>\n",
       "    <tr>\n",
       "      <th>2152858</th>\n",
       "      <td>4</td>\n",
       "      <td>3.0</td>\n",
       "      <td>2262</td>\n",
       "      <td>960756</td>\n",
       "      <td>2015</td>\n",
       "      <td>13494.52</td>\n",
       "      <td>6059.0</td>\n",
       "      <td>424.74</td>\n",
       "      <td>323.14</td>\n",
       "      <td>0</td>\n",
       "      <td>1</td>\n",
       "      <td>0</td>\n",
       "    </tr>\n",
       "    <tr>\n",
       "      <th>2152859</th>\n",
       "      <td>4</td>\n",
       "      <td>4.5</td>\n",
       "      <td>3127</td>\n",
       "      <td>536061</td>\n",
       "      <td>2014</td>\n",
       "      <td>6244.16</td>\n",
       "      <td>6059.0</td>\n",
       "      <td>171.43</td>\n",
       "      <td>367.88</td>\n",
       "      <td>0</td>\n",
       "      <td>1</td>\n",
       "      <td>0</td>\n",
       "    </tr>\n",
       "    <tr>\n",
       "      <th>2152861</th>\n",
       "      <td>3</td>\n",
       "      <td>2.5</td>\n",
       "      <td>1974</td>\n",
       "      <td>424353</td>\n",
       "      <td>2015</td>\n",
       "      <td>5302.70</td>\n",
       "      <td>6059.0</td>\n",
       "      <td>214.97</td>\n",
       "      <td>358.91</td>\n",
       "      <td>0</td>\n",
       "      <td>1</td>\n",
       "      <td>0</td>\n",
       "    </tr>\n",
       "    <tr>\n",
       "      <th>2152862</th>\n",
       "      <td>4</td>\n",
       "      <td>4.0</td>\n",
       "      <td>2110</td>\n",
       "      <td>554009</td>\n",
       "      <td>2014</td>\n",
       "      <td>6761.20</td>\n",
       "      <td>6037.0</td>\n",
       "      <td>262.56</td>\n",
       "      <td>263.75</td>\n",
       "      <td>1</td>\n",
       "      <td>0</td>\n",
       "      <td>0</td>\n",
       "    </tr>\n",
       "  </tbody>\n",
       "</table>\n",
       "<p>2060022 rows × 12 columns</p>\n",
       "</div>"
      ],
      "text/plain": [
       "         bedrooms  bathrooms  sqft  home_value  yearbuilt  taxamount    fips  \\\n",
       "4               4        2.0  3633      296425       2005    6941.39  6037.0   \n",
       "6               3        4.0  1620      847770       2011   10244.94  6037.0   \n",
       "7               3        2.0  2077      646760       1926    7924.68  6037.0   \n",
       "18              3        1.0  1244      169471       1950    2532.88  6037.0   \n",
       "19              3        2.0  1300      233266       1950    3110.99  6037.0   \n",
       "...           ...        ...   ...         ...        ...        ...     ...   \n",
       "2152856         4        4.0  4375      422400       2015   13877.56  6037.0   \n",
       "2152858         4        3.0  2262      960756       2015   13494.52  6059.0   \n",
       "2152859         4        4.5  3127      536061       2014    6244.16  6059.0   \n",
       "2152861         3        2.5  1974      424353       2015    5302.70  6059.0   \n",
       "2152862         4        4.0  2110      554009       2014    6761.20  6037.0   \n",
       "\n",
       "         cost_per_sqft  sqft_room_ratio  6037.0  6059.0  6111.0  \n",
       "4                81.59           605.50       1       0       0  \n",
       "6               523.31           231.43       1       0       0  \n",
       "7               311.39           415.40       1       0       0  \n",
       "18              136.23           311.00       1       0       0  \n",
       "19              179.44           260.00       1       0       0  \n",
       "...                ...              ...     ...     ...     ...  \n",
       "2152856          96.55           546.88       1       0       0  \n",
       "2152858         424.74           323.14       0       1       0  \n",
       "2152859         171.43           367.88       0       1       0  \n",
       "2152861         214.97           358.91       0       1       0  \n",
       "2152862         262.56           263.75       1       0       0  \n",
       "\n",
       "[2060022 rows x 12 columns]"
      ]
     },
     "execution_count": 27,
     "metadata": {},
     "output_type": "execute_result"
    }
   ],
   "source": [
    "df"
   ]
  },
  {
   "cell_type": "markdown",
   "id": "716111e3",
   "metadata": {},
   "source": [
    "### Split  wrangled, cleaned, and prepped data\n",
    "Using four functions tied to each other in wrangle.py file:\n",
    "\n",
    "optimize_types(df):\n",
    "handle_outliers(df)\n",
    "split_zillow(df):\n",
    "\n",
    "\n",
    "\n"
   ]
  },
  {
   "cell_type": "code",
   "execution_count": 170,
   "id": "abbbb534",
   "metadata": {},
   "outputs": [],
   "source": [
    "train, validate, test = wr.split(df, stratify_by=None)"
   ]
  },
  {
   "cell_type": "code",
   "execution_count": 171,
   "id": "ee0aac4b",
   "metadata": {
    "scrolled": true
   },
   "outputs": [
    {
     "data": {
      "text/plain": [
       "((1153611, 12), (494406, 12), (412005, 12))"
      ]
     },
     "execution_count": 171,
     "metadata": {},
     "output_type": "execute_result"
    }
   ],
   "source": [
    "train.shape, validate.shape, test.shape"
   ]
  },
  {
   "cell_type": "code",
   "execution_count": 172,
   "id": "b4c4f1cb",
   "metadata": {},
   "outputs": [],
   "source": [
    "#scale data using scale_zillow function"
   ]
  },
  {
   "cell_type": "code",
   "execution_count": 173,
   "id": "92ca8f51",
   "metadata": {},
   "outputs": [],
   "source": [
    "train_scaled, validate_scaled, test_scaled = wr.scale_zillow(train, validate, test)"
   ]
  },
  {
   "cell_type": "code",
   "execution_count": 174,
   "id": "fd093dcb",
   "metadata": {},
   "outputs": [
    {
     "data": {
      "text/plain": [
       "((1153611, 12), (494406, 12), (412005, 12))"
      ]
     },
     "execution_count": 174,
     "metadata": {},
     "output_type": "execute_result"
    }
   ],
   "source": [
    "train_scaled.shape, validate_scaled.shape, test_scaled.shape"
   ]
  },
  {
   "cell_type": "markdown",
   "id": "d3e5bc05",
   "metadata": {},
   "source": [
    "### explore data\n",
    "\n",
    "list categoricals and quantitative features"
   ]
  },
  {
   "cell_type": "code",
   "execution_count": 145,
   "id": "1a50f339",
   "metadata": {
    "scrolled": false
   },
   "outputs": [
    {
     "data": {
      "text/plain": [
       "<AxesSubplot:>"
      ]
     },
     "execution_count": 145,
     "metadata": {},
     "output_type": "execute_result"
    },
    {
     "data": {
      "image/png": "[encoded data removed]",
      "text/plain": [
       "<Figure size 576x432 with 2 Axes>"
      ]
     },
     "metadata": {
      "needs_background": "light"
     },
     "output_type": "display_data"
    }
   ],
   "source": [
    "plt.figure(figsize=(8,6))\n",
    "sns.heatmap(train_scaled.corr(), cmap='magma', annot=True)\n"
   ]
  },
  {
   "cell_type": "markdown",
   "id": "cc22ecfb",
   "metadata": {},
   "source": [
    "Heat Map Takeaways:\n",
    "\n",
    "high correlations between bedrooms, bathrooms, sqft, and sqft_room_ratio"
   ]
  },
  {
   "cell_type": "code",
   "execution_count": 146,
   "id": "f0fbee9a",
   "metadata": {},
   "outputs": [
    {
     "data": {
      "text/plain": [
       "count    1.153611e+06\n",
       "mean     3.801968e+05\n",
       "std      2.727847e+05\n",
       "min      2.200000e+01\n",
       "25%      1.844220e+05\n",
       "50%      3.180890e+05\n",
       "75%      5.047795e+05\n",
       "max      1.499988e+06\n",
       "Name: home_value, dtype: float64"
      ]
     },
     "execution_count": 146,
     "metadata": {},
     "output_type": "execute_result"
    },
    {
     "data": {
      "image/png": "[encoded data removed]",
      "text/plain": [
       "<Figure size 576x144 with 2 Axes>"
      ]
     },
     "metadata": {
      "needs_background": "light"
     },
     "output_type": "display_data"
    }
   ],
   "source": [
    "    descriptive_stats = train['home_value'].describe()\n",
    "    plt.figure(figsize=(8,2))\n",
    "\n",
    "    p = plt.subplot(1, 2, 1)\n",
    "    p = plt.hist(train['home_value'], color='lightseagreen')\n",
    "    p = plt.title('home_value')\n",
    "\n",
    "    # second plot: box plot\n",
    "    p = plt.subplot(1, 2, 2)\n",
    "    p = plt.boxplot(train['home_value'])\n",
    "    p = plt.title('home_value')\n",
    "    descriptive_stats"
   ]
  },
  {
   "cell_type": "code",
   "execution_count": 147,
   "id": "5a0d1b42",
   "metadata": {},
   "outputs": [
    {
     "data": {
      "text/plain": [
       "count    1.153611e+06\n",
       "mean     3.801968e+05\n",
       "std      2.727847e+05\n",
       "min      2.200000e+01\n",
       "25%      1.844220e+05\n",
       "50%      3.180890e+05\n",
       "75%      5.047795e+05\n",
       "max      1.499988e+06\n",
       "Name: home_value, dtype: float64"
      ]
     },
     "execution_count": 147,
     "metadata": {},
     "output_type": "execute_result"
    },
    {
     "data": {
      "image/png": "[encoded data removed]",
      "text/plain": [
       "<Figure size 576x144 with 2 Axes>"
      ]
     },
     "metadata": {
      "needs_background": "light"
     },
     "output_type": "display_data"
    }
   ],
   "source": [
    "    descriptive_stats = train['home_value'].describe()\n",
    "    plt.figure(figsize=(8,2))\n",
    "\n",
    "    p = plt.subplot(1, 2, 1)\n",
    "    p = plt.hist(train['home_value'], color='lightseagreen')\n",
    "    p = plt.title('home_value')\n",
    "\n",
    "    # second plot: box plot\n",
    "    p = plt.subplot(1, 2, 2)\n",
    "    p = plt.boxplot(train['home_value'])\n",
    "    p = plt.title('home_value')\n",
    "    descriptive_stats"
   ]
  },
  {
   "cell_type": "code",
   "execution_count": 148,
   "id": "8b17bea0",
   "metadata": {},
   "outputs": [
    {
     "data": {
      "text/plain": [
       "count    1.153611e+06\n",
       "mean     1.774120e+03\n",
       "std      7.472579e+02\n",
       "min      1.000000e+00\n",
       "25%      1.248000e+03\n",
       "50%      1.599000e+03\n",
       "75%      2.132000e+03\n",
       "max      1.444400e+04\n",
       "Name: sqft, dtype: float64"
      ]
     },
     "execution_count": 148,
     "metadata": {},
     "output_type": "execute_result"
    },
    {
     "data": {
      "image/png": "[encoded data removed]",
      "text/plain": [
       "<Figure size 576x144 with 2 Axes>"
      ]
     },
     "metadata": {
      "needs_background": "light"
     },
     "output_type": "display_data"
    }
   ],
   "source": [
    "    descriptive_stats = train['sqft'].describe()\n",
    "    plt.figure(figsize=(8,2))\n",
    "\n",
    "    p = plt.subplot(1, 2, 1)\n",
    "    p = plt.hist(train['sqft'], color='lightseagreen')\n",
    "    p = plt.title('sqft')\n",
    "\n",
    "    # second plot: box plot\n",
    "    p = plt.subplot(1, 2, 2)\n",
    "    p = plt.boxplot(train['sqft'])\n",
    "    p = plt.title('sqft')\n",
    "    descriptive_stats"
   ]
  },
  {
   "cell_type": "code",
   "execution_count": 149,
   "id": "00141dc7",
   "metadata": {},
   "outputs": [
    {
     "data": {
      "text/plain": [
       "count    1.153611e+06\n",
       "mean     3.268195e+00\n",
       "std      8.734664e-01\n",
       "min      1.000000e+00\n",
       "25%      3.000000e+00\n",
       "50%      3.000000e+00\n",
       "75%      4.000000e+00\n",
       "max      6.000000e+00\n",
       "Name: bedrooms, dtype: float64"
      ]
     },
     "execution_count": 149,
     "metadata": {},
     "output_type": "execute_result"
    },
    {
     "data": {
      "image/png": "[encoded data removed]",
      "text/plain": [
       "<Figure size 576x144 with 2 Axes>"
      ]
     },
     "metadata": {
      "needs_background": "light"
     },
     "output_type": "display_data"
    }
   ],
   "source": [
    "    descriptive_stats = train['bedrooms'].describe()\n",
    "    plt.figure(figsize=(8,2))\n",
    "\n",
    "    p = plt.subplot(1, 2, 1)\n",
    "    p = plt.hist(train['bedrooms'], color='lightseagreen')\n",
    "    p = plt.title('bedrooms')\n",
    "\n",
    "    # second plot: box plot\n",
    "    p = plt.subplot(1, 2, 2)\n",
    "    p = plt.boxplot(train['bedrooms'])\n",
    "    p = plt.title('bedrooms')\n",
    "    descriptive_stats"
   ]
  },
  {
   "cell_type": "code",
   "execution_count": 150,
   "id": "c0539e12",
   "metadata": {},
   "outputs": [
    {
     "data": {
      "text/plain": [
       "count    1.153611e+06\n",
       "mean     2.164983e+00\n",
       "std      8.441589e-01\n",
       "min      5.000000e-01\n",
       "25%      2.000000e+00\n",
       "50%      2.000000e+00\n",
       "75%      3.000000e+00\n",
       "max      6.000000e+00\n",
       "Name: bathrooms, dtype: float64"
      ]
     },
     "execution_count": 150,
     "metadata": {},
     "output_type": "execute_result"
    },
    {
     "data": {
      "image/png": "[encoded data removed]",
      "text/plain": [
       "<Figure size 576x144 with 2 Axes>"
      ]
     },
     "metadata": {
      "needs_background": "light"
     },
     "output_type": "display_data"
    }
   ],
   "source": [
    "    descriptive_stats = train['bathrooms'].describe()\n",
    "    plt.figure(figsize=(8,2))\n",
    "\n",
    "    p = plt.subplot(1, 2, 1)\n",
    "    p = plt.hist(train['bathrooms'], color='lightseagreen')\n",
    "    p = plt.title('bathrooms')\n",
    "\n",
    "    # second plot: box plot\n",
    "    p = plt.subplot(1, 2, 2)\n",
    "    p = plt.boxplot(train['bathrooms'])\n",
    "    p = plt.title('bathrooms')\n",
    "    descriptive_stats"
   ]
  },
  {
   "cell_type": "code",
   "execution_count": 151,
   "id": "cb6da386",
   "metadata": {},
   "outputs": [
    {
     "data": {
      "text/plain": [
       "count    1.153611e+06\n",
       "mean     2.189776e+02\n",
       "std      6.956626e+02\n",
       "min      1.000000e-02\n",
       "25%      1.223500e+02\n",
       "50%      1.976700e+02\n",
       "75%      2.894400e+02\n",
       "max      6.097510e+05\n",
       "Name: cost_per_sqft, dtype: float64"
      ]
     },
     "execution_count": 151,
     "metadata": {},
     "output_type": "execute_result"
    },
    {
     "data": {
      "image/png": "[encoded data removed]",
      "text/plain": [
       "<Figure size 576x144 with 2 Axes>"
      ]
     },
     "metadata": {
      "needs_background": "light"
     },
     "output_type": "display_data"
    }
   ],
   "source": [
    "    descriptive_stats = train['cost_per_sqft'].describe()\n",
    "    plt.figure(figsize=(8,2))\n",
    "\n",
    "    p = plt.subplot(1, 2, 1)\n",
    "    p = plt.hist(train['cost_per_sqft'], color='lightseagreen')\n",
    "    p = plt.title('cost_per_sqft')\n",
    "\n",
    "    # second plot: box plot\n",
    "    p = plt.subplot(1, 2, 2)\n",
    "    p = plt.boxplot(train['cost_per_sqft'])\n",
    "    p = plt.title('cost_per_sqft')\n",
    "    descriptive_stats"
   ]
  },
  {
   "cell_type": "code",
   "execution_count": 152,
   "id": "010d28c7",
   "metadata": {},
   "outputs": [
    {
     "data": {
      "text/plain": [
       "count    1.153611e+06\n",
       "mean     3.238696e+02\n",
       "std      8.037433e+01\n",
       "min      2.500000e-01\n",
       "25%      2.666700e+02\n",
       "50%      3.101200e+02\n",
       "75%      3.662500e+02\n",
       "max      4.374330e+03\n",
       "Name: sqft_room_ratio, dtype: float64"
      ]
     },
     "execution_count": 152,
     "metadata": {},
     "output_type": "execute_result"
    },
    {
     "data": {
      "image/png": "[encoded data removed]",
      "text/plain": [
       "<Figure size 576x144 with 2 Axes>"
      ]
     },
     "metadata": {
      "needs_background": "light"
     },
     "output_type": "display_data"
    }
   ],
   "source": [
    "descriptive_stats = train['sqft_room_ratio'].describe()\n",
    "plt.figure(figsize=(8,2))\n",
    "\n",
    "p = plt.subplot(1, 2, 1)\n",
    "p = plt.hist(train['sqft_room_ratio'], color='lightseagreen')\n",
    "p = plt.title('sqft_room_ratio')\n",
    "\n",
    "# second plot: box plot\n",
    "p = plt.subplot(1, 2, 2)\n",
    "p = plt.boxplot(train['sqft_room_ratio'])\n",
    "p = plt.title('sqft_room_ratio')\n",
    "descriptive_stats"
   ]
  },
  {
   "cell_type": "code",
   "execution_count": 153,
   "id": "5f7eec12",
   "metadata": {},
   "outputs": [],
   "source": [
    "def jointplot(x, y, df):\n",
    "    '''\n",
    "    jointplot will take in a feature(\"x\") and a target(\"y\") \n",
    "    and plot a corresponding scatter and distribution.\n",
    "    '''\n",
    "    \n",
    "    p = sns.jointplot(x=x, y=y, data=df, kind=\"hex\", color=\"mediumslateblue\")\n",
    "    \n",
    "    return p"
   ]
  },
  {
   "cell_type": "code",
   "execution_count": 154,
   "id": "e10227b7",
   "metadata": {
    "scrolled": true
   },
   "outputs": [
    {
     "data": {
      "text/plain": [
       "<seaborn.axisgrid.JointGrid at 0x20a07252910>"
      ]
     },
     "execution_count": 154,
     "metadata": {},
     "output_type": "execute_result"
    },
    {
     "data": {
      "image/png": "[encoded data removed]",
      "text/plain": [
       "<Figure size 432x432 with 3 Axes>"
      ]
     },
     "metadata": {
      "needs_background": "light"
     },
     "output_type": "display_data"
    }
   ],
   "source": [
    "sns.jointplot(x='sqft', y='home_value', data=df, kind=\"hex\", color=\"mediumslateblue\")"
   ]
  },
  {
   "cell_type": "code",
   "execution_count": 155,
   "id": "5a7096ac",
   "metadata": {},
   "outputs": [],
   "source": [
    "#This graph tells me a majority of homes are in the \n",
    "#bottom 20% of square feet and bottom 45% of home_value. "
   ]
  },
  {
   "cell_type": "code",
   "execution_count": 156,
   "id": "19384792",
   "metadata": {},
   "outputs": [
    {
     "data": {
      "text/plain": [
       "<seaborn.axisgrid.JointGrid at 0x20a14fe15b0>"
      ]
     },
     "execution_count": 156,
     "metadata": {},
     "output_type": "execute_result"
    },
    {
     "data": {
      "image/png": "[encoded data removed]",
      "text/plain": [
       "<Figure size 432x432 with 3 Axes>"
      ]
     },
     "metadata": {
      "needs_background": "light"
     },
     "output_type": "display_data"
    }
   ],
   "source": [
    "sns.jointplot(x='sqft_room_ratio', y='home_value', data=df, kind=\"hex\", color=\"mediumslateblue\")"
   ]
  },
  {
   "cell_type": "markdown",
   "id": "f79a766d",
   "metadata": {},
   "source": [
    "\n",
    "Hypothesis Testing\n",
    "\n",
    "using a correlation_test function listed below to test my hypotheses as they are all concerning quantitative data."
   ]
  },
  {
   "cell_type": "code",
   "execution_count": null,
   "id": "8b546366",
   "metadata": {},
   "outputs": [],
   "source": []
  },
  {
   "cell_type": "code",
   "execution_count": 157,
   "id": "3d31b2f5",
   "metadata": {},
   "outputs": [],
   "source": [
    "def correlation_test(Ho, Ha, x, y):\n",
    "    '''\n",
    "    correlation_test will take in two arguments and \n",
    "    - plot a scatterplot of them\n",
    "    - test the correlation\n",
    "    return: the correlation coefficient, p, and if there is a linear relationship.\n",
    "    '''\n",
    "    \n",
    "    splot = plt.scatter(x, y)\n",
    "    \n",
    "    null_hypothesis = Ho\n",
    "    alternative_hypothesis = Ha\n",
    "    \n",
    "    confidence_level = .95\n",
    "    a = 1 - confidence_level \n",
    "    \n",
    "    corr, p = stats.pearsonr(x, y)\n",
    "\n",
    "    if p < a:\n",
    "        print(f\"Reject null statment: {null_hypothesis}\")\n",
    "        print(\"There is a linear relationship.\")\n",
    "        if 0 < corr < .6:\n",
    "            print(\"there is a positive weak one.\")\n",
    "        elif .6 < corr < 1:\n",
    "            print(\"That is a stronger positive correlation.\")\n",
    "        elif -.6 < corr < 0:\n",
    "            print(\"there is a negative weak one.\")\n",
    "        elif -1 < corr < -.6:\n",
    "            print(\"That is a stronger negative correlation.\")\n",
    "        \n",
    "    else : \n",
    "        print(\"Fail to reject the null hypothesis.\")\n",
    "        \n",
    "    print(f\"\"\"\n",
    "    Correlation Coefficient: {corr}\n",
    "    p: {p}\n",
    "    \n",
    "    \"\"\")\n",
    "    return splot"
   ]
  },
  {
   "cell_type": "markdown",
   "id": "7cc06809",
   "metadata": {},
   "source": [
    "Test: There is a relationship between square footage and home value."
   ]
  },
  {
   "cell_type": "code",
   "execution_count": 158,
   "id": "cd18f39e",
   "metadata": {},
   "outputs": [],
   "source": [
    "#assign your null hypothesis\n",
    "Ho = \"No correlation between square footage and home value.\"\n",
    "\n",
    "#and your alternative hypothesis\n",
    "Ha = \"There IS a correlation between square footage and home value.\"\n",
    "\n",
    "#the feature you are testing\n",
    "x1 = train_scaled.sqft\n",
    "\n",
    "#against your target\n",
    "y1 = train_scaled.home_value"
   ]
  },
  {
   "cell_type": "code",
   "execution_count": 159,
   "id": "e9c645c3",
   "metadata": {},
   "outputs": [
    {
     "name": "stdout",
     "output_type": "stream",
     "text": [
      "Reject null statment: No correlation between square footage and home value.\n",
      "There is a linear relationship.\n",
      "there is a positive weak one.\n",
      "\n",
      "    Correlation Coefficient: 0.5585526497929323\n",
      "    p: 0.0\n",
      "    \n",
      "    \n"
     ]
    },
    {
     "data": {
      "text/plain": [
       "<matplotlib.collections.PathCollection at 0x20a04e2ae80>"
      ]
     },
     "execution_count": 159,
     "metadata": {},
     "output_type": "execute_result"
    },
    {
     "data": {
      "image/png": "[encoded data removed]",
      "text/plain": [
       "<Figure size 432x288 with 1 Axes>"
      ]
     },
     "metadata": {
      "needs_background": "light"
     },
     "output_type": "display_data"
    }
   ],
   "source": [
    "correlation_test(Ho, Ha, x1, y1)"
   ]
  },
  {
   "cell_type": "markdown",
   "id": "3b9086a8",
   "metadata": {},
   "source": [
    "Test: There is a weak correlation between number of bathrooms and home value."
   ]
  },
  {
   "cell_type": "code",
   "execution_count": 160,
   "id": "104d4df2",
   "metadata": {},
   "outputs": [],
   "source": [
    "Ho = \"No correlation between number of bathrooms and home value.\"\n",
    "Ha = \"There IS a correlation between bathrooms and home value.\"\n",
    "x2 = train_scaled.bathrooms\n",
    "y2 = train_scaled.home_value"
   ]
  },
  {
   "cell_type": "code",
   "execution_count": 161,
   "id": "279f1ac1",
   "metadata": {},
   "outputs": [
    {
     "name": "stdout",
     "output_type": "stream",
     "text": [
      "Reject null statment: No correlation between number of bathrooms and home value.\n",
      "There is a linear relationship.\n",
      "there is a positive weak one.\n",
      "\n",
      "    Correlation Coefficient: 0.484619095836773\n",
      "    p: 0.0\n",
      "    \n",
      "    \n"
     ]
    },
    {
     "data": {
      "text/plain": [
       "<matplotlib.collections.PathCollection at 0x20a1919be80>"
      ]
     },
     "execution_count": 161,
     "metadata": {},
     "output_type": "execute_result"
    },
    {
     "data": {
      "image/png": "[encoded data removed]",
      "text/plain": [
       "<Figure size 432x288 with 1 Axes>"
      ]
     },
     "metadata": {
      "needs_background": "light"
     },
     "output_type": "display_data"
    }
   ],
   "source": [
    "correlation_test(Ho, Ha, x2, y2)"
   ]
  },
  {
   "cell_type": "markdown",
   "id": "cf731941",
   "metadata": {},
   "source": [
    "Test: There is a relationship between number of bedrooms and home value."
   ]
  },
  {
   "cell_type": "code",
   "execution_count": 162,
   "id": "c9ea52a0",
   "metadata": {},
   "outputs": [],
   "source": [
    "Ho = \"No correlation between number of bedrooms and home value.\"\n",
    "Ha = \"There IS a correlation between bedrooms and home value.\"\n",
    "x3 = train_scaled.bedrooms\n",
    "y3 = train_scaled.home_value"
   ]
  },
  {
   "cell_type": "code",
   "execution_count": 163,
   "id": "08b95df8",
   "metadata": {},
   "outputs": [
    {
     "name": "stdout",
     "output_type": "stream",
     "text": [
      "Reject null statment: No correlation between number of bedrooms and home value.\n",
      "There is a linear relationship.\n",
      "there is a positive weak one.\n",
      "\n",
      "    Correlation Coefficient: 0.2670979461724933\n",
      "    p: 0.0\n",
      "    \n",
      "    \n"
     ]
    },
    {
     "data": {
      "text/plain": [
       "<matplotlib.collections.PathCollection at 0x20a18ffd220>"
      ]
     },
     "execution_count": 163,
     "metadata": {},
     "output_type": "execute_result"
    },
    {
     "data": {
      "image/png": "[encoded data removed]",
      "text/plain": [
       "<Figure size 432x288 with 1 Axes>"
      ]
     },
     "metadata": {
      "needs_background": "light"
     },
     "output_type": "display_data"
    }
   ],
   "source": [
    "correlation_test(Ho, Ha, x3, y3)"
   ]
  },
  {
   "cell_type": "markdown",
   "id": "cecd3a0d",
   "metadata": {},
   "source": [
    "Test: There is a relationship between square footage per room ratio and home value."
   ]
  },
  {
   "cell_type": "code",
   "execution_count": 164,
   "id": "667cf176",
   "metadata": {},
   "outputs": [],
   "source": [
    "Ho = \"No correlation between square footage per room ratio and home value.\"\n",
    "Ha = \"There IS a correlation between square footage per room ratio and home value.\"\n",
    "x4 = train_scaled.sqft_room_ratio\n",
    "y4 = train_scaled.home_value"
   ]
  },
  {
   "cell_type": "code",
   "execution_count": 165,
   "id": "b5a55273",
   "metadata": {},
   "outputs": [
    {
     "name": "stdout",
     "output_type": "stream",
     "text": [
      "Reject null statment: No correlation between square footage per room ratio and home value.\n",
      "There is a linear relationship.\n",
      "there is a positive weak one.\n",
      "\n",
      "    Correlation Coefficient: 0.39658735460696176\n",
      "    p: 0.0\n",
      "    \n",
      "    \n"
     ]
    },
    {
     "data": {
      "text/plain": [
       "<matplotlib.collections.PathCollection at 0x20a1905ef70>"
      ]
     },
     "execution_count": 165,
     "metadata": {},
     "output_type": "execute_result"
    },
    {
     "data": {
      "image/png": "[encoded data removed]",
      "text/plain": [
       "<Figure size 432x288 with 1 Axes>"
      ]
     },
     "metadata": {
      "needs_background": "light"
     },
     "output_type": "display_data"
    }
   ],
   "source": [
    "correlation_test(Ho, Ha, x4, y4)"
   ]
  },
  {
   "cell_type": "markdown",
   "id": "6c4335ae",
   "metadata": {},
   "source": [
    "### Evaluate Data"
   ]
  },
  {
   "cell_type": "code",
   "execution_count": 112,
   "id": "30df6ac5",
   "metadata": {},
   "outputs": [],
   "source": [
    "import model_zillow as mz"
   ]
  },
  {
   "cell_type": "code",
   "execution_count": 175,
   "id": "c6e96177",
   "metadata": {
    "scrolled": true
   },
   "outputs": [
    {
     "data": {
      "text/html": [
       "<div>\n",
       "<style scoped>\n",
       "    .dataframe tbody tr th:only-of-type {\n",
       "        vertical-align: middle;\n",
       "    }\n",
       "\n",
       "    .dataframe tbody tr th {\n",
       "        vertical-align: top;\n",
       "    }\n",
       "\n",
       "    .dataframe thead th {\n",
       "        text-align: right;\n",
       "    }\n",
       "</style>\n",
       "<table border=\"1\" class=\"dataframe\">\n",
       "  <thead>\n",
       "    <tr style=\"text-align: right;\">\n",
       "      <th></th>\n",
       "      <th>bedrooms</th>\n",
       "      <th>bathrooms</th>\n",
       "      <th>sqft</th>\n",
       "      <th>home_value</th>\n",
       "      <th>yearbuilt</th>\n",
       "      <th>taxamount</th>\n",
       "      <th>fips</th>\n",
       "      <th>cost_per_sqft</th>\n",
       "      <th>sqft_room_ratio</th>\n",
       "      <th>6037.0</th>\n",
       "      <th>6059.0</th>\n",
       "      <th>6111.0</th>\n",
       "    </tr>\n",
       "  </thead>\n",
       "  <tbody>\n",
       "    <tr>\n",
       "      <th>1088045</th>\n",
       "      <td>3</td>\n",
       "      <td>2.0</td>\n",
       "      <td>1068</td>\n",
       "      <td>47535</td>\n",
       "      <td>1959</td>\n",
       "      <td>567.16</td>\n",
       "      <td>6111.0</td>\n",
       "      <td>44.51</td>\n",
       "      <td>213.60</td>\n",
       "      <td>0</td>\n",
       "      <td>0</td>\n",
       "      <td>1</td>\n",
       "    </tr>\n",
       "    <tr>\n",
       "      <th>1457900</th>\n",
       "      <td>3</td>\n",
       "      <td>2.0</td>\n",
       "      <td>1542</td>\n",
       "      <td>847768</td>\n",
       "      <td>1941</td>\n",
       "      <td>9306.24</td>\n",
       "      <td>6037.0</td>\n",
       "      <td>549.78</td>\n",
       "      <td>308.40</td>\n",
       "      <td>1</td>\n",
       "      <td>0</td>\n",
       "      <td>0</td>\n",
       "    </tr>\n",
       "    <tr>\n",
       "      <th>115397</th>\n",
       "      <td>3</td>\n",
       "      <td>2.5</td>\n",
       "      <td>2174</td>\n",
       "      <td>306182</td>\n",
       "      <td>1964</td>\n",
       "      <td>3762.70</td>\n",
       "      <td>6059.0</td>\n",
       "      <td>140.84</td>\n",
       "      <td>395.27</td>\n",
       "      <td>0</td>\n",
       "      <td>1</td>\n",
       "      <td>0</td>\n",
       "    </tr>\n",
       "    <tr>\n",
       "      <th>506301</th>\n",
       "      <td>3</td>\n",
       "      <td>2.0</td>\n",
       "      <td>1359</td>\n",
       "      <td>156270</td>\n",
       "      <td>1973</td>\n",
       "      <td>1675.46</td>\n",
       "      <td>6111.0</td>\n",
       "      <td>114.99</td>\n",
       "      <td>271.80</td>\n",
       "      <td>0</td>\n",
       "      <td>0</td>\n",
       "      <td>1</td>\n",
       "    </tr>\n",
       "    <tr>\n",
       "      <th>641634</th>\n",
       "      <td>3</td>\n",
       "      <td>2.0</td>\n",
       "      <td>1200</td>\n",
       "      <td>79986</td>\n",
       "      <td>1977</td>\n",
       "      <td>1292.17</td>\n",
       "      <td>6037.0</td>\n",
       "      <td>66.66</td>\n",
       "      <td>240.00</td>\n",
       "      <td>1</td>\n",
       "      <td>0</td>\n",
       "      <td>0</td>\n",
       "    </tr>\n",
       "    <tr>\n",
       "      <th>...</th>\n",
       "      <td>...</td>\n",
       "      <td>...</td>\n",
       "      <td>...</td>\n",
       "      <td>...</td>\n",
       "      <td>...</td>\n",
       "      <td>...</td>\n",
       "      <td>...</td>\n",
       "      <td>...</td>\n",
       "      <td>...</td>\n",
       "      <td>...</td>\n",
       "      <td>...</td>\n",
       "      <td>...</td>\n",
       "    </tr>\n",
       "    <tr>\n",
       "      <th>463215</th>\n",
       "      <td>4</td>\n",
       "      <td>3.0</td>\n",
       "      <td>2029</td>\n",
       "      <td>328179</td>\n",
       "      <td>1994</td>\n",
       "      <td>3465.88</td>\n",
       "      <td>6111.0</td>\n",
       "      <td>161.74</td>\n",
       "      <td>289.86</td>\n",
       "      <td>0</td>\n",
       "      <td>0</td>\n",
       "      <td>1</td>\n",
       "    </tr>\n",
       "    <tr>\n",
       "      <th>1793012</th>\n",
       "      <td>3</td>\n",
       "      <td>1.0</td>\n",
       "      <td>1083</td>\n",
       "      <td>217072</td>\n",
       "      <td>1944</td>\n",
       "      <td>2819.76</td>\n",
       "      <td>6037.0</td>\n",
       "      <td>200.44</td>\n",
       "      <td>270.75</td>\n",
       "      <td>1</td>\n",
       "      <td>0</td>\n",
       "      <td>0</td>\n",
       "    </tr>\n",
       "    <tr>\n",
       "      <th>136986</th>\n",
       "      <td>3</td>\n",
       "      <td>2.0</td>\n",
       "      <td>2463</td>\n",
       "      <td>438091</td>\n",
       "      <td>1956</td>\n",
       "      <td>5110.96</td>\n",
       "      <td>6059.0</td>\n",
       "      <td>177.87</td>\n",
       "      <td>492.60</td>\n",
       "      <td>0</td>\n",
       "      <td>1</td>\n",
       "      <td>0</td>\n",
       "    </tr>\n",
       "    <tr>\n",
       "      <th>988610</th>\n",
       "      <td>3</td>\n",
       "      <td>2.5</td>\n",
       "      <td>1750</td>\n",
       "      <td>71543</td>\n",
       "      <td>1963</td>\n",
       "      <td>1104.14</td>\n",
       "      <td>6059.0</td>\n",
       "      <td>40.88</td>\n",
       "      <td>318.18</td>\n",
       "      <td>0</td>\n",
       "      <td>1</td>\n",
       "      <td>0</td>\n",
       "    </tr>\n",
       "    <tr>\n",
       "      <th>2003352</th>\n",
       "      <td>3</td>\n",
       "      <td>1.0</td>\n",
       "      <td>1141</td>\n",
       "      <td>62294</td>\n",
       "      <td>1948</td>\n",
       "      <td>867.06</td>\n",
       "      <td>6037.0</td>\n",
       "      <td>54.60</td>\n",
       "      <td>285.25</td>\n",
       "      <td>1</td>\n",
       "      <td>0</td>\n",
       "      <td>0</td>\n",
       "    </tr>\n",
       "  </tbody>\n",
       "</table>\n",
       "<p>1153611 rows × 12 columns</p>\n",
       "</div>"
      ],
      "text/plain": [
       "         bedrooms  bathrooms  sqft  home_value  yearbuilt  taxamount    fips  \\\n",
       "1088045         3        2.0  1068       47535       1959     567.16  6111.0   \n",
       "1457900         3        2.0  1542      847768       1941    9306.24  6037.0   \n",
       "115397          3        2.5  2174      306182       1964    3762.70  6059.0   \n",
       "506301          3        2.0  1359      156270       1973    1675.46  6111.0   \n",
       "641634          3        2.0  1200       79986       1977    1292.17  6037.0   \n",
       "...           ...        ...   ...         ...        ...        ...     ...   \n",
       "463215          4        3.0  2029      328179       1994    3465.88  6111.0   \n",
       "1793012         3        1.0  1083      217072       1944    2819.76  6037.0   \n",
       "136986          3        2.0  2463      438091       1956    5110.96  6059.0   \n",
       "988610          3        2.5  1750       71543       1963    1104.14  6059.0   \n",
       "2003352         3        1.0  1141       62294       1948     867.06  6037.0   \n",
       "\n",
       "         cost_per_sqft  sqft_room_ratio  6037.0  6059.0  6111.0  \n",
       "1088045          44.51           213.60       0       0       1  \n",
       "1457900         549.78           308.40       1       0       0  \n",
       "115397          140.84           395.27       0       1       0  \n",
       "506301          114.99           271.80       0       0       1  \n",
       "641634           66.66           240.00       1       0       0  \n",
       "...                ...              ...     ...     ...     ...  \n",
       "463215          161.74           289.86       0       0       1  \n",
       "1793012         200.44           270.75       1       0       0  \n",
       "136986          177.87           492.60       0       1       0  \n",
       "988610           40.88           318.18       0       1       0  \n",
       "2003352          54.60           285.25       1       0       0  \n",
       "\n",
       "[1153611 rows x 12 columns]"
      ]
     },
     "execution_count": 175,
     "metadata": {},
     "output_type": "execute_result"
    }
   ],
   "source": [
    "train"
   ]
  },
  {
   "cell_type": "code",
   "execution_count": null,
   "id": "72d7588d",
   "metadata": {},
   "outputs": [],
   "source": [
    "#separate target from features that will be used and scale"
   ]
  },
  {
   "cell_type": "code",
   "execution_count": 176,
   "id": "7cd9d303",
   "metadata": {},
   "outputs": [],
   "source": [
    "X_train = train.drop(columns=['home_value','yearbuilt','taxamount','fips','yearbuilt','cost_per_sqft','6037.0','6059.0','6111.0'])\n",
    "X_validate = validate.drop(columns=['home_value','yearbuilt','taxamount','fips','yearbuilt','cost_per_sqft','6037.0','6059.0','6111.0'])\n",
    "X_test = test.drop(columns=['home_value','yearbuilt','taxamount','fips','yearbuilt','cost_per_sqft','6037.0','6059.0','6111.0'])\n",
    "y_train = train.home_value\n",
    "y_validate = validate.home_value\n",
    "y_test = test.home_value"
   ]
  },
  {
   "cell_type": "code",
   "execution_count": 177,
   "id": "b64cf5b5",
   "metadata": {},
   "outputs": [
    {
     "data": {
      "text/html": [
       "<div>\n",
       "<style scoped>\n",
       "    .dataframe tbody tr th:only-of-type {\n",
       "        vertical-align: middle;\n",
       "    }\n",
       "\n",
       "    .dataframe tbody tr th {\n",
       "        vertical-align: top;\n",
       "    }\n",
       "\n",
       "    .dataframe thead th {\n",
       "        text-align: right;\n",
       "    }\n",
       "</style>\n",
       "<table border=\"1\" class=\"dataframe\">\n",
       "  <thead>\n",
       "    <tr style=\"text-align: right;\">\n",
       "      <th></th>\n",
       "      <th>bedrooms</th>\n",
       "      <th>bathrooms</th>\n",
       "      <th>sqft</th>\n",
       "      <th>sqft_room_ratio</th>\n",
       "    </tr>\n",
       "  </thead>\n",
       "  <tbody>\n",
       "    <tr>\n",
       "      <th>1088045</th>\n",
       "      <td>3</td>\n",
       "      <td>2.0</td>\n",
       "      <td>1068</td>\n",
       "      <td>213.60</td>\n",
       "    </tr>\n",
       "    <tr>\n",
       "      <th>1457900</th>\n",
       "      <td>3</td>\n",
       "      <td>2.0</td>\n",
       "      <td>1542</td>\n",
       "      <td>308.40</td>\n",
       "    </tr>\n",
       "    <tr>\n",
       "      <th>115397</th>\n",
       "      <td>3</td>\n",
       "      <td>2.5</td>\n",
       "      <td>2174</td>\n",
       "      <td>395.27</td>\n",
       "    </tr>\n",
       "    <tr>\n",
       "      <th>506301</th>\n",
       "      <td>3</td>\n",
       "      <td>2.0</td>\n",
       "      <td>1359</td>\n",
       "      <td>271.80</td>\n",
       "    </tr>\n",
       "    <tr>\n",
       "      <th>641634</th>\n",
       "      <td>3</td>\n",
       "      <td>2.0</td>\n",
       "      <td>1200</td>\n",
       "      <td>240.00</td>\n",
       "    </tr>\n",
       "    <tr>\n",
       "      <th>...</th>\n",
       "      <td>...</td>\n",
       "      <td>...</td>\n",
       "      <td>...</td>\n",
       "      <td>...</td>\n",
       "    </tr>\n",
       "    <tr>\n",
       "      <th>463215</th>\n",
       "      <td>4</td>\n",
       "      <td>3.0</td>\n",
       "      <td>2029</td>\n",
       "      <td>289.86</td>\n",
       "    </tr>\n",
       "    <tr>\n",
       "      <th>1793012</th>\n",
       "      <td>3</td>\n",
       "      <td>1.0</td>\n",
       "      <td>1083</td>\n",
       "      <td>270.75</td>\n",
       "    </tr>\n",
       "    <tr>\n",
       "      <th>136986</th>\n",
       "      <td>3</td>\n",
       "      <td>2.0</td>\n",
       "      <td>2463</td>\n",
       "      <td>492.60</td>\n",
       "    </tr>\n",
       "    <tr>\n",
       "      <th>988610</th>\n",
       "      <td>3</td>\n",
       "      <td>2.5</td>\n",
       "      <td>1750</td>\n",
       "      <td>318.18</td>\n",
       "    </tr>\n",
       "    <tr>\n",
       "      <th>2003352</th>\n",
       "      <td>3</td>\n",
       "      <td>1.0</td>\n",
       "      <td>1141</td>\n",
       "      <td>285.25</td>\n",
       "    </tr>\n",
       "  </tbody>\n",
       "</table>\n",
       "<p>1153611 rows × 4 columns</p>\n",
       "</div>"
      ],
      "text/plain": [
       "         bedrooms  bathrooms  sqft  sqft_room_ratio\n",
       "1088045         3        2.0  1068           213.60\n",
       "1457900         3        2.0  1542           308.40\n",
       "115397          3        2.5  2174           395.27\n",
       "506301          3        2.0  1359           271.80\n",
       "641634          3        2.0  1200           240.00\n",
       "...           ...        ...   ...              ...\n",
       "463215          4        3.0  2029           289.86\n",
       "1793012         3        1.0  1083           270.75\n",
       "136986          3        2.0  2463           492.60\n",
       "988610          3        2.5  1750           318.18\n",
       "2003352         3        1.0  1141           285.25\n",
       "\n",
       "[1153611 rows x 4 columns]"
      ]
     },
     "execution_count": 177,
     "metadata": {},
     "output_type": "execute_result"
    }
   ],
   "source": [
    "X_train"
   ]
  },
  {
   "cell_type": "code",
   "execution_count": 178,
   "id": "d2a1b5d0",
   "metadata": {},
   "outputs": [],
   "source": [
    "#Assign the scaler to a variable, and fit/transform the training data\n",
    "mms = sklearn.preprocessing.MinMaxScaler()\n",
    "\n",
    "mms.fit(X_train)\n",
    "\n",
    "train_mms = mms.transform(X_train)"
   ]
  },
  {
   "cell_type": "code",
   "execution_count": 180,
   "id": "3de6aec6",
   "metadata": {},
   "outputs": [],
   "source": [
    "#Is there a mistake here?\n",
    "X_train_scaled = pd.DataFrame(train_mms, columns=list(X_train.columns))"
   ]
  },
  {
   "cell_type": "code",
   "execution_count": 182,
   "id": "5c0a1c2f",
   "metadata": {},
   "outputs": [],
   "source": [
    "#Assign the scaler to a variable, and fit/transform the training data\n",
    "mms = sklearn.preprocessing.MinMaxScaler()\n",
    "\n",
    "mms.fit(X_validate)\n",
    "\n",
    "validate_mms = mms.transform(X_validate)"
   ]
  },
  {
   "cell_type": "code",
   "execution_count": 183,
   "id": "41f5c553",
   "metadata": {},
   "outputs": [],
   "source": [
    "#Is there a mistake here?\n",
    "X_validate_scaled = pd.DataFrame(validate_mms, columns=list(X_validate.columns))"
   ]
  },
  {
   "cell_type": "code",
   "execution_count": 184,
   "id": "9e6130a8",
   "metadata": {},
   "outputs": [],
   "source": [
    "#Assign the scaler to a variable, and fit/transform the training data\n",
    "mms = sklearn.preprocessing.MinMaxScaler()\n",
    "\n",
    "mms.fit(X_test)\n",
    "\n",
    "test_mms = mms.transform(X_test)"
   ]
  },
  {
   "cell_type": "code",
   "execution_count": 185,
   "id": "1040c0ab",
   "metadata": {},
   "outputs": [],
   "source": [
    "#Is there a mistake here?\n",
    "X_test_scaled = pd.DataFrame(test_mms, columns=list(X_test.columns))"
   ]
  },
  {
   "cell_type": "code",
   "execution_count": 186,
   "id": "201cc92a",
   "metadata": {
    "scrolled": true
   },
   "outputs": [
    {
     "data": {
      "text/html": [
       "<div>\n",
       "<style scoped>\n",
       "    .dataframe tbody tr th:only-of-type {\n",
       "        vertical-align: middle;\n",
       "    }\n",
       "\n",
       "    .dataframe tbody tr th {\n",
       "        vertical-align: top;\n",
       "    }\n",
       "\n",
       "    .dataframe thead th {\n",
       "        text-align: right;\n",
       "    }\n",
       "</style>\n",
       "<table border=\"1\" class=\"dataframe\">\n",
       "  <thead>\n",
       "    <tr style=\"text-align: right;\">\n",
       "      <th></th>\n",
       "      <th>bedrooms</th>\n",
       "      <th>bathrooms</th>\n",
       "      <th>sqft</th>\n",
       "      <th>sqft_room_ratio</th>\n",
       "    </tr>\n",
       "  </thead>\n",
       "  <tbody>\n",
       "    <tr>\n",
       "      <th>0</th>\n",
       "      <td>0.6</td>\n",
       "      <td>0.363636</td>\n",
       "      <td>0.093689</td>\n",
       "      <td>0.043249</td>\n",
       "    </tr>\n",
       "    <tr>\n",
       "      <th>1</th>\n",
       "      <td>0.4</td>\n",
       "      <td>0.272727</td>\n",
       "      <td>0.083451</td>\n",
       "      <td>0.050089</td>\n",
       "    </tr>\n",
       "    <tr>\n",
       "      <th>2</th>\n",
       "      <td>0.4</td>\n",
       "      <td>0.272727</td>\n",
       "      <td>0.103927</td>\n",
       "      <td>0.062373</td>\n",
       "    </tr>\n",
       "    <tr>\n",
       "      <th>3</th>\n",
       "      <td>0.4</td>\n",
       "      <td>0.272727</td>\n",
       "      <td>0.067354</td>\n",
       "      <td>0.040431</td>\n",
       "    </tr>\n",
       "    <tr>\n",
       "      <th>4</th>\n",
       "      <td>0.4</td>\n",
       "      <td>0.090909</td>\n",
       "      <td>0.073079</td>\n",
       "      <td>0.054837</td>\n",
       "    </tr>\n",
       "    <tr>\n",
       "      <th>...</th>\n",
       "      <td>...</td>\n",
       "      <td>...</td>\n",
       "      <td>...</td>\n",
       "      <td>...</td>\n",
       "    </tr>\n",
       "    <tr>\n",
       "      <th>412000</th>\n",
       "      <td>0.6</td>\n",
       "      <td>0.363636</td>\n",
       "      <td>0.145215</td>\n",
       "      <td>0.067031</td>\n",
       "    </tr>\n",
       "    <tr>\n",
       "      <th>412001</th>\n",
       "      <td>0.2</td>\n",
       "      <td>0.090909</td>\n",
       "      <td>0.083047</td>\n",
       "      <td>0.083090</td>\n",
       "    </tr>\n",
       "    <tr>\n",
       "      <th>412002</th>\n",
       "      <td>0.6</td>\n",
       "      <td>0.272727</td>\n",
       "      <td>0.084529</td>\n",
       "      <td>0.042275</td>\n",
       "    </tr>\n",
       "    <tr>\n",
       "      <th>412003</th>\n",
       "      <td>0.2</td>\n",
       "      <td>0.090909</td>\n",
       "      <td>0.048427</td>\n",
       "      <td>0.048472</td>\n",
       "    </tr>\n",
       "    <tr>\n",
       "      <th>412004</th>\n",
       "      <td>0.4</td>\n",
       "      <td>0.454545</td>\n",
       "      <td>0.187984</td>\n",
       "      <td>0.094000</td>\n",
       "    </tr>\n",
       "  </tbody>\n",
       "</table>\n",
       "<p>412005 rows × 4 columns</p>\n",
       "</div>"
      ],
      "text/plain": [
       "        bedrooms  bathrooms      sqft  sqft_room_ratio\n",
       "0            0.6   0.363636  0.093689         0.043249\n",
       "1            0.4   0.272727  0.083451         0.050089\n",
       "2            0.4   0.272727  0.103927         0.062373\n",
       "3            0.4   0.272727  0.067354         0.040431\n",
       "4            0.4   0.090909  0.073079         0.054837\n",
       "...          ...        ...       ...              ...\n",
       "412000       0.6   0.363636  0.145215         0.067031\n",
       "412001       0.2   0.090909  0.083047         0.083090\n",
       "412002       0.6   0.272727  0.084529         0.042275\n",
       "412003       0.2   0.090909  0.048427         0.048472\n",
       "412004       0.4   0.454545  0.187984         0.094000\n",
       "\n",
       "[412005 rows x 4 columns]"
      ]
     },
     "execution_count": 186,
     "metadata": {},
     "output_type": "execute_result"
    }
   ],
   "source": [
    "X_test_scaled"
   ]
  },
  {
   "cell_type": "code",
   "execution_count": 193,
   "id": "e6bff48b",
   "metadata": {},
   "outputs": [],
   "source": [
    "# from sklearn.feature_selection import SelectKBest, f_regression\n",
    "\n",
    "# parameters: f_regression stats test, give me 3 features\n",
    "f_selector = SelectKBest(f_regression, k=4)\n",
    "\n",
    "# find the top 8 X's correlated with y\n",
    "f_selector.fit(X_train, y_train)\n",
    "\n",
    "# boolean mask of whether the column was selected or not. \n",
    "feature_mask = f_selector.get_support()\n",
    "\n",
    "# get list of top K features. \n",
    "f_feature = X_train.iloc[:,feature_mask].columns.tolist()"
   ]
  },
  {
   "cell_type": "code",
   "execution_count": 194,
   "id": "71d20050",
   "metadata": {},
   "outputs": [
    {
     "data": {
      "text/plain": [
       "['bedrooms', 'bathrooms', 'sqft', 'sqft_room_ratio']"
      ]
     },
     "execution_count": 194,
     "metadata": {},
     "output_type": "execute_result"
    }
   ],
   "source": [
    "f_feature"
   ]
  },
  {
   "cell_type": "code",
   "execution_count": 195,
   "id": "f0e84a9e",
   "metadata": {},
   "outputs": [],
   "source": [
    "# initialize the ML algorithm\n",
    "lm = LinearRegression()\n",
    "\n",
    "# create the rfe object, indicating the ML object (lm) and the number of features I want to end up with. \n",
    "rfe = RFE(lm, n_features_to_select=4)\n",
    "\n",
    "# fit the data using RFE\n",
    "rfe.fit(X_train,y_train)  \n",
    "\n",
    "# get the mask of the columns selected\n",
    "feature_mask = rfe.support_\n",
    "\n",
    "# get list of the column names. \n",
    "rfe_feature = X_train.iloc[:,feature_mask].columns.tolist()"
   ]
  },
  {
   "cell_type": "code",
   "execution_count": 196,
   "id": "1794ddf3",
   "metadata": {},
   "outputs": [
    {
     "data": {
      "text/plain": [
       "['bedrooms', 'bathrooms', 'sqft', 'sqft_room_ratio']"
      ]
     },
     "execution_count": 196,
     "metadata": {},
     "output_type": "execute_result"
    }
   ],
   "source": [
    "rfe_feature"
   ]
  },
  {
   "cell_type": "markdown",
   "id": "5c24fc0e",
   "metadata": {},
   "source": [
    "### Modeling"
   ]
  },
  {
   "cell_type": "code",
   "execution_count": 197,
   "id": "fb52ee25",
   "metadata": {},
   "outputs": [],
   "source": [
    "# We need y_train and y_validate to be dataframes to append the new columns with predicted values. \n",
    "y_train = pd.DataFrame(y_train)\n",
    "y_validate = pd.DataFrame(y_validate)"
   ]
  },
  {
   "cell_type": "code",
   "execution_count": 198,
   "id": "51e67d29",
   "metadata": {},
   "outputs": [
    {
     "data": {
      "text/html": [
       "<div>\n",
       "<style scoped>\n",
       "    .dataframe tbody tr th:only-of-type {\n",
       "        vertical-align: middle;\n",
       "    }\n",
       "\n",
       "    .dataframe tbody tr th {\n",
       "        vertical-align: top;\n",
       "    }\n",
       "\n",
       "    .dataframe thead th {\n",
       "        text-align: right;\n",
       "    }\n",
       "</style>\n",
       "<table border=\"1\" class=\"dataframe\">\n",
       "  <thead>\n",
       "    <tr style=\"text-align: right;\">\n",
       "      <th></th>\n",
       "      <th>home_value</th>\n",
       "    </tr>\n",
       "  </thead>\n",
       "  <tbody>\n",
       "    <tr>\n",
       "      <th>1088045</th>\n",
       "      <td>47535</td>\n",
       "    </tr>\n",
       "    <tr>\n",
       "      <th>1457900</th>\n",
       "      <td>847768</td>\n",
       "    </tr>\n",
       "    <tr>\n",
       "      <th>115397</th>\n",
       "      <td>306182</td>\n",
       "    </tr>\n",
       "    <tr>\n",
       "      <th>506301</th>\n",
       "      <td>156270</td>\n",
       "    </tr>\n",
       "    <tr>\n",
       "      <th>641634</th>\n",
       "      <td>79986</td>\n",
       "    </tr>\n",
       "  </tbody>\n",
       "</table>\n",
       "</div>"
      ],
      "text/plain": [
       "         home_value\n",
       "1088045       47535\n",
       "1457900      847768\n",
       "115397       306182\n",
       "506301       156270\n",
       "641634        79986"
      ]
     },
     "execution_count": 198,
     "metadata": {},
     "output_type": "execute_result"
    }
   ],
   "source": [
    "#preview\n",
    "y_train.head()"
   ]
  },
  {
   "cell_type": "markdown",
   "id": "a9231d77",
   "metadata": {},
   "source": [
    "####  Identify Baseline"
   ]
  },
  {
   "cell_type": "code",
   "execution_count": 199,
   "id": "f3f6eab9",
   "metadata": {},
   "outputs": [
    {
     "data": {
      "text/html": [
       "<div>\n",
       "<style scoped>\n",
       "    .dataframe tbody tr th:only-of-type {\n",
       "        vertical-align: middle;\n",
       "    }\n",
       "\n",
       "    .dataframe tbody tr th {\n",
       "        vertical-align: top;\n",
       "    }\n",
       "\n",
       "    .dataframe thead th {\n",
       "        text-align: right;\n",
       "    }\n",
       "</style>\n",
       "<table border=\"1\" class=\"dataframe\">\n",
       "  <thead>\n",
       "    <tr style=\"text-align: right;\">\n",
       "      <th></th>\n",
       "      <th>home_value</th>\n",
       "      <th>home_value_baseline_median</th>\n",
       "      <th>home_value_baseline_mean</th>\n",
       "    </tr>\n",
       "  </thead>\n",
       "  <tbody>\n",
       "    <tr>\n",
       "      <th>1088045</th>\n",
       "      <td>47535</td>\n",
       "      <td>318089.0</td>\n",
       "      <td>380196.833903</td>\n",
       "    </tr>\n",
       "    <tr>\n",
       "      <th>1457900</th>\n",
       "      <td>847768</td>\n",
       "      <td>318089.0</td>\n",
       "      <td>380196.833903</td>\n",
       "    </tr>\n",
       "    <tr>\n",
       "      <th>115397</th>\n",
       "      <td>306182</td>\n",
       "      <td>318089.0</td>\n",
       "      <td>380196.833903</td>\n",
       "    </tr>\n",
       "    <tr>\n",
       "      <th>506301</th>\n",
       "      <td>156270</td>\n",
       "      <td>318089.0</td>\n",
       "      <td>380196.833903</td>\n",
       "    </tr>\n",
       "    <tr>\n",
       "      <th>641634</th>\n",
       "      <td>79986</td>\n",
       "      <td>318089.0</td>\n",
       "      <td>380196.833903</td>\n",
       "    </tr>\n",
       "  </tbody>\n",
       "</table>\n",
       "</div>"
      ],
      "text/plain": [
       "         home_value  home_value_baseline_median  home_value_baseline_mean\n",
       "1088045       47535                    318089.0             380196.833903\n",
       "1457900      847768                    318089.0             380196.833903\n",
       "115397       306182                    318089.0             380196.833903\n",
       "506301       156270                    318089.0             380196.833903\n",
       "641634        79986                    318089.0             380196.833903"
      ]
     },
     "execution_count": 199,
     "metadata": {},
     "output_type": "execute_result"
    }
   ],
   "source": [
    "# 1. compute pred_median\n",
    "home_value_baseline_median = y_train['home_value'].median()\n",
    "y_train['home_value_baseline_median'] = home_value_baseline_median\n",
    "y_validate['home_value_baseline_median'] = home_value_baseline_median\n",
    "\n",
    "# 2. compute pred_mean\n",
    "home_value_baseline_mean = y_train['home_value'].mean()\n",
    "y_train['home_value_baseline_mean'] = home_value_baseline_mean\n",
    "y_validate['home_value_baseline_mean'] = home_value_baseline_mean\n",
    "\n",
    "#check to see which is better\n",
    "y_train.head()"
   ]
  },
  {
   "cell_type": "code",
   "execution_count": 200,
   "id": "163bc424",
   "metadata": {},
   "outputs": [
    {
     "data": {
      "image/png": "[encoded data removed]",
      "text/plain": [
       "<Figure size 432x288 with 1 Axes>"
      ]
     },
     "metadata": {
      "needs_background": "light"
     },
     "output_type": "display_data"
    }
   ],
   "source": [
    "mz.plot_residuals(y_train.home_value, y_train.home_value_baseline_median)"
   ]
  },
  {
   "cell_type": "code",
   "execution_count": 201,
   "id": "feb3db58",
   "metadata": {},
   "outputs": [
    {
     "data": {
      "image/png": "[encoded data removed]",
      "text/plain": [
       "<Figure size 432x288 with 1 Axes>"
      ]
     },
     "metadata": {
      "needs_background": "light"
     },
     "output_type": "display_data"
    }
   ],
   "source": [
    "# plot to visualize actual vs predicted.\n",
    "#median value performs better\n",
    "\n",
    "plt.hist(y_train.home_value, color='mediumslateblue', alpha=.5, label=\"Actual Home Value\")\n",
    "plt.vlines(y_train.home_value_baseline_mean, 0, 3000, color='gold', alpha=.3, label=\"Mean-Pred Home Value\")\n",
    "plt.vlines(y_train.home_value_baseline_median, 0, 3000, color='black', alpha=.2, label=\"Median-Pred Home Value\")\n",
    "plt.xlabel(\"Home Value\")\n",
    "plt.ylabel(\"Number Homes\")\n",
    "plt.legend()\n",
    "plt.show()"
   ]
  },
  {
   "cell_type": "code",
   "execution_count": 202,
   "id": "0e9cda69",
   "metadata": {},
   "outputs": [
    {
     "name": "stdout",
     "output_type": "stream",
     "text": [
      "\n",
      "      BASELINE:\n",
      "      \n",
      "      RMSE using Median\n",
      "      Train/In-Sample: 279765.61\n",
      "      Validate/Out-of-Sample: 279423.34\n",
      "        \n"
     ]
    }
   ],
   "source": [
    "# 3. RMSE of hv_pred_median\n",
    "rmse_train = mean_squared_error(y_train.home_value, y_train.home_value_baseline_median) ** (0.5)\n",
    "rmse_validate = mean_squared_error(y_validate.home_value, y_validate.home_value_baseline_median) ** (0.5)\n",
    "\n",
    "print(f\"\"\"\n",
    "      BASELINE:\n",
    "      \n",
    "      RMSE using Median\n",
    "      Train/In-Sample: {round(rmse_train, 2)}\n",
    "      Validate/Out-of-Sample: {round(rmse_validate, 2)}\n",
    "        \"\"\")"
   ]
  },
  {
   "cell_type": "markdown",
   "id": "9d81a701",
   "metadata": {},
   "source": [
    "\n",
    "### Train / Validate\n",
    "Modeling: LinearRegression (OLS)"
   ]
  },
  {
   "cell_type": "code",
   "execution_count": 203,
   "id": "a2eb412c",
   "metadata": {},
   "outputs": [
    {
     "name": "stdout",
     "output_type": "stream",
     "text": [
      "\n",
      "              BASELINE:\n",
      "              \n",
      "              RMSE using Median\n",
      "              Train/In-Sample: 279765.61\n",
      "              Validate/Out-of-Sample: 279423.34\n",
      "\n",
      "    RMSE for OLS using LinearRegression\n",
      "    \n",
      "    Training/In-Sample: 223506.14\n",
      "    Validation/Out-of-Sample: 223873.71\n",
      "\n"
     ]
    }
   ],
   "source": [
    "# create the model object\n",
    "lm = LinearRegression(normalize=True)\n",
    "\n",
    "# fit the model to our training data. We must specify the column in y_train, \n",
    "# since we have converted it to a dataframe from a series! \n",
    "lm.fit(X_train, y_train.home_value)\n",
    "\n",
    "# predict train\n",
    "y_train['home_value_pred_lm'] = lm.predict(X_train)\n",
    "\n",
    "# evaluate: rmse\n",
    "rmse_train_lm = mean_squared_error(y_train.home_value, y_train.home_value_pred_lm)**(0.5)\n",
    "\n",
    "# predict validate\n",
    "y_validate['home_value_pred_lm'] = lm.predict(X_validate)\n",
    "\n",
    "# evaluate: rmse\n",
    "rmse_validate_lm = mean_squared_error(y_validate.home_value, y_validate.home_value_pred_lm)**(0.5)\n",
    "\n",
    "print(f\"\"\"\n",
    "              BASELINE:\n",
    "              \n",
    "              RMSE using Median\n",
    "              Train/In-Sample: {round(rmse_train, 2)}\n",
    "              Validate/Out-of-Sample: {round(rmse_validate, 2)}\n",
    "\n",
    "    RMSE for OLS using LinearRegression\n",
    "    \n",
    "    Training/In-Sample: {round(rmse_train_lm, 2)}\n",
    "    Validation/Out-of-Sample: {round(rmse_validate_lm, 2)}\n",
    "\"\"\")"
   ]
  },
  {
   "cell_type": "markdown",
   "id": "40a89803",
   "metadata": {},
   "source": [
    "### Modeling: LassoLars"
   ]
  },
  {
   "cell_type": "code",
   "execution_count": 204,
   "id": "0a483c39",
   "metadata": {},
   "outputs": [
    {
     "name": "stdout",
     "output_type": "stream",
     "text": [
      "\n",
      "              BASELINE:\n",
      "              \n",
      "              RMSE using Median\n",
      "              Train/In-Sample: 279765.61\n",
      "              Validate/Out-of-Sample: 279423.34\n",
      "              \n",
      "                RMSE for OLS using LinearRegression\n",
      "                \n",
      "                Training/In-Sample: 223506.14\n",
      "                Validation/Out-of-Sample: 223873.71\n",
      "\n",
      "    RMSE for LassoLars\n",
      "    \n",
      "    Training/In-Sample: 223620.16\n",
      "    Validation/Out-of-Sample: 224003.92\n",
      "\n"
     ]
    }
   ],
   "source": [
    "# create the model object\n",
    "\n",
    "lars = LassoLars(alpha=1.0)\n",
    "\n",
    "# fit the model to our training data. We must specify the column in y_train, \n",
    "# since we have converted it to a dataframe from a series! \n",
    "lars.fit(X_train, y_train.home_value)\n",
    "\n",
    "# predict train\n",
    "y_train['home_value_pred_lars'] = lars.predict(X_train)\n",
    "\n",
    "# evaluate: rmse\n",
    "rmse_train_lars = mean_squared_error(y_train.home_value, y_train.home_value_pred_lars)**(0.5)\n",
    "\n",
    "# predict validate\n",
    "y_validate['home_value_pred_lars'] = lars.predict(X_validate)\n",
    "\n",
    "# evaluate: rmse\n",
    "rmse_validate_lars = mean_squared_error(y_validate.home_value, y_validate.home_value_pred_lars)**(0.5)\n",
    "\n",
    "print(f\"\"\"\n",
    "              BASELINE:\n",
    "              \n",
    "              RMSE using Median\n",
    "              Train/In-Sample: {round(rmse_train, 2)}\n",
    "              Validate/Out-of-Sample: {round(rmse_validate, 2)}\n",
    "              \n",
    "                RMSE for OLS using LinearRegression\n",
    "                \n",
    "                Training/In-Sample: {round(rmse_train_lm, 2)}\n",
    "                Validation/Out-of-Sample: {round(rmse_validate_lm, 2)}\n",
    "\n",
    "    RMSE for LassoLars\n",
    "    \n",
    "    Training/In-Sample: {round(rmse_train_lars, 2)}\n",
    "    Validation/Out-of-Sample: {round(rmse_validate_lars, 2)}\n",
    "\"\"\")"
   ]
  },
  {
   "cell_type": "markdown",
   "id": "5f4196e9",
   "metadata": {},
   "source": [
    "### Modeling: TweedieRegressor (GLM)"
   ]
  },
  {
   "cell_type": "code",
   "execution_count": 205,
   "id": "79a4c3ed",
   "metadata": {},
   "outputs": [
    {
     "name": "stdout",
     "output_type": "stream",
     "text": [
      "\n",
      "              BASELINE:\n",
      "              \n",
      "              RMSE using Median\n",
      "              Train/In-Sample: 279765.61\n",
      "              Validate/Out-of-Sample: 279423.34\n",
      "              \n",
      "                RMSE for OLS using LinearRegression\n",
      "                \n",
      "                Training/In-Sample: 223506.14\n",
      "                Validation/Out-of-Sample: 223873.71\n",
      "\n",
      "                RMSE for LassoLars\n",
      "                \n",
      "                Training/In-Sample: 223620.16\n",
      "                Validation/Out-of-Sample: 224003.92\n",
      "    \n",
      "    RMSE for TweedieRegressor (GLM)\n",
      "    power=1, alpha=0\n",
      "    \n",
      "    Training/In-Sample: 272784.56\n",
      "    Validation/Out-of-Sample: 272460.67\n",
      "\n"
     ]
    }
   ],
   "source": [
    "# create the model object\n",
    "glm = TweedieRegressor(power=1, alpha=0)\n",
    "\n",
    "# fit the model to our training data. We must specify the column in y_train, \n",
    "# since we have converted it to a dataframe from a series! \n",
    "glm.fit(X_train, y_train.home_value)\n",
    "\n",
    "# predict train\n",
    "y_train['home_value_pred_glm'] = glm.predict(X_train)\n",
    "\n",
    "# evaluate: rmse\n",
    "rmse_train_glm = mean_squared_error(y_train.home_value, y_train.home_value_pred_glm)**(0.5)\n",
    "\n",
    "# predict validate\n",
    "y_validate['home_value_pred_glm'] = glm.predict(X_validate)\n",
    "\n",
    "# evaluate: rmse\n",
    "rmse_validate_glm = mean_squared_error(y_validate.home_value, y_validate.home_value_pred_glm)**(0.5)\n",
    "\n",
    "print(f\"\"\"\n",
    "              BASELINE:\n",
    "              \n",
    "              RMSE using Median\n",
    "              Train/In-Sample: {round(rmse_train, 2)}\n",
    "              Validate/Out-of-Sample: {round(rmse_validate, 2)}\n",
    "              \n",
    "                RMSE for OLS using LinearRegression\n",
    "                \n",
    "                Training/In-Sample: {round(rmse_train_lm, 2)}\n",
    "                Validation/Out-of-Sample: {round(rmse_validate_lm, 2)}\n",
    "\n",
    "                RMSE for LassoLars\n",
    "                \n",
    "                Training/In-Sample: {round(rmse_train_lars, 2)}\n",
    "                Validation/Out-of-Sample: {round(rmse_validate_lars, 2)}\n",
    "    \n",
    "    RMSE for TweedieRegressor (GLM)\n",
    "    power=1, alpha=0\n",
    "    \n",
    "    Training/In-Sample: {round(rmse_train_glm, 2)}\n",
    "    Validation/Out-of-Sample: {round(rmse_validate_glm, 2)}\n",
    "\"\"\")"
   ]
  },
  {
   "cell_type": "markdown",
   "id": "aa01c190",
   "metadata": {},
   "source": [
    "### Modeling: PolynomialFeatures"
   ]
  },
  {
   "cell_type": "code",
   "execution_count": 206,
   "id": "6f359c1d",
   "metadata": {},
   "outputs": [],
   "source": [
    "# make the polynomial features to get a new set of features\n",
    "pf = PolynomialFeatures(degree=2)\n",
    "\n",
    "# fit and transform X_train_scaled\n",
    "X_train_degree2 = pf.fit_transform(X_train)\n",
    "\n",
    "# transform X_validate_scaled & X_test_scaled\n",
    "X_validate_degree2 = pf.transform(X_validate)\n",
    "X_test_degree2 = pf.transform(X_test)"
   ]
  },
  {
   "cell_type": "code",
   "execution_count": 207,
   "id": "45c5b96a",
   "metadata": {},
   "outputs": [
    {
     "name": "stdout",
     "output_type": "stream",
     "text": [
      "\n",
      "              BASELINE:\n",
      "              \n",
      "              RMSE using Median\n",
      "              Train/In-Sample: 279765.61\n",
      "              Validate/Out-of-Sample: 279423.34\n",
      "              \n",
      "                RMSE for OLS using LinearRegression\n",
      "                \n",
      "                Training/In-Sample: 223506.14\n",
      "                Validation/Out-of-Sample: 223873.71\n",
      "\n",
      "                RMSE for LassoLars\n",
      "                \n",
      "                Training/In-Sample: 223620.16\n",
      "                Validation/Out-of-Sample: 224003.92\n",
      "    \n",
      "                RMSE for TweedieRegressor (GLM)\n",
      "                power=1, alpha=0\n",
      "                \n",
      "                Training/In-Sample: 272784.56\n",
      "                Validation/Out-of-Sample: 272460.67\n",
      "                \n",
      "    \n",
      "    RMSE for Polynomial Regressor\n",
      "    degrees=2\n",
      "    \n",
      "    Training/In-Sample: 222686.78\n",
      "    Validation/Out-of-Sample: 223076.9\n",
      "\n"
     ]
    }
   ],
   "source": [
    "# create the model object\n",
    "lm2 = LinearRegression(normalize=True)\n",
    "\n",
    "# fit the model to our training data. We must specify the column in y_train, \n",
    "# since we have converted it to a dataframe from a series! \n",
    "lm2.fit(X_train_degree2, y_train.home_value)\n",
    "\n",
    "# predict train\n",
    "y_train['home_value_pred_lm2'] = lm2.predict(X_train_degree2)\n",
    "\n",
    "# evaluate: rmse\n",
    "rmse_train_lm2 = mean_squared_error(y_train.home_value, y_train.home_value_pred_lm2)**(0.5)\n",
    "\n",
    "# predict validate\n",
    "y_validate['home_value_pred_lm2'] = lm2.predict(X_validate_degree2)\n",
    "\n",
    "# evaluate: rmse\n",
    "rmse_validate_lm2 = mean_squared_error(y_validate.home_value, y_validate.home_value_pred_lm2)**(0.5)\n",
    "\n",
    "print(f\"\"\"\n",
    "              BASELINE:\n",
    "              \n",
    "              RMSE using Median\n",
    "              Train/In-Sample: {round(rmse_train, 2)}\n",
    "              Validate/Out-of-Sample: {round(rmse_validate, 2)}\n",
    "              \n",
    "                RMSE for OLS using LinearRegression\n",
    "                \n",
    "                Training/In-Sample: {round(rmse_train_lm, 2)}\n",
    "                Validation/Out-of-Sample: {round(rmse_validate_lm, 2)}\n",
    "\n",
    "                RMSE for LassoLars\n",
    "                \n",
    "                Training/In-Sample: {round(rmse_train_lars, 2)}\n",
    "                Validation/Out-of-Sample: {round(rmse_validate_lars, 2)}\n",
    "    \n",
    "                RMSE for TweedieRegressor (GLM)\n",
    "                power=1, alpha=0\n",
    "                \n",
    "                Training/In-Sample: {round(rmse_train_glm, 2)}\n",
    "                Validation/Out-of-Sample: {round(rmse_validate_glm, 2)}\n",
    "                \n",
    "    \n",
    "    RMSE for Polynomial Regressor\n",
    "    degrees=2\n",
    "    \n",
    "    Training/In-Sample: {round(rmse_train_lm2, 2)}\n",
    "    Validation/Out-of-Sample: {round(rmse_validate_lm2, 2)}\n",
    "\"\"\")"
   ]
  },
  {
   "cell_type": "code",
   "execution_count": 208,
   "id": "27d6b9b3",
   "metadata": {},
   "outputs": [],
   "source": [
    "# make the polynomial features to get a new set of features\n",
    "pf3 = PolynomialFeatures(degree=3)\n",
    "\n",
    "# fit and transform X_train_scaled\n",
    "X_train_degree3 = pf3.fit_transform(X_train)\n",
    "\n",
    "# transform X_validate_scaled & X_test_scaled\n",
    "X_validate_degree3 = pf3.transform(X_validate)\n",
    "X_test_degree3 = pf3.transform(X_test)"
   ]
  },
  {
   "cell_type": "code",
   "execution_count": 209,
   "id": "bce79cd1",
   "metadata": {},
   "outputs": [
    {
     "name": "stdout",
     "output_type": "stream",
     "text": [
      "\n",
      "              BASELINE:\n",
      "              \n",
      "              RMSE using Median\n",
      "              Train/In-Sample: 279765.61\n",
      "              Validate/Out-of-Sample: 279423.34\n",
      "              \n",
      "                RMSE for OLS using LinearRegression\n",
      "                \n",
      "                Training/In-Sample: 223506.14\n",
      "                Validation/Out-of-Sample: 223873.71\n",
      "\n",
      "                RMSE for LassoLars\n",
      "                \n",
      "                Training/In-Sample: 223620.16\n",
      "                Validation/Out-of-Sample: 224003.92\n",
      "    \n",
      "                RMSE for TweedieRegressor (GLM)\n",
      "                power=1, alpha=0\n",
      "                \n",
      "                Training/In-Sample: 272784.56\n",
      "                Validation/Out-of-Sample: 272460.67\n",
      "                \n",
      "                RMSE for Polynomial Regressor\n",
      "                degrees=2\n",
      "                \n",
      "                Training/In-Sample: 222686.78\n",
      "                Validation/Out-of-Sample: 223076.9\n",
      "                \n",
      "    \n",
      "    RMSE for Polynomial Regressor\n",
      "    degrees=3\n",
      "    \n",
      "    Training/In-Sample: 222405.05\n",
      "    Validation/Out-of-Sample: 222811.0\n",
      "\n"
     ]
    }
   ],
   "source": [
    "# create the model object\n",
    "lm3 = LinearRegression(normalize=True)\n",
    "\n",
    "# fit the model to our training data. We must specify the column in y_train, \n",
    "# since we have converted it to a dataframe from a series! \n",
    "lm3.fit(X_train_degree3, y_train.home_value)\n",
    "\n",
    "# predict train\n",
    "y_train['home_value_pred_lm3'] = lm3.predict(X_train_degree3)\n",
    "\n",
    "# evaluate: rmse\n",
    "rmse_train_lm3 = mean_squared_error(y_train.home_value, y_train.home_value_pred_lm3)**(0.5)\n",
    "\n",
    "# predict validate\n",
    "y_validate['home_value_pred_lm3'] = lm3.predict(X_validate_degree3)\n",
    "\n",
    "# evaluate: rmse\n",
    "rmse_validate_lm3 = mean_squared_error(y_validate.home_value, y_validate.home_value_pred_lm3)**(0.5)\n",
    "\n",
    "print(f\"\"\"\n",
    "              BASELINE:\n",
    "              \n",
    "              RMSE using Median\n",
    "              Train/In-Sample: {round(rmse_train, 2)}\n",
    "              Validate/Out-of-Sample: {round(rmse_validate, 2)}\n",
    "              \n",
    "                RMSE for OLS using LinearRegression\n",
    "                \n",
    "                Training/In-Sample: {round(rmse_train_lm, 2)}\n",
    "                Validation/Out-of-Sample: {round(rmse_validate_lm, 2)}\n",
    "\n",
    "                RMSE for LassoLars\n",
    "                \n",
    "                Training/In-Sample: {round(rmse_train_lars, 2)}\n",
    "                Validation/Out-of-Sample: {round(rmse_validate_lars, 2)}\n",
    "    \n",
    "                RMSE for TweedieRegressor (GLM)\n",
    "                power=1, alpha=0\n",
    "                \n",
    "                Training/In-Sample: {round(rmse_train_glm, 2)}\n",
    "                Validation/Out-of-Sample: {round(rmse_validate_glm, 2)}\n",
    "                \n",
    "                RMSE for Polynomial Regressor\n",
    "                degrees=2\n",
    "                \n",
    "                Training/In-Sample: {round(rmse_train_lm2, 2)}\n",
    "                Validation/Out-of-Sample: {round(rmse_validate_lm2, 2)}\n",
    "                \n",
    "    \n",
    "    RMSE for Polynomial Regressor\n",
    "    degrees=3\n",
    "    \n",
    "    Training/In-Sample: {round(rmse_train_lm3, 2)}\n",
    "    Validation/Out-of-Sample: {round(rmse_validate_lm3, 2)}\n",
    "\"\"\")"
   ]
  },
  {
   "cell_type": "code",
   "execution_count": 210,
   "id": "629054e2",
   "metadata": {},
   "outputs": [],
   "source": [
    "# make the polynomial features to get a new set of features\n",
    "pf4 = PolynomialFeatures(degree=4)\n",
    "\n",
    "# fit and transform X_train_scaled\n",
    "X_train_degree4 = pf4.fit_transform(X_train)\n",
    "\n",
    "# transform X_validate_scaled & X_test_scaled\n",
    "X_validate_degree4 = pf4.transform(X_validate)\n",
    "X_test_degree4 = pf4.transform(X_test)"
   ]
  },
  {
   "cell_type": "code",
   "execution_count": 211,
   "id": "33c1a504",
   "metadata": {},
   "outputs": [
    {
     "name": "stdout",
     "output_type": "stream",
     "text": [
      "\n",
      "              BASELINE:\n",
      "              \n",
      "              RMSE using Median\n",
      "              Train/In-Sample: 279765.61\n",
      "              Validate/Out-of-Sample: 279423.34\n",
      "              \n",
      "                RMSE for OLS using LinearRegression\n",
      "                \n",
      "                Training/In-Sample: 223506.14\n",
      "                Validation/Out-of-Sample: 223873.71\n",
      "\n",
      "                RMSE for LassoLars\n",
      "                \n",
      "                Training/In-Sample: 223620.16\n",
      "                Validation/Out-of-Sample: 224003.92\n",
      "    \n",
      "                RMSE for TweedieRegressor (GLM)\n",
      "                power=1, alpha=0\n",
      "                \n",
      "                Training/In-Sample: 272784.56\n",
      "                Validation/Out-of-Sample: 272460.67\n",
      "                \n",
      "                RMSE for Polynomial Regressor\n",
      "                degrees=2\n",
      "                \n",
      "                Training/In-Sample: 222686.78\n",
      "                Validation/Out-of-Sample: 223076.9\n",
      "                \n",
      "                RMSE for Polynomial Regressor\n",
      "                degrees=3\n",
      "                \n",
      "                Training/In-Sample: 222405.05\n",
      "                Validation/Out-of-Sample: 222811.0\n",
      "                \n",
      "    \n",
      "    RMSE for Polynomial Regressor\n",
      "    degrees=4\n",
      "    \n",
      "    Training/In-Sample: 222250.98\n",
      "    Validation/Out-of-Sample: 224145.97\n",
      "\n"
     ]
    }
   ],
   "source": [
    "# create the model object\n",
    "lm4 = LinearRegression(normalize=True)\n",
    "\n",
    "# fit the model to our training data. We must specify the column in y_train, \n",
    "# since we have converted it to a dataframe from a series! \n",
    "lm4.fit(X_train_degree4, y_train.home_value)\n",
    "\n",
    "# predict train\n",
    "y_train['home_value_pred_lm4'] = lm4.predict(X_train_degree4)\n",
    "\n",
    "# evaluate: rmse\n",
    "rmse_train_lm4 = mean_squared_error(y_train.home_value, y_train.home_value_pred_lm4)**(0.5)\n",
    "\n",
    "# predict validate\n",
    "y_validate['home_value_pred_lm4'] = lm4.predict(X_validate_degree4)\n",
    "\n",
    "# evaluate: rmse\n",
    "rmse_validate_lm4 = mean_squared_error(y_validate.home_value, y_validate.home_value_pred_lm4)**(0.5)\n",
    "\n",
    "print(f\"\"\"\n",
    "              BASELINE:\n",
    "              \n",
    "              RMSE using Median\n",
    "              Train/In-Sample: {round(rmse_train, 2)}\n",
    "              Validate/Out-of-Sample: {round(rmse_validate, 2)}\n",
    "              \n",
    "                RMSE for OLS using LinearRegression\n",
    "                \n",
    "                Training/In-Sample: {round(rmse_train_lm, 2)}\n",
    "                Validation/Out-of-Sample: {round(rmse_validate_lm, 2)}\n",
    "\n",
    "                RMSE for LassoLars\n",
    "                \n",
    "                Training/In-Sample: {round(rmse_train_lars, 2)}\n",
    "                Validation/Out-of-Sample: {round(rmse_validate_lars, 2)}\n",
    "    \n",
    "                RMSE for TweedieRegressor (GLM)\n",
    "                power=1, alpha=0\n",
    "                \n",
    "                Training/In-Sample: {round(rmse_train_glm, 2)}\n",
    "                Validation/Out-of-Sample: {round(rmse_validate_glm, 2)}\n",
    "                \n",
    "                RMSE for Polynomial Regressor\n",
    "                degrees=2\n",
    "                \n",
    "                Training/In-Sample: {round(rmse_train_lm2, 2)}\n",
    "                Validation/Out-of-Sample: {round(rmse_validate_lm2, 2)}\n",
    "                \n",
    "                RMSE for Polynomial Regressor\n",
    "                degrees=3\n",
    "                \n",
    "                Training/In-Sample: {round(rmse_train_lm3, 2)}\n",
    "                Validation/Out-of-Sample: {round(rmse_validate_lm3, 2)}\n",
    "                \n",
    "    \n",
    "    RMSE for Polynomial Regressor\n",
    "    degrees=4\n",
    "    \n",
    "    Training/In-Sample: {round(rmse_train_lm4, 2)}\n",
    "    Validation/Out-of-Sample: {round(rmse_validate_lm4, 2)}\n",
    "\"\"\")"
   ]
  },
  {
   "cell_type": "code",
   "execution_count": 228,
   "id": "671c1b12",
   "metadata": {},
   "outputs": [
    {
     "data": {
      "image/png": "[encoded data removed]",
      "text/plain": [
       "<Figure size 1152x720 with 1 Axes>"
      ]
     },
     "metadata": {
      "needs_background": "light"
     },
     "output_type": "display_data"
    }
   ],
   "source": [
    "# plot to visualize actual vs predicted. \n",
    "plt.figure(figsize=(16,10))\n",
    "plt.hist(y_validate.home_value, color='darkorchid', alpha=1, label=\"Actual Home Values\")\n",
    "plt.hist(y_validate.home_value_pred_lm2, color='c', alpha=.7, label=\"Model: RMSE for Polynomial Regressor degrees=2\", ec='black')\n",
    "plt.hist(y_validate.home_value_pred_lm3, color='chartreuse', alpha=.2, label=\"Model: RMSE for Polynomial Regressor degrees=3\")\n",
    "#plt.hist(y_validate.home_value_pred_lm4, color='m', alpha=.2, label=\"Model: RMSE for Polynomial Regressor degrees=4\")\n",
    "plt.hist(y_validate.home_value_pred_lm, color='gold', alpha=.2, label=\"Model: LinearRegression\")\n",
    "plt.hist(y_validate.home_value_pred_lars, color='red', alpha=.5, label=\"Model: RMSE for Tweedie Regressor\")\n",
    "plt.xlim(0, 1500000)\n",
    "plt.xlabel(\"Home Value\")\n",
    "plt.ylabel(\"Number of Homes\")\n",
    "plt.title(\"Comparing the Distribution of Actual Home Values to Distributions of Predicted Home Values for the Top Models\")\n",
    "plt.legend()\n",
    "plt.show()"
   ]
  },
  {
   "cell_type": "markdown",
   "id": "30d15d10",
   "metadata": {},
   "source": [
    "### Test"
   ]
  },
  {
   "cell_type": "code",
   "execution_count": 229,
   "id": "49a0895a",
   "metadata": {},
   "outputs": [
    {
     "name": "stdout",
     "output_type": "stream",
     "text": [
      "\n",
      "    RMSE for Polynomial Regressor degrees=2\n",
      "    \n",
      "    Test/Out-of-Sample Performance: 223197.75\n",
      "\n"
     ]
    }
   ],
   "source": [
    "y_test = pd.DataFrame(y_test)\n",
    "\n",
    "#predict on test\n",
    "y_test['home_value_pred_lm2'] = lm2.predict(X_test_degree2)\n",
    "\n",
    "# evaluate: rmse\n",
    "rmse_test = mean_squared_error(y_test.home_value, y_test.home_value_pred_lm2)**(0.5)\n",
    "\n",
    "print(f\"\"\"\n",
    "    RMSE for Polynomial Regressor degrees=2\n",
    "    \n",
    "    Test/Out-of-Sample Performance: {round(rmse_test, 2)}\n",
    "\"\"\")"
   ]
  },
  {
   "cell_type": "code",
   "execution_count": null,
   "id": "bb7597e4",
   "metadata": {},
   "outputs": [],
   "source": []
  },
  {
   "cell_type": "code",
   "execution_count": null,
   "id": "83153258",
   "metadata": {},
   "outputs": [],
   "source": []
  },
  {
   "cell_type": "code",
   "execution_count": null,
   "id": "e9fe1577",
   "metadata": {},
   "outputs": [],
   "source": [
    "sns.pairplot(train, kind='reg')"
   ]
  },
  {
   "cell_type": "code",
   "execution_count": null,
   "id": "47d54034",
   "metadata": {},
   "outputs": [],
   "source": []
  },
  {
   "cell_type": "code",
   "execution_count": null,
   "id": "341f58fd",
   "metadata": {},
   "outputs": [],
   "source": []
  },
  {
   "cell_type": "code",
   "execution_count": null,
   "id": "03cd0026",
   "metadata": {},
   "outputs": [],
   "source": []
  },
  {
   "cell_type": "code",
   "execution_count": null,
   "id": "c40189f0",
   "metadata": {},
   "outputs": [],
   "source": []
  },
  {
   "cell_type": "code",
   "execution_count": null,
   "id": "c42df216",
   "metadata": {},
   "outputs": [],
   "source": []
  },
  {
   "cell_type": "code",
   "execution_count": null,
   "id": "67c8922f",
   "metadata": {},
   "outputs": [],
   "source": []
  }
 ],
 "metadata": {
  "kernelspec": {
   "display_name": "Python 3 (ipykernel)",
   "language": "python",
   "name": "python3"
  },
  "language_info": {
   "codemirror_mode": {
    "name": "ipython",
    "version": 3
   },
   "file_extension": ".py",
   "mimetype": "text/x-python",
   "name": "python",
   "nbconvert_exporter": "python",
   "pygments_lexer": "ipython3",
   "version": "3.9.12"
  }
 },
 "nbformat": 4,
 "nbformat_minor": 5
}
