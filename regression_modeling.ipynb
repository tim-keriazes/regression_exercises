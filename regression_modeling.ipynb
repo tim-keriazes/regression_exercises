{
 "cells": [
  {
   "cell_type": "markdown",
   "id": "ec14f39b",
   "metadata": {},
   "source": [
    "### Exercises\n",
    "    Select a dataset with a continuous target variable.\n",
    "\n",
    "    Be sure your data is prepared (no missing values, numeric datatypes) and split into samples.\n",
    "\n",
    "    Work through all of the steps outlined in the lesson, from setting the baseline to selected a model and evaluating the final model on your test data."
   ]
  },
  {
   "cell_type": "code",
   "execution_count": 2,
   "id": "01a9890d",
   "metadata": {},
   "outputs": [],
   "source": [
    "%matplotlib inline\n",
    "import matplotlib.pyplot as plt\n",
    "import numpy as np\n",
    "import pandas as pd\n",
    "import pydataset\n",
    "import seaborn as sns\n",
    "from sklearn.neighbors import KNeighborsClassifier\n",
    "from sklearn.preprocessing import MinMaxScaler, StandardScaler, RobustScaler, QuantileTransformer\n",
    "from sklearn.metrics import mean_squared_error, r2_score\n",
    "import prepare_telco\n",
    "import wrangle\n",
    "import os\n",
    "from env import user, password, host\n",
    "from sklearn.linear_model import LinearRegression\n",
    "from sklearn.feature_selection import f_regression \n",
    "from math import sqrt\n",
    "from sklearn.feature_selection import SelectKBest, f_regression\n",
    "from sklearn.feature_selection import RFE\n",
    "import warnings\n",
    "warnings.filterwarnings('ignore')\n",
    "from scipy import stats\n",
    "import prepare_telco\n",
    "from scipy.stats import pearsonr, spearmanr\n",
    "from statsmodels.formula.api import ols"
   ]
  },
  {
   "cell_type": "code",
   "execution_count": 16,
   "id": "f7b17a03",
   "metadata": {},
   "outputs": [],
   "source": [
    "#load wrangled dataset\n",
    "df=wrangle.wrangle_zillow()"
   ]
  },
  {
   "cell_type": "code",
   "execution_count": 18,
   "id": "dab3384e",
   "metadata": {
    "scrolled": true
   },
   "outputs": [
    {
     "name": "stdout",
     "output_type": "stream",
     "text": [
      "<class 'pandas.core.frame.DataFrame'>\n",
      "Int64Index: 2094583 entries, 4 to 2152862\n",
      "Data columns (total 7 columns):\n",
      " #   Column                        Non-Null Count    Dtype  \n",
      "---  ------                        --------------    -----  \n",
      " 0   bedroomcnt                    2094583 non-null  int32  \n",
      " 1   bathroomcnt                   2094583 non-null  float64\n",
      " 2   calculatedfinishedsquarefeet  2094583 non-null  int32  \n",
      " 3   taxvaluedollarcnt             2094583 non-null  int32  \n",
      " 4   yearbuilt                     2094583 non-null  int32  \n",
      " 5   taxamount                     2094583 non-null  float64\n",
      " 6   fips                          2094583 non-null  int32  \n",
      "dtypes: float64(2), int32(5)\n",
      "memory usage: 87.9 MB\n"
     ]
    }
   ],
   "source": [
    "df.info(show_counts=True)"
   ]
  },
  {
   "cell_type": "code",
   "execution_count": 19,
   "id": "e757abba",
   "metadata": {},
   "outputs": [],
   "source": [
    "#new column total bill divided by size\n",
    "df['cost_per_sqft'] = (df['taxvaluedollarcnt']/df['calculatedfinishedsquarefeet']).round(2)"
   ]
  },
  {
   "cell_type": "code",
   "execution_count": 20,
   "id": "e24eb36c",
   "metadata": {},
   "outputs": [
    {
     "name": "stdout",
     "output_type": "stream",
     "text": [
      "<class 'pandas.core.frame.DataFrame'>\n",
      "Int64Index: 2094583 entries, 4 to 2152862\n",
      "Data columns (total 8 columns):\n",
      " #   Column                        Non-Null Count    Dtype  \n",
      "---  ------                        --------------    -----  \n",
      " 0   bedroomcnt                    2094583 non-null  int32  \n",
      " 1   bathroomcnt                   2094583 non-null  float64\n",
      " 2   calculatedfinishedsquarefeet  2094583 non-null  int32  \n",
      " 3   taxvaluedollarcnt             2094583 non-null  int32  \n",
      " 4   yearbuilt                     2094583 non-null  int32  \n",
      " 5   taxamount                     2094583 non-null  float64\n",
      " 6   fips                          2094583 non-null  int32  \n",
      " 7   cost_per_sqft                 2094583 non-null  float64\n",
      "dtypes: float64(3), int32(5)\n",
      "memory usage: 103.9 MB\n"
     ]
    }
   ],
   "source": [
    "df.info(show_counts=True)"
   ]
  },
  {
   "cell_type": "code",
   "execution_count": 22,
   "id": "f1e63c32",
   "metadata": {},
   "outputs": [],
   "source": [
    "#avg sqft per number of rooms (bedroom+bathroom)\n",
    "df['sqft_room_ratio'] = (df['calculatedfinishedsquarefeet']/(df['bedroomcnt']+df['bathroomcnt'])).round(2)"
   ]
  },
  {
   "cell_type": "code",
   "execution_count": 23,
   "id": "388d950c",
   "metadata": {},
   "outputs": [
    {
     "name": "stdout",
     "output_type": "stream",
     "text": [
      "<class 'pandas.core.frame.DataFrame'>\n",
      "Int64Index: 2094583 entries, 4 to 2152862\n",
      "Data columns (total 9 columns):\n",
      " #   Column                        Non-Null Count    Dtype  \n",
      "---  ------                        --------------    -----  \n",
      " 0   bedroomcnt                    2094583 non-null  int32  \n",
      " 1   bathroomcnt                   2094583 non-null  float64\n",
      " 2   calculatedfinishedsquarefeet  2094583 non-null  int32  \n",
      " 3   taxvaluedollarcnt             2094583 non-null  int32  \n",
      " 4   yearbuilt                     2094583 non-null  int32  \n",
      " 5   taxamount                     2094583 non-null  float64\n",
      " 6   fips                          2094583 non-null  int32  \n",
      " 7   cost_per_sqft                 2094583 non-null  float64\n",
      " 8   sqft_room_ratio               2094583 non-null  float64\n",
      "dtypes: float64(4), int32(5)\n",
      "memory usage: 119.9 MB\n"
     ]
    }
   ],
   "source": [
    "df.info(show_counts=True)"
   ]
  },
  {
   "cell_type": "code",
   "execution_count": 10,
   "id": "3c31a6b3",
   "metadata": {},
   "outputs": [],
   "source": [
    "#avg sqft per number of rooms (bedroom+bathroom)\n",
    "df['sqft_room_ratio'] = (df['calculatedfinishedsquarefeet']/(df['bedroomcnt']+df['bathroomcnt'])).round(2)"
   ]
  },
  {
   "cell_type": "code",
   "execution_count": 68,
   "id": "5915867d",
   "metadata": {
    "scrolled": false
   },
   "outputs": [
    {
     "data": {
      "text/plain": [
       "False    2090302\n",
       "True        4281\n",
       "Name: bedroomcnt, dtype: int64"
      ]
     },
     "execution_count": 68,
     "metadata": {},
     "output_type": "execute_result"
    }
   ],
   "source": [
    "(df.bedroomcnt == 0).value_counts()\n"
   ]
  },
  {
   "cell_type": "code",
   "execution_count": 30,
   "id": "ddd4e7d1",
   "metadata": {
    "scrolled": false
   },
   "outputs": [
    {
     "data": {
      "text/plain": [
       "False    2090400\n",
       "True        4183\n",
       "Name: bathroomcnt, dtype: int64"
      ]
     },
     "execution_count": 30,
     "metadata": {},
     "output_type": "execute_result"
    }
   ],
   "source": [
    "(df.bathroomcnt == 0).value_counts()"
   ]
  },
  {
   "cell_type": "code",
   "execution_count": 64,
   "id": "3725cd51",
   "metadata": {
    "scrolled": true
   },
   "outputs": [
    {
     "data": {
      "text/plain": [
       "4          False\n",
       "6          False\n",
       "7          False\n",
       "11          True\n",
       "14          True\n",
       "           ...  \n",
       "2152856    False\n",
       "2152858    False\n",
       "2152859    False\n",
       "2152861    False\n",
       "2152862    False\n",
       "Name: bedroomcnt, Length: 2094583, dtype: bool"
      ]
     },
     "execution_count": 64,
     "metadata": {},
     "output_type": "execute_result"
    }
   ],
   "source": [
    "df['bedroomcnt']==0"
   ]
  },
  {
   "cell_type": "code",
   "execution_count": 65,
   "id": "fcd4d161",
   "metadata": {},
   "outputs": [
    {
     "data": {
      "text/plain": [
       "4          False\n",
       "6          False\n",
       "7          False\n",
       "11          True\n",
       "14          True\n",
       "           ...  \n",
       "2152856    False\n",
       "2152858    False\n",
       "2152859    False\n",
       "2152861    False\n",
       "2152862    False\n",
       "Name: bathroomcnt, Length: 2094583, dtype: bool"
      ]
     },
     "execution_count": 65,
     "metadata": {},
     "output_type": "execute_result"
    }
   ],
   "source": [
    "df['bathroomcnt']==0"
   ]
  },
  {
   "cell_type": "code",
   "execution_count": 66,
   "id": "3ce73855",
   "metadata": {
    "scrolled": true
   },
   "outputs": [
    {
     "data": {
      "text/plain": [
       "4          False\n",
       "6          False\n",
       "7          False\n",
       "11          True\n",
       "14          True\n",
       "           ...  \n",
       "2152856    False\n",
       "2152858    False\n",
       "2152859    False\n",
       "2152861    False\n",
       "2152862    False\n",
       "Length: 2094583, dtype: bool"
      ]
     },
     "execution_count": 66,
     "metadata": {},
     "output_type": "execute_result"
    }
   ],
   "source": [
    "(df['bedroomcnt']==0)&(df['bathroomcnt']==0)"
   ]
  },
  {
   "cell_type": "code",
   "execution_count": 71,
   "id": "27c6ad66",
   "metadata": {},
   "outputs": [
    {
     "data": {
      "text/html": [
       "<div>\n",
       "<style scoped>\n",
       "    .dataframe tbody tr th:only-of-type {\n",
       "        vertical-align: middle;\n",
       "    }\n",
       "\n",
       "    .dataframe tbody tr th {\n",
       "        vertical-align: top;\n",
       "    }\n",
       "\n",
       "    .dataframe thead th {\n",
       "        text-align: right;\n",
       "    }\n",
       "</style>\n",
       "<table border=\"1\" class=\"dataframe\">\n",
       "  <thead>\n",
       "    <tr style=\"text-align: right;\">\n",
       "      <th></th>\n",
       "      <th>bedroomcnt</th>\n",
       "      <th>bathroomcnt</th>\n",
       "      <th>calculatedfinishedsquarefeet</th>\n",
       "      <th>taxvaluedollarcnt</th>\n",
       "      <th>yearbuilt</th>\n",
       "      <th>taxamount</th>\n",
       "      <th>fips</th>\n",
       "      <th>cost_per_sqft</th>\n",
       "      <th>sqft_room_ratio</th>\n",
       "    </tr>\n",
       "  </thead>\n",
       "  <tbody>\n",
       "    <tr>\n",
       "      <th>count</th>\n",
       "      <td>3274.0</td>\n",
       "      <td>3274.0</td>\n",
       "      <td>3274.000000</td>\n",
       "      <td>3.274000e+03</td>\n",
       "      <td>3274.000000</td>\n",
       "      <td>3274.000000</td>\n",
       "      <td>3274.000000</td>\n",
       "      <td>3274.000000</td>\n",
       "      <td>3274.0</td>\n",
       "    </tr>\n",
       "    <tr>\n",
       "      <th>mean</th>\n",
       "      <td>0.0</td>\n",
       "      <td>0.0</td>\n",
       "      <td>997.124007</td>\n",
       "      <td>1.670785e+05</td>\n",
       "      <td>1952.376298</td>\n",
       "      <td>2159.928177</td>\n",
       "      <td>6040.145388</td>\n",
       "      <td>226.650776</td>\n",
       "      <td>inf</td>\n",
       "    </tr>\n",
       "    <tr>\n",
       "      <th>std</th>\n",
       "      <td>0.0</td>\n",
       "      <td>0.0</td>\n",
       "      <td>1616.759301</td>\n",
       "      <td>2.664791e+05</td>\n",
       "      <td>25.048955</td>\n",
       "      <td>3664.138334</td>\n",
       "      <td>11.850953</td>\n",
       "      <td>647.932280</td>\n",
       "      <td>NaN</td>\n",
       "    </tr>\n",
       "    <tr>\n",
       "      <th>min</th>\n",
       "      <td>0.0</td>\n",
       "      <td>0.0</td>\n",
       "      <td>1.000000</td>\n",
       "      <td>2.200000e+01</td>\n",
       "      <td>1890.000000</td>\n",
       "      <td>6.340000</td>\n",
       "      <td>6037.000000</td>\n",
       "      <td>0.030000</td>\n",
       "      <td>inf</td>\n",
       "    </tr>\n",
       "    <tr>\n",
       "      <th>25%</th>\n",
       "      <td>0.0</td>\n",
       "      <td>0.0</td>\n",
       "      <td>280.000000</td>\n",
       "      <td>1.589850e+04</td>\n",
       "      <td>1931.000000</td>\n",
       "      <td>330.997500</td>\n",
       "      <td>6037.000000</td>\n",
       "      <td>40.992500</td>\n",
       "      <td>NaN</td>\n",
       "    </tr>\n",
       "    <tr>\n",
       "      <th>50%</th>\n",
       "      <td>0.0</td>\n",
       "      <td>0.0</td>\n",
       "      <td>510.000000</td>\n",
       "      <td>5.771200e+04</td>\n",
       "      <td>1952.000000</td>\n",
       "      <td>895.330000</td>\n",
       "      <td>6037.000000</td>\n",
       "      <td>98.500000</td>\n",
       "      <td>NaN</td>\n",
       "    </tr>\n",
       "    <tr>\n",
       "      <th>75%</th>\n",
       "      <td>0.0</td>\n",
       "      <td>0.0</td>\n",
       "      <td>1079.000000</td>\n",
       "      <td>2.020382e+05</td>\n",
       "      <td>1970.000000</td>\n",
       "      <td>2583.125000</td>\n",
       "      <td>6037.000000</td>\n",
       "      <td>232.277500</td>\n",
       "      <td>NaN</td>\n",
       "    </tr>\n",
       "    <tr>\n",
       "      <th>max</th>\n",
       "      <td>0.0</td>\n",
       "      <td>0.0</td>\n",
       "      <td>28609.000000</td>\n",
       "      <td>1.964300e+06</td>\n",
       "      <td>2016.000000</td>\n",
       "      <td>93201.760000</td>\n",
       "      <td>6111.000000</td>\n",
       "      <td>28091.000000</td>\n",
       "      <td>inf</td>\n",
       "    </tr>\n",
       "  </tbody>\n",
       "</table>\n",
       "</div>"
      ],
      "text/plain": [
       "       bedroomcnt  bathroomcnt  calculatedfinishedsquarefeet  \\\n",
       "count      3274.0       3274.0                   3274.000000   \n",
       "mean          0.0          0.0                    997.124007   \n",
       "std           0.0          0.0                   1616.759301   \n",
       "min           0.0          0.0                      1.000000   \n",
       "25%           0.0          0.0                    280.000000   \n",
       "50%           0.0          0.0                    510.000000   \n",
       "75%           0.0          0.0                   1079.000000   \n",
       "max           0.0          0.0                  28609.000000   \n",
       "\n",
       "       taxvaluedollarcnt    yearbuilt     taxamount         fips  \\\n",
       "count       3.274000e+03  3274.000000   3274.000000  3274.000000   \n",
       "mean        1.670785e+05  1952.376298   2159.928177  6040.145388   \n",
       "std         2.664791e+05    25.048955   3664.138334    11.850953   \n",
       "min         2.200000e+01  1890.000000      6.340000  6037.000000   \n",
       "25%         1.589850e+04  1931.000000    330.997500  6037.000000   \n",
       "50%         5.771200e+04  1952.000000    895.330000  6037.000000   \n",
       "75%         2.020382e+05  1970.000000   2583.125000  6037.000000   \n",
       "max         1.964300e+06  2016.000000  93201.760000  6111.000000   \n",
       "\n",
       "       cost_per_sqft  sqft_room_ratio  \n",
       "count    3274.000000           3274.0  \n",
       "mean      226.650776              inf  \n",
       "std       647.932280              NaN  \n",
       "min         0.030000              inf  \n",
       "25%        40.992500              NaN  \n",
       "50%        98.500000              NaN  \n",
       "75%       232.277500              NaN  \n",
       "max     28091.000000              inf  "
      ]
     },
     "execution_count": 71,
     "metadata": {},
     "output_type": "execute_result"
    }
   ],
   "source": [
    "df[(df['bedroomcnt']==0)&(df['bathroomcnt']==0)].describe()"
   ]
  },
  {
   "cell_type": "code",
   "execution_count": 72,
   "id": "2cd631e4",
   "metadata": {},
   "outputs": [
    {
     "data": {
      "text/html": [
       "<div>\n",
       "<style scoped>\n",
       "    .dataframe tbody tr th:only-of-type {\n",
       "        vertical-align: middle;\n",
       "    }\n",
       "\n",
       "    .dataframe tbody tr th {\n",
       "        vertical-align: top;\n",
       "    }\n",
       "\n",
       "    .dataframe thead th {\n",
       "        text-align: right;\n",
       "    }\n",
       "</style>\n",
       "<table border=\"1\" class=\"dataframe\">\n",
       "  <thead>\n",
       "    <tr style=\"text-align: right;\">\n",
       "      <th></th>\n",
       "      <th>bedroomcnt</th>\n",
       "      <th>bathroomcnt</th>\n",
       "      <th>calculatedfinishedsquarefeet</th>\n",
       "      <th>taxvaluedollarcnt</th>\n",
       "      <th>yearbuilt</th>\n",
       "      <th>taxamount</th>\n",
       "      <th>fips</th>\n",
       "      <th>cost_per_sqft</th>\n",
       "      <th>sqft_room_ratio</th>\n",
       "    </tr>\n",
       "  </thead>\n",
       "  <tbody>\n",
       "    <tr>\n",
       "      <th>count</th>\n",
       "      <td>2.089393e+06</td>\n",
       "      <td>2.089393e+06</td>\n",
       "      <td>2.089393e+06</td>\n",
       "      <td>2.089393e+06</td>\n",
       "      <td>2.089393e+06</td>\n",
       "      <td>2.089393e+06</td>\n",
       "      <td>2.089393e+06</td>\n",
       "      <td>2.089393e+06</td>\n",
       "      <td>2.089393e+06</td>\n",
       "    </tr>\n",
       "    <tr>\n",
       "      <th>mean</th>\n",
       "      <td>3.277123e+00</td>\n",
       "      <td>2.186746e+00</td>\n",
       "      <td>1.798880e+03</td>\n",
       "      <td>3.990427e+05</td>\n",
       "      <td>1.960681e+03</td>\n",
       "      <td>4.914563e+03</td>\n",
       "      <td>6.048368e+03</td>\n",
       "      <td>2.243419e+02</td>\n",
       "      <td>3.257907e+02</td>\n",
       "    </tr>\n",
       "    <tr>\n",
       "      <th>std</th>\n",
       "      <td>8.788937e-01</td>\n",
       "      <td>8.712688e-01</td>\n",
       "      <td>1.026000e+03</td>\n",
       "      <td>3.134196e+05</td>\n",
       "      <td>2.184710e+01</td>\n",
       "      <td>3.638174e+03</td>\n",
       "      <td>2.041250e+01</td>\n",
       "      <td>7.994765e+02</td>\n",
       "      <td>1.169436e+02</td>\n",
       "    </tr>\n",
       "    <tr>\n",
       "      <th>min</th>\n",
       "      <td>1.000000e+00</td>\n",
       "      <td>5.000000e-01</td>\n",
       "      <td>1.000000e+00</td>\n",
       "      <td>2.200000e+01</td>\n",
       "      <td>1.801000e+03</td>\n",
       "      <td>1.648000e+01</td>\n",
       "      <td>6.037000e+03</td>\n",
       "      <td>1.000000e-02</td>\n",
       "      <td>1.000000e-01</td>\n",
       "    </tr>\n",
       "    <tr>\n",
       "      <th>25%</th>\n",
       "      <td>3.000000e+00</td>\n",
       "      <td>2.000000e+00</td>\n",
       "      <td>1.252000e+03</td>\n",
       "      <td>1.866240e+05</td>\n",
       "      <td>1.949000e+03</td>\n",
       "      <td>2.512480e+03</td>\n",
       "      <td>6.037000e+03</td>\n",
       "      <td>1.237900e+02</td>\n",
       "      <td>2.672900e+02</td>\n",
       "    </tr>\n",
       "    <tr>\n",
       "      <th>50%</th>\n",
       "      <td>3.000000e+00</td>\n",
       "      <td>2.000000e+00</td>\n",
       "      <td>1.608000e+03</td>\n",
       "      <td>3.225560e+05</td>\n",
       "      <td>1.958000e+03</td>\n",
       "      <td>4.044510e+03</td>\n",
       "      <td>6.037000e+03</td>\n",
       "      <td>1.999000e+02</td>\n",
       "      <td>3.113300e+02</td>\n",
       "    </tr>\n",
       "    <tr>\n",
       "      <th>75%</th>\n",
       "      <td>4.000000e+00</td>\n",
       "      <td>3.000000e+00</td>\n",
       "      <td>2.160000e+03</td>\n",
       "      <td>5.170600e+05</td>\n",
       "      <td>1.975000e+03</td>\n",
       "      <td>6.214460e+03</td>\n",
       "      <td>6.059000e+03</td>\n",
       "      <td>2.941200e+02</td>\n",
       "      <td>3.686700e+02</td>\n",
       "    </tr>\n",
       "    <tr>\n",
       "      <th>max</th>\n",
       "      <td>6.000000e+00</td>\n",
       "      <td>6.000000e+00</td>\n",
       "      <td>9.525760e+05</td>\n",
       "      <td>1.999995e+06</td>\n",
       "      <td>2.016000e+03</td>\n",
       "      <td>1.003793e+05</td>\n",
       "      <td>6.111000e+03</td>\n",
       "      <td>6.097510e+05</td>\n",
       "      <td>1.190720e+05</td>\n",
       "    </tr>\n",
       "  </tbody>\n",
       "</table>\n",
       "</div>"
      ],
      "text/plain": [
       "         bedroomcnt   bathroomcnt  calculatedfinishedsquarefeet  \\\n",
       "count  2.089393e+06  2.089393e+06                  2.089393e+06   \n",
       "mean   3.277123e+00  2.186746e+00                  1.798880e+03   \n",
       "std    8.788937e-01  8.712688e-01                  1.026000e+03   \n",
       "min    1.000000e+00  5.000000e-01                  1.000000e+00   \n",
       "25%    3.000000e+00  2.000000e+00                  1.252000e+03   \n",
       "50%    3.000000e+00  2.000000e+00                  1.608000e+03   \n",
       "75%    4.000000e+00  3.000000e+00                  2.160000e+03   \n",
       "max    6.000000e+00  6.000000e+00                  9.525760e+05   \n",
       "\n",
       "       taxvaluedollarcnt     yearbuilt     taxamount          fips  \\\n",
       "count       2.089393e+06  2.089393e+06  2.089393e+06  2.089393e+06   \n",
       "mean        3.990427e+05  1.960681e+03  4.914563e+03  6.048368e+03   \n",
       "std         3.134196e+05  2.184710e+01  3.638174e+03  2.041250e+01   \n",
       "min         2.200000e+01  1.801000e+03  1.648000e+01  6.037000e+03   \n",
       "25%         1.866240e+05  1.949000e+03  2.512480e+03  6.037000e+03   \n",
       "50%         3.225560e+05  1.958000e+03  4.044510e+03  6.037000e+03   \n",
       "75%         5.170600e+05  1.975000e+03  6.214460e+03  6.059000e+03   \n",
       "max         1.999995e+06  2.016000e+03  1.003793e+05  6.111000e+03   \n",
       "\n",
       "       cost_per_sqft  sqft_room_ratio  \n",
       "count   2.089393e+06     2.089393e+06  \n",
       "mean    2.243419e+02     3.257907e+02  \n",
       "std     7.994765e+02     1.169436e+02  \n",
       "min     1.000000e-02     1.000000e-01  \n",
       "25%     1.237900e+02     2.672900e+02  \n",
       "50%     1.999000e+02     3.113300e+02  \n",
       "75%     2.941200e+02     3.686700e+02  \n",
       "max     6.097510e+05     1.190720e+05  "
      ]
     },
     "execution_count": 72,
     "metadata": {},
     "output_type": "execute_result"
    }
   ],
   "source": [
    "df[(df['bedroomcnt']!=0)&(df['bathroomcnt']!=0)].describe()"
   ]
  },
  {
   "cell_type": "markdown",
   "id": "87c6bd72",
   "metadata": {},
   "source": [
    "at this point after digging into whether or not i can or should impute the values of the averages based on squarefootage or just drop them"
   ]
  },
  {
   "cell_type": "code",
   "execution_count": null,
   "id": "bce5d8d4",
   "metadata": {},
   "outputs": [],
   "source": []
  },
  {
   "cell_type": "code",
   "execution_count": null,
   "id": "05668c20",
   "metadata": {},
   "outputs": [],
   "source": []
  },
  {
   "cell_type": "code",
   "execution_count": 73,
   "id": "41c26b9e",
   "metadata": {},
   "outputs": [],
   "source": [
    "df.drop(df.loc[df['bedroomcnt']==0].index, inplace=True)"
   ]
  },
  {
   "cell_type": "code",
   "execution_count": 75,
   "id": "aa1beed7",
   "metadata": {},
   "outputs": [],
   "source": [
    "df.drop(df.loc[df['bathroomcnt']==0].index, inplace=True)"
   ]
  },
  {
   "cell_type": "code",
   "execution_count": 76,
   "id": "9c4b226c",
   "metadata": {},
   "outputs": [
    {
     "data": {
      "text/plain": [
       "False    2089393\n",
       "Name: bedroomcnt, dtype: int64"
      ]
     },
     "execution_count": 76,
     "metadata": {},
     "output_type": "execute_result"
    }
   ],
   "source": [
    "(df.bedroomcnt == 0).value_counts()"
   ]
  },
  {
   "cell_type": "code",
   "execution_count": 77,
   "id": "84c13cb7",
   "metadata": {},
   "outputs": [
    {
     "data": {
      "text/html": [
       "<div>\n",
       "<style scoped>\n",
       "    .dataframe tbody tr th:only-of-type {\n",
       "        vertical-align: middle;\n",
       "    }\n",
       "\n",
       "    .dataframe tbody tr th {\n",
       "        vertical-align: top;\n",
       "    }\n",
       "\n",
       "    .dataframe thead th {\n",
       "        text-align: right;\n",
       "    }\n",
       "</style>\n",
       "<table border=\"1\" class=\"dataframe\">\n",
       "  <thead>\n",
       "    <tr style=\"text-align: right;\">\n",
       "      <th></th>\n",
       "      <th>bedroomcnt</th>\n",
       "      <th>bathroomcnt</th>\n",
       "      <th>calculatedfinishedsquarefeet</th>\n",
       "      <th>taxvaluedollarcnt</th>\n",
       "      <th>yearbuilt</th>\n",
       "      <th>taxamount</th>\n",
       "      <th>fips</th>\n",
       "      <th>cost_per_sqft</th>\n",
       "      <th>sqft_room_ratio</th>\n",
       "    </tr>\n",
       "  </thead>\n",
       "  <tbody>\n",
       "    <tr>\n",
       "      <th>4</th>\n",
       "      <td>4</td>\n",
       "      <td>2.0</td>\n",
       "      <td>3633</td>\n",
       "      <td>296425</td>\n",
       "      <td>2005</td>\n",
       "      <td>6941.39</td>\n",
       "      <td>6037</td>\n",
       "      <td>81.59</td>\n",
       "      <td>605.50</td>\n",
       "    </tr>\n",
       "    <tr>\n",
       "      <th>6</th>\n",
       "      <td>3</td>\n",
       "      <td>4.0</td>\n",
       "      <td>1620</td>\n",
       "      <td>847770</td>\n",
       "      <td>2011</td>\n",
       "      <td>10244.94</td>\n",
       "      <td>6037</td>\n",
       "      <td>523.31</td>\n",
       "      <td>231.43</td>\n",
       "    </tr>\n",
       "    <tr>\n",
       "      <th>7</th>\n",
       "      <td>3</td>\n",
       "      <td>2.0</td>\n",
       "      <td>2077</td>\n",
       "      <td>646760</td>\n",
       "      <td>1926</td>\n",
       "      <td>7924.68</td>\n",
       "      <td>6037</td>\n",
       "      <td>311.39</td>\n",
       "      <td>415.40</td>\n",
       "    </tr>\n",
       "    <tr>\n",
       "      <th>18</th>\n",
       "      <td>3</td>\n",
       "      <td>1.0</td>\n",
       "      <td>1244</td>\n",
       "      <td>169471</td>\n",
       "      <td>1950</td>\n",
       "      <td>2532.88</td>\n",
       "      <td>6037</td>\n",
       "      <td>136.23</td>\n",
       "      <td>311.00</td>\n",
       "    </tr>\n",
       "    <tr>\n",
       "      <th>19</th>\n",
       "      <td>3</td>\n",
       "      <td>2.0</td>\n",
       "      <td>1300</td>\n",
       "      <td>233266</td>\n",
       "      <td>1950</td>\n",
       "      <td>3110.99</td>\n",
       "      <td>6037</td>\n",
       "      <td>179.44</td>\n",
       "      <td>260.00</td>\n",
       "    </tr>\n",
       "  </tbody>\n",
       "</table>\n",
       "</div>"
      ],
      "text/plain": [
       "    bedroomcnt  bathroomcnt  calculatedfinishedsquarefeet  taxvaluedollarcnt  \\\n",
       "4            4          2.0                          3633             296425   \n",
       "6            3          4.0                          1620             847770   \n",
       "7            3          2.0                          2077             646760   \n",
       "18           3          1.0                          1244             169471   \n",
       "19           3          2.0                          1300             233266   \n",
       "\n",
       "    yearbuilt  taxamount  fips  cost_per_sqft  sqft_room_ratio  \n",
       "4        2005    6941.39  6037          81.59           605.50  \n",
       "6        2011   10244.94  6037         523.31           231.43  \n",
       "7        1926    7924.68  6037         311.39           415.40  \n",
       "18       1950    2532.88  6037         136.23           311.00  \n",
       "19       1950    3110.99  6037         179.44           260.00  "
      ]
     },
     "execution_count": 77,
     "metadata": {},
     "output_type": "execute_result"
    }
   ],
   "source": [
    "df.head()"
   ]
  },
  {
   "cell_type": "code",
   "execution_count": null,
   "id": "ec5e7953",
   "metadata": {},
   "outputs": [],
   "source": [
    "#split the data"
   ]
  },
  {
   "cell_type": "code",
   "execution_count": null,
   "id": "2edbaa5a",
   "metadata": {},
   "outputs": [],
   "source": [
    "#scale"
   ]
  },
  {
   "cell_type": "code",
   "execution_count": null,
   "id": "88aba732",
   "metadata": {},
   "outputs": [],
   "source": [
    "#establish baseline"
   ]
  },
  {
   "cell_type": "code",
   "execution_count": null,
   "id": "7c8eb70a",
   "metadata": {},
   "outputs": [],
   "source": []
  },
  {
   "cell_type": "code",
   "execution_count": null,
   "id": "5aa48574",
   "metadata": {},
   "outputs": [],
   "source": [
    "#separate target"
   ]
  },
  {
   "cell_type": "code",
   "execution_count": null,
   "id": "40bb337d",
   "metadata": {},
   "outputs": [],
   "source": [
    "#fit model to train"
   ]
  },
  {
   "cell_type": "code",
   "execution_count": null,
   "id": "7460b783",
   "metadata": {},
   "outputs": [],
   "source": [
    "#build df with model predictions"
   ]
  },
  {
   "cell_type": "code",
   "execution_count": null,
   "id": "79ef419f",
   "metadata": {},
   "outputs": [],
   "source": [
    "# # We need y_train and y_validate to be dataframes to append the new columns with predicted values. \n",
    "# y_train = pd.DataFrame(y_train)\n",
    "# y_validate = pd.DataFrame(y_validate)\n",
    "\n",
    "# # 1. Predict G3_pred_mean\n",
    "# G3_pred_mean = y_train['G3'].mean()\n",
    "# y_train['G3_pred_mean'] = G3_pred_mean\n",
    "# y_validate['G3_pred_mean'] = G3_pred_mean\n",
    "\n",
    "# # 2. compute G3_pred_median\n",
    "# G3_pred_median = y_train['G3'].median()\n",
    "# y_train['G3_pred_median'] = G3_pred_median\n",
    "# y_validate['G3_pred_median'] = G3_pred_median\n",
    "\n",
    "# # 3. RMSE of G3_pred_mean\n",
    "# rmse_train = mean_squared_error(y_train.G3, y_train.G3_pred_mean)**(1/2)\n",
    "# rmse_validate = mean_squared_error(y_validate.G3, y_validate.G3_pred_mean)**(1/2)\n",
    "\n",
    "# print(\"RMSE using Mean\\nTrain/In-Sample: \", round(rmse_train, 2), \n",
    "#       \"\\nValidate/Out-of-Sample: \", round(rmse_validate, 2))\n",
    "\n",
    "# # 4. RMSE of G3_pred_median\n",
    "# rmse_train = mean_squared_error(y_train.G3, y_train.G3_pred_median)**(1/2)\n",
    "# rmse_validate = mean_squared_error(y_validate.G3, y_validate.G3_pred_median)**(1/2)\n",
    "\n",
    "# print(\"RMSE using Median\\nTrain/In-Sample: \", round(rmse_train, 2), \n",
    "#       \"\\nValidate/Out-of-Sample: \", round(rmse_validate, 2))"
   ]
  },
  {
   "cell_type": "code",
   "execution_count": null,
   "id": "d138c608",
   "metadata": {},
   "outputs": [],
   "source": [
    "# # plot to visualize actual vs predicted. \n",
    "# plt.hist(y_train.G3, color='blue', alpha=.5, label=\"Actual Final Grades\")\n",
    "# plt.hist(y_train.G3_pred_mean, bins=1, color='red', alpha=.5, rwidth=100, label=\"Predicted Final Grades - Mean\")\n",
    "# plt.hist(y_train.G3_pred_median, bins=1, color='orange', alpha=.5, rwidth=100, label=\"Predicted Final Grades - Median\")\n",
    "# plt.xlabel(\"Final Grade (G3)\")\n",
    "# plt.ylabel(\"Number of Students\")\n",
    "# plt.legend()\n",
    "# plt.show()"
   ]
  },
  {
   "cell_type": "code",
   "execution_count": null,
   "id": "cd430df5",
   "metadata": {},
   "outputs": [],
   "source": []
  },
  {
   "cell_type": "code",
   "execution_count": null,
   "id": "f3907872",
   "metadata": {},
   "outputs": [],
   "source": []
  },
  {
   "cell_type": "code",
   "execution_count": null,
   "id": "c0e76b59",
   "metadata": {},
   "outputs": [],
   "source": []
  },
  {
   "cell_type": "code",
   "execution_count": null,
   "id": "e3281a18",
   "metadata": {},
   "outputs": [],
   "source": []
  },
  {
   "cell_type": "code",
   "execution_count": null,
   "id": "fb40fd00",
   "metadata": {},
   "outputs": [],
   "source": []
  },
  {
   "cell_type": "code",
   "execution_count": null,
   "id": "6d957950",
   "metadata": {},
   "outputs": [],
   "source": []
  },
  {
   "cell_type": "code",
   "execution_count": null,
   "id": "a259652b",
   "metadata": {},
   "outputs": [],
   "source": []
  },
  {
   "cell_type": "code",
   "execution_count": null,
   "id": "9fa5d3ab",
   "metadata": {},
   "outputs": [],
   "source": [
    "# Identify Baseline: establish baseline prediction and accuracy\n",
    "# Modeling\n",
    "# Train\n",
    "# Validate\n",
    "# Test\n",
    "# Predict on Test Model"
   ]
  },
  {
   "cell_type": "code",
   "execution_count": null,
   "id": "d31ae206",
   "metadata": {},
   "outputs": [],
   "source": []
  },
  {
   "cell_type": "code",
   "execution_count": null,
   "id": "41c9860a",
   "metadata": {},
   "outputs": [],
   "source": []
  },
  {
   "cell_type": "code",
   "execution_count": null,
   "id": "d4e8791a",
   "metadata": {},
   "outputs": [],
   "source": []
  },
  {
   "cell_type": "code",
   "execution_count": null,
   "id": "412aa413",
   "metadata": {},
   "outputs": [],
   "source": []
  },
  {
   "cell_type": "code",
   "execution_count": null,
   "id": "8eb485ff",
   "metadata": {},
   "outputs": [],
   "source": [
    "#data needs to be cleaned \n",
    "# Convert binary categorical variables to numeric\n",
    "    tips['sex'] = tips.sex.map({'Female': 1, 'Male': 0})\n",
    "    tips['smoker'] = tips.smoker.map({'Yes': 1, 'No': 0})\n",
    "    \n",
    "    \n",
    "    # Get dummies for non-binary categorical variables\n",
    "    dummy_df = pd.get_dummies(tips[['day', \\\n",
    "                              'time']], dummy_na=False, \\\n",
    "                              drop_first=True)\n",
    "    \n",
    "    # Concatenate dummy dataframe to original \n",
    "    tips = pd.concat([tips, dummy_df], axis=1)"
   ]
  },
  {
   "cell_type": "code",
   "execution_count": null,
   "id": "d12e1c9a",
   "metadata": {},
   "outputs": [],
   "source": []
  },
  {
   "cell_type": "code",
   "execution_count": null,
   "id": "f373b48d",
   "metadata": {},
   "outputs": [],
   "source": []
  },
  {
   "cell_type": "code",
   "execution_count": 79,
   "id": "cbe240d6",
   "metadata": {},
   "outputs": [
    {
     "ename": "SyntaxError",
     "evalue": "'return' outside function (809998586.py, line 19)",
     "output_type": "error",
     "traceback": [
      "\u001b[1;36m  Input \u001b[1;32mIn [79]\u001b[1;36m\u001b[0m\n\u001b[1;33m    return pd.read_sql(sql, get_db_url('zillow'))\u001b[0m\n\u001b[1;37m    ^\u001b[0m\n\u001b[1;31mSyntaxError\u001b[0m\u001b[1;31m:\u001b[0m 'return' outside function\n"
     ]
    }
   ],
   "source": [
    "sql = '''\n",
    "    SELECT\n",
    "        bedroomcnt AS bedrooms,\n",
    "        bathroomcnt AS bathrooms,\n",
    "        calculatedfinishedsquarefeet AS sq_ft,\n",
    "        taxvaluedollarcnt AS tax_value,\n",
    "        yearbuilt AS year_built,\n",
    "        taxamount AS tax_amnt,\n",
    "        lotsizesquarefeet AS lot_size,\n",
    "        fips\n",
    "    FROM\n",
    "        properties_2017\n",
    "       JOIN propertylandusetype using (propertylandusetypeid)\n",
    "       JOIN predictions_2017 USING(parcelid)\n",
    "    WHERE propertylandusedesc in (\"Single Family Residential\",\n",
    "                                  \"Inferred Single Family Residential\")\n",
    "       AND transactiondate LIKE \"2017%%\";\n",
    "    '''\n",
    "return pd.read_sql(sql, get_db_url('zillow'))\n"
   ]
  },
  {
   "cell_type": "code",
   "execution_count": null,
   "id": "945ff382",
   "metadata": {},
   "outputs": [],
   "source": []
  },
  {
   "cell_type": "code",
   "execution_count": null,
   "id": "40ffc54b",
   "metadata": {},
   "outputs": [],
   "source": []
  },
  {
   "cell_type": "code",
   "execution_count": null,
   "id": "25f9fd27",
   "metadata": {},
   "outputs": [],
   "source": []
  }
 ],
 "metadata": {
  "kernelspec": {
   "display_name": "Python 3 (ipykernel)",
   "language": "python",
   "name": "python3"
  },
  "language_info": {
   "codemirror_mode": {
    "name": "ipython",
    "version": 3
   },
   "file_extension": ".py",
   "mimetype": "text/x-python",
   "name": "python",
   "nbconvert_exporter": "python",
   "pygments_lexer": "ipython3",
   "version": "3.9.12"
  }
 },
 "nbformat": 4,
 "nbformat_minor": 5
}
