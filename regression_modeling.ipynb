{
 "cells": [
  {
   "cell_type": "markdown",
   "id": "9ef21f07",
   "metadata": {},
   "source": [
    "### Exercises\n",
    "    Select a dataset with a continuous target variable.\n",
    "\n",
    "    Be sure your data is prepared (no missing values, numeric datatypes) and split into samples.\n",
    "\n",
    "    Work through all of the steps outlined in the lesson, from setting the baseline to selected a model and evaluating the final model on your test data."
   ]
  },
  {
   "cell_type": "code",
   "execution_count": 2,
   "id": "eb86dd70",
   "metadata": {},
   "outputs": [],
   "source": [
    "%matplotlib inline\n",
    "import matplotlib.pyplot as plt\n",
    "import numpy as np\n",
    "import pandas as pd\n",
    "import pydataset\n",
    "import seaborn as sns\n",
    "from sklearn.neighbors import KNeighborsClassifier\n",
    "from sklearn.preprocessing import MinMaxScaler, StandardScaler, RobustScaler, QuantileTransformer\n",
    "from sklearn.metrics import mean_squared_error, r2_score\n",
    "import prepare_telco\n",
    "import wrangle\n",
    "import os\n",
    "from env import user, password, host\n",
    "from sklearn.linear_model import LinearRegression\n",
    "from sklearn.feature_selection import f_regression \n",
    "from math import sqrt\n",
    "from sklearn.feature_selection import SelectKBest, f_regression\n",
    "from sklearn.feature_selection import RFE\n",
    "import warnings\n",
    "warnings.filterwarnings('ignore')\n",
    "from scipy import stats\n",
    "import prepare_telco\n",
    "from scipy.stats import pearsonr, spearmanr\n",
    "from statsmodels.formula.api import ols\n",
    "# modeling methods\n",
    "from sklearn.metrics import mean_squared_error\n",
    "from sklearn.linear_model import LinearRegression, LassoLars, TweedieRegressor\n",
    "from sklearn.preprocessing import PolynomialFeatures"
   ]
  },
  {
   "cell_type": "code",
   "execution_count": 3,
   "id": "83827539",
   "metadata": {},
   "outputs": [
    {
     "ename": "NameError",
     "evalue": "name 'dummies' is not defined",
     "output_type": "error",
     "traceback": [
      "\u001b[1;31m---------------------------------------------------------------------------\u001b[0m",
      "\u001b[1;31mNameError\u001b[0m                                 Traceback (most recent call last)",
      "Input \u001b[1;32mIn [3]\u001b[0m, in \u001b[0;36m<cell line: 2>\u001b[1;34m()\u001b[0m\n\u001b[0;32m      1\u001b[0m \u001b[38;5;66;03m#load wrangled dataset\u001b[39;00m\n\u001b[1;32m----> 2\u001b[0m df\u001b[38;5;241m=\u001b[39m\u001b[43mwrangle\u001b[49m\u001b[38;5;241;43m.\u001b[39;49m\u001b[43mwrangle_zillow\u001b[49m\u001b[43m(\u001b[49m\u001b[43m)\u001b[49m\n",
      "File \u001b[1;32m~\\wrangle.py:95\u001b[0m, in \u001b[0;36mwrangle_zillow\u001b[1;34m()\u001b[0m\n\u001b[0;32m     93\u001b[0m  \u001b[38;5;66;03m#dummy encode fips\u001b[39;00m\n\u001b[0;32m     94\u001b[0m  fipsdummies \u001b[38;5;241m=\u001b[39m pd\u001b[38;5;241m.\u001b[39mget_dummies(df\u001b[38;5;241m.\u001b[39mfips)\n\u001b[1;32m---> 95\u001b[0m  df \u001b[38;5;241m=\u001b[39m pd\u001b[38;5;241m.\u001b[39mconcat([df,\u001b[43mdummies\u001b[49m],axis\u001b[38;5;241m=\u001b[39m\u001b[38;5;241m1\u001b[39m)\n\u001b[0;32m     97\u001b[0m \u001b[38;5;66;03m# df.to_csv(\"zillow.csv\", index=False)\u001b[39;00m\n\u001b[0;32m     98\u001b[0m \u001b[38;5;66;03m#rename columns for ease of use\u001b[39;00m\n\u001b[0;32m     99\u001b[0m  df\u001b[38;5;241m=\u001b[39mdf\u001b[38;5;241m.\u001b[39mrename(columns\u001b[38;5;241m=\u001b[39m{\u001b[38;5;124m\"\u001b[39m\u001b[38;5;124mbedroomcnt\u001b[39m\u001b[38;5;124m\"\u001b[39m: \u001b[38;5;124m\"\u001b[39m\u001b[38;5;124mbedrooms\u001b[39m\u001b[38;5;124m\"\u001b[39m, \u001b[38;5;124m\"\u001b[39m\u001b[38;5;124mbathroomcnt\u001b[39m\u001b[38;5;124m\"\u001b[39m: \u001b[38;5;124m\"\u001b[39m\u001b[38;5;124mbathrooms\u001b[39m\u001b[38;5;124m\"\u001b[39m, \u001b[38;5;124m\"\u001b[39m\u001b[38;5;124mcalculatedfinishedsquarefeet\u001b[39m\u001b[38;5;124m\"\u001b[39m: \u001b[38;5;124m\"\u001b[39m\u001b[38;5;124msqft\u001b[39m\u001b[38;5;124m\"\u001b[39m,\u001b[38;5;124m\"\u001b[39m\u001b[38;5;124mtaxvaluedollarcnt\u001b[39m\u001b[38;5;124m\"\u001b[39m: \u001b[38;5;124m\"\u001b[39m\u001b[38;5;124mhome_value\u001b[39m\u001b[38;5;124m\"\u001b[39m})\n",
      "\u001b[1;31mNameError\u001b[0m: name 'dummies' is not defined"
     ]
    }
   ],
   "source": [
    "#load wrangled dataset\n",
    "df=wrangle.wrangle_zillow()"
   ]
  },
  {
   "cell_type": "code",
   "execution_count": null,
   "id": "50f76074",
   "metadata": {
    "scrolled": true
   },
   "outputs": [],
   "source": [
    "df.info(show_counts=True)"
   ]
  },
  {
   "cell_type": "code",
   "execution_count": null,
   "id": "c49cde23",
   "metadata": {},
   "outputs": [],
   "source": [
    "#new column total bill divided by size\n",
    "df['cost_per_sqft'] = (df['taxvaluedollarcnt']/df['calculatedfinishedsquarefeet']).round(2)"
   ]
  },
  {
   "cell_type": "code",
   "execution_count": null,
   "id": "42e7a9af",
   "metadata": {},
   "outputs": [],
   "source": [
    "df.info(show_counts=True)"
   ]
  },
  {
   "cell_type": "code",
   "execution_count": null,
   "id": "444d2ce5",
   "metadata": {},
   "outputs": [],
   "source": [
    "#avg sqft per number of rooms (bedroom+bathroom)\n",
    "df['sqft_room_ratio'] = (df['calculatedfinishedsquarefeet']/(df['bedroomcnt']+df['bathroomcnt'])).round(2)"
   ]
  },
  {
   "cell_type": "code",
   "execution_count": null,
   "id": "6f175a3c",
   "metadata": {},
   "outputs": [],
   "source": [
    "df.info(show_counts=True)"
   ]
  },
  {
   "cell_type": "code",
   "execution_count": null,
   "id": "c1938563",
   "metadata": {},
   "outputs": [],
   "source": [
    "#avg sqft per number of rooms (bedroom+bathroom)\n",
    "df['sqft_room_ratio'] = (df['calculatedfinishedsquarefeet']/(df['bedroomcnt']+df['bathroomcnt'])).round(2)"
   ]
  },
  {
   "cell_type": "code",
   "execution_count": null,
   "id": "80133adb",
   "metadata": {
    "scrolled": false
   },
   "outputs": [],
   "source": [
    "(df.bedroomcnt == 0).value_counts()\n"
   ]
  },
  {
   "cell_type": "code",
   "execution_count": null,
   "id": "f7f91973",
   "metadata": {
    "scrolled": false
   },
   "outputs": [],
   "source": [
    "(df.bathroomcnt == 0).value_counts()"
   ]
  },
  {
   "cell_type": "code",
   "execution_count": null,
   "id": "c4700f94",
   "metadata": {
    "scrolled": true
   },
   "outputs": [],
   "source": [
    "df['bedroomcnt']==0"
   ]
  },
  {
   "cell_type": "code",
   "execution_count": null,
   "id": "647c97f8",
   "metadata": {},
   "outputs": [],
   "source": [
    "df['bathroomcnt']==0"
   ]
  },
  {
   "cell_type": "code",
   "execution_count": null,
   "id": "9541da79",
   "metadata": {
    "scrolled": true
   },
   "outputs": [],
   "source": [
    "(df['bedroomcnt']==0)&(df['bathroomcnt']==0)"
   ]
  },
  {
   "cell_type": "code",
   "execution_count": null,
   "id": "75e3a557",
   "metadata": {},
   "outputs": [],
   "source": [
    "df[(df['bedroomcnt']==0)&(df['bathroomcnt']==0)].describe()"
   ]
  },
  {
   "cell_type": "code",
   "execution_count": null,
   "id": "f507cce5",
   "metadata": {},
   "outputs": [],
   "source": [
    "df[(df['bedroomcnt']!=0)&(df['bathroomcnt']!=0)].describe()"
   ]
  },
  {
   "cell_type": "markdown",
   "id": "5c60a472",
   "metadata": {},
   "source": [
    "at this point after digging into whether or not i can or should impute the values of the averages based on squarefootage or just drop them"
   ]
  },
  {
   "cell_type": "code",
   "execution_count": null,
   "id": "45c4baf5",
   "metadata": {},
   "outputs": [],
   "source": []
  },
  {
   "cell_type": "code",
   "execution_count": null,
   "id": "65013638",
   "metadata": {},
   "outputs": [],
   "source": []
  },
  {
   "cell_type": "code",
   "execution_count": null,
   "id": "e9c8fa0c",
   "metadata": {},
   "outputs": [],
   "source": [
    "df.drop(df.loc[df['bedroomcnt']==0].index, inplace=True)"
   ]
  },
  {
   "cell_type": "code",
   "execution_count": null,
   "id": "5b99400f",
   "metadata": {},
   "outputs": [],
   "source": [
    "df.drop(df.loc[df['bathroomcnt']==0].index, inplace=True)"
   ]
  },
  {
   "cell_type": "code",
   "execution_count": null,
   "id": "b2936156",
   "metadata": {},
   "outputs": [],
   "source": [
    "(df.bedroomcnt == 0).value_counts()"
   ]
  },
  {
   "cell_type": "code",
   "execution_count": null,
   "id": "8e9e0c24",
   "metadata": {
    "scrolled": true
   },
   "outputs": [],
   "source": [
    "df.head()"
   ]
  },
  {
   "cell_type": "code",
   "execution_count": null,
   "id": "4070d1f8",
   "metadata": {},
   "outputs": [],
   "source": [
    "df[\"fips\"] = df[\"fips\"].astype(str)"
   ]
  },
  {
   "cell_type": "code",
   "execution_count": null,
   "id": "d15e9a78",
   "metadata": {},
   "outputs": [],
   "source": [
    "df.info(show_counts=True)"
   ]
  },
  {
   "cell_type": "code",
   "execution_count": null,
   "id": "f21b4315",
   "metadata": {},
   "outputs": [],
   "source": [
    "fipsdummies = pd.get_dummies(df.fips)\n",
    "df = pd.concat([df,fipsdummies],axis=1)"
   ]
  },
  {
   "cell_type": "code",
   "execution_count": 4,
   "id": "d8afb876",
   "metadata": {},
   "outputs": [
    {
     "ename": "NameError",
     "evalue": "name 'df' is not defined",
     "output_type": "error",
     "traceback": [
      "\u001b[1;31m---------------------------------------------------------------------------\u001b[0m",
      "\u001b[1;31mNameError\u001b[0m                                 Traceback (most recent call last)",
      "Input \u001b[1;32mIn [4]\u001b[0m, in \u001b[0;36m<cell line: 2>\u001b[1;34m()\u001b[0m\n\u001b[0;32m      1\u001b[0m \u001b[38;5;66;03m#split the data\u001b[39;00m\n\u001b[1;32m----> 2\u001b[0m train, validate, test \u001b[38;5;241m=\u001b[39m prepare_telco\u001b[38;5;241m.\u001b[39msplit(\u001b[43mdf\u001b[49m, stratify_by\u001b[38;5;241m=\u001b[39m\u001b[38;5;28;01mNone\u001b[39;00m)\n",
      "\u001b[1;31mNameError\u001b[0m: name 'df' is not defined"
     ]
    }
   ],
   "source": [
    "#split the data\n",
    "train, validate, test = prepare_telco.split(df, stratify_by=None)"
   ]
  },
  {
   "cell_type": "code",
   "execution_count": 341,
   "id": "b3207411",
   "metadata": {
    "scrolled": false
   },
   "outputs": [
    {
     "data": {
      "text/plain": [
       "((1170059, 12), (501455, 12), (417879, 12))"
      ]
     },
     "execution_count": 341,
     "metadata": {},
     "output_type": "execute_result"
    }
   ],
   "source": [
    "train.shape, validate.shape, test.shape"
   ]
  },
  {
   "cell_type": "code",
   "execution_count": 342,
   "id": "02ec64ca",
   "metadata": {},
   "outputs": [
    {
     "data": {
      "text/html": [
       "<div>\n",
       "<style scoped>\n",
       "    .dataframe tbody tr th:only-of-type {\n",
       "        vertical-align: middle;\n",
       "    }\n",
       "\n",
       "    .dataframe tbody tr th {\n",
       "        vertical-align: top;\n",
       "    }\n",
       "\n",
       "    .dataframe thead th {\n",
       "        text-align: right;\n",
       "    }\n",
       "</style>\n",
       "<table border=\"1\" class=\"dataframe\">\n",
       "  <thead>\n",
       "    <tr style=\"text-align: right;\">\n",
       "      <th></th>\n",
       "      <th>bedroomcnt</th>\n",
       "      <th>bathroomcnt</th>\n",
       "      <th>calculatedfinishedsquarefeet</th>\n",
       "      <th>cost_per_sqft</th>\n",
       "      <th>sqft_room_ratio</th>\n",
       "    </tr>\n",
       "  </thead>\n",
       "  <tbody>\n",
       "    <tr>\n",
       "      <th>0</th>\n",
       "      <td>0.4</td>\n",
       "      <td>0.454545</td>\n",
       "      <td>0.040257</td>\n",
       "      <td>0.000572</td>\n",
       "      <td>0.033553</td>\n",
       "    </tr>\n",
       "    <tr>\n",
       "      <th>1</th>\n",
       "      <td>0.2</td>\n",
       "      <td>0.272727</td>\n",
       "      <td>0.015991</td>\n",
       "      <td>0.000981</td>\n",
       "      <td>0.020002</td>\n",
       "    </tr>\n",
       "    <tr>\n",
       "      <th>2</th>\n",
       "      <td>0.4</td>\n",
       "      <td>0.272727</td>\n",
       "      <td>0.024468</td>\n",
       "      <td>0.000156</td>\n",
       "      <td>0.024477</td>\n",
       "    </tr>\n",
       "    <tr>\n",
       "      <th>3</th>\n",
       "      <td>0.6</td>\n",
       "      <td>0.272727</td>\n",
       "      <td>0.022341</td>\n",
       "      <td>0.000868</td>\n",
       "      <td>0.018623</td>\n",
       "    </tr>\n",
       "    <tr>\n",
       "      <th>4</th>\n",
       "      <td>0.4</td>\n",
       "      <td>0.272727</td>\n",
       "      <td>0.024468</td>\n",
       "      <td>0.000408</td>\n",
       "      <td>0.024477</td>\n",
       "    </tr>\n",
       "    <tr>\n",
       "      <th>...</th>\n",
       "      <td>...</td>\n",
       "      <td>...</td>\n",
       "      <td>...</td>\n",
       "      <td>...</td>\n",
       "      <td>...</td>\n",
       "    </tr>\n",
       "    <tr>\n",
       "      <th>1170054</th>\n",
       "      <td>0.4</td>\n",
       "      <td>0.272727</td>\n",
       "      <td>0.023219</td>\n",
       "      <td>0.000272</td>\n",
       "      <td>0.023227</td>\n",
       "    </tr>\n",
       "    <tr>\n",
       "      <th>1170055</th>\n",
       "      <td>0.4</td>\n",
       "      <td>0.272727</td>\n",
       "      <td>0.040747</td>\n",
       "      <td>0.000290</td>\n",
       "      <td>0.040755</td>\n",
       "    </tr>\n",
       "    <tr>\n",
       "      <th>1170056</th>\n",
       "      <td>0.6</td>\n",
       "      <td>0.454545</td>\n",
       "      <td>0.029568</td>\n",
       "      <td>0.000362</td>\n",
       "      <td>0.021124</td>\n",
       "    </tr>\n",
       "    <tr>\n",
       "      <th>1170057</th>\n",
       "      <td>0.6</td>\n",
       "      <td>0.454545</td>\n",
       "      <td>0.036221</td>\n",
       "      <td>0.000144</td>\n",
       "      <td>0.025876</td>\n",
       "    </tr>\n",
       "    <tr>\n",
       "      <th>1170058</th>\n",
       "      <td>0.4</td>\n",
       "      <td>0.272727</td>\n",
       "      <td>0.020990</td>\n",
       "      <td>0.000616</td>\n",
       "      <td>0.020998</td>\n",
       "    </tr>\n",
       "  </tbody>\n",
       "</table>\n",
       "<p>1170059 rows × 5 columns</p>\n",
       "</div>"
      ],
      "text/plain": [
       "         bedroomcnt  bathroomcnt  calculatedfinishedsquarefeet  cost_per_sqft  \\\n",
       "0               0.4     0.454545                      0.040257       0.000572   \n",
       "1               0.2     0.272727                      0.015991       0.000981   \n",
       "2               0.4     0.272727                      0.024468       0.000156   \n",
       "3               0.6     0.272727                      0.022341       0.000868   \n",
       "4               0.4     0.272727                      0.024468       0.000408   \n",
       "...             ...          ...                           ...            ...   \n",
       "1170054         0.4     0.272727                      0.023219       0.000272   \n",
       "1170055         0.4     0.272727                      0.040747       0.000290   \n",
       "1170056         0.6     0.454545                      0.029568       0.000362   \n",
       "1170057         0.6     0.454545                      0.036221       0.000144   \n",
       "1170058         0.4     0.272727                      0.020990       0.000616   \n",
       "\n",
       "         sqft_room_ratio  \n",
       "0               0.033553  \n",
       "1               0.020002  \n",
       "2               0.024477  \n",
       "3               0.018623  \n",
       "4               0.024477  \n",
       "...                  ...  \n",
       "1170054         0.023227  \n",
       "1170055         0.040755  \n",
       "1170056         0.021124  \n",
       "1170057         0.025876  \n",
       "1170058         0.020998  \n",
       "\n",
       "[1170059 rows x 5 columns]"
      ]
     },
     "execution_count": 342,
     "metadata": {},
     "output_type": "execute_result"
    }
   ],
   "source": [
    "X_train_scaled"
   ]
  },
  {
   "cell_type": "code",
   "execution_count": 289,
   "id": "af231614",
   "metadata": {},
   "outputs": [],
   "source": [
    "#remove target from X_train, remove categoricals so it can be modeled\n",
    "X_train1 = train.drop(columns=['taxvaluedollarcnt','fips','yearbuilt','taxamount','6037','6059','6111'])\n",
    "y_train1 = train.taxvaluedollarcnt"
   ]
  },
  {
   "cell_type": "code",
   "execution_count": 343,
   "id": "58a3e44d",
   "metadata": {},
   "outputs": [],
   "source": [
    "# from sklearn.feature_selection import SelectKBest, f_regression\n",
    "\n",
    "# parameters: f_regression stats test, give me 2 features\n",
    "f_selector = SelectKBest(f_regression, k=5)\n",
    "\n",
    "# find the top 8 X's correlated with y\n",
    "f_selector.fit(X_train1, y_train1)\n",
    "\n",
    "# boolean mask of whether the column was selected or not. \n",
    "feature_mask = f_selector.get_support()\n",
    "\n",
    "# get list of top K features. \n",
    "f_feature = X_train1.iloc[:,feature_mask].columns.tolist()"
   ]
  },
  {
   "cell_type": "code",
   "execution_count": 344,
   "id": "84091ab8",
   "metadata": {},
   "outputs": [
    {
     "data": {
      "text/plain": [
       "['bedroomcnt',\n",
       " 'bathroomcnt',\n",
       " 'calculatedfinishedsquarefeet',\n",
       " 'cost_per_sqft',\n",
       " 'sqft_room_ratio']"
      ]
     },
     "execution_count": 344,
     "metadata": {},
     "output_type": "execute_result"
    }
   ],
   "source": [
    "f_feature"
   ]
  },
  {
   "cell_type": "code",
   "execution_count": 346,
   "id": "8908b961",
   "metadata": {},
   "outputs": [],
   "source": [
    "# initialize the ML algorithm\n",
    "lm = LinearRegression()\n",
    "\n",
    "# create the rfe object, indicating the ML object (lm) and the number of features I want to end up with. \n",
    "rfe = RFE(lm, n_features_to_select=5)\n",
    "\n",
    "# fit the data using RFE\n",
    "rfe.fit(X_train1,y_train1)  \n",
    "\n",
    "# get the mask of the columns selected\n",
    "feature_mask = rfe.support_\n",
    "\n",
    "# get list of the column names. \n",
    "rfe_feature = X_train1.iloc[:,feature_mask].columns.tolist()"
   ]
  },
  {
   "cell_type": "code",
   "execution_count": 347,
   "id": "7e8fe703",
   "metadata": {},
   "outputs": [
    {
     "data": {
      "text/plain": [
       "['bedroomcnt',\n",
       " 'bathroomcnt',\n",
       " 'calculatedfinishedsquarefeet',\n",
       " 'cost_per_sqft',\n",
       " 'sqft_room_ratio']"
      ]
     },
     "execution_count": 347,
     "metadata": {},
     "output_type": "execute_result"
    }
   ],
   "source": [
    "rfe_feature"
   ]
  },
  {
   "cell_type": "code",
   "execution_count": null,
   "id": "d5ae2753",
   "metadata": {},
   "outputs": [],
   "source": []
  },
  {
   "cell_type": "code",
   "execution_count": null,
   "id": "9ce8e2c4",
   "metadata": {},
   "outputs": [],
   "source": []
  },
  {
   "cell_type": "code",
   "execution_count": null,
   "id": "faeb1544",
   "metadata": {},
   "outputs": [],
   "source": []
  },
  {
   "cell_type": "code",
   "execution_count": null,
   "id": "6739f863",
   "metadata": {},
   "outputs": [],
   "source": [
    "#xplore unscaled data Dataframe, Feature variables only, Unscaled, \n",
    "#Dummy vars with original categorical vars"
   ]
  },
  {
   "cell_type": "code",
   "execution_count": null,
   "id": "695f6363",
   "metadata": {},
   "outputs": [],
   "source": []
  },
  {
   "cell_type": "code",
   "execution_count": null,
   "id": "e642a577",
   "metadata": {},
   "outputs": [],
   "source": []
  },
  {
   "cell_type": "code",
   "execution_count": null,
   "id": "0dff285d",
   "metadata": {},
   "outputs": [],
   "source": []
  },
  {
   "cell_type": "code",
   "execution_count": null,
   "id": "a9fab7ee",
   "metadata": {},
   "outputs": [],
   "source": []
  },
  {
   "cell_type": "code",
   "execution_count": 349,
   "id": "950a01b5",
   "metadata": {},
   "outputs": [],
   "source": [
    "X_train = train.drop(columns=['bedroomcnt','bathroomcnt','taxvaluedollarcnt','fips','yearbuilt','taxamount','6037','6059','6111'])\n",
    "X_validate = validate.drop(columns=['bedroomcnt','bathroomcnt','taxvaluedollarcnt','fips','yearbuilt','taxamount','6037','6059','6111'])\n",
    "X_test = test.drop(columns=['bedroomcnt','bathroomcnt','taxvaluedollarcnt','fips','yearbuilt','taxamount','6037','6059','6111'])\n",
    "y_train = train.taxvaluedollarcnt\n",
    "y_validate = validate.taxvaluedollarcnt\n",
    "y_test = test.taxvaluedollarcnt"
   ]
  },
  {
   "cell_type": "code",
   "execution_count": 350,
   "id": "08760301",
   "metadata": {
    "scrolled": true
   },
   "outputs": [
    {
     "data": {
      "text/html": [
       "<div>\n",
       "<style scoped>\n",
       "    .dataframe tbody tr th:only-of-type {\n",
       "        vertical-align: middle;\n",
       "    }\n",
       "\n",
       "    .dataframe tbody tr th {\n",
       "        vertical-align: top;\n",
       "    }\n",
       "\n",
       "    .dataframe thead th {\n",
       "        text-align: right;\n",
       "    }\n",
       "</style>\n",
       "<table border=\"1\" class=\"dataframe\">\n",
       "  <thead>\n",
       "    <tr style=\"text-align: right;\">\n",
       "      <th></th>\n",
       "      <th>calculatedfinishedsquarefeet</th>\n",
       "      <th>cost_per_sqft</th>\n",
       "      <th>sqft_room_ratio</th>\n",
       "    </tr>\n",
       "  </thead>\n",
       "  <tbody>\n",
       "    <tr>\n",
       "      <th>1702590</th>\n",
       "      <td>2385</td>\n",
       "      <td>348.74</td>\n",
       "      <td>397.50</td>\n",
       "    </tr>\n",
       "    <tr>\n",
       "      <th>1204794</th>\n",
       "      <td>948</td>\n",
       "      <td>598.10</td>\n",
       "      <td>237.00</td>\n",
       "    </tr>\n",
       "    <tr>\n",
       "      <th>855784</th>\n",
       "      <td>1450</td>\n",
       "      <td>95.04</td>\n",
       "      <td>290.00</td>\n",
       "    </tr>\n",
       "    <tr>\n",
       "      <th>2033187</th>\n",
       "      <td>1324</td>\n",
       "      <td>529.16</td>\n",
       "      <td>220.67</td>\n",
       "    </tr>\n",
       "    <tr>\n",
       "      <th>999881</th>\n",
       "      <td>1450</td>\n",
       "      <td>248.72</td>\n",
       "      <td>290.00</td>\n",
       "    </tr>\n",
       "    <tr>\n",
       "      <th>...</th>\n",
       "      <td>...</td>\n",
       "      <td>...</td>\n",
       "      <td>...</td>\n",
       "    </tr>\n",
       "    <tr>\n",
       "      <th>1933819</th>\n",
       "      <td>1376</td>\n",
       "      <td>165.78</td>\n",
       "      <td>275.20</td>\n",
       "    </tr>\n",
       "    <tr>\n",
       "      <th>2086583</th>\n",
       "      <td>2414</td>\n",
       "      <td>176.87</td>\n",
       "      <td>482.80</td>\n",
       "    </tr>\n",
       "    <tr>\n",
       "      <th>2026377</th>\n",
       "      <td>1752</td>\n",
       "      <td>220.94</td>\n",
       "      <td>250.29</td>\n",
       "    </tr>\n",
       "    <tr>\n",
       "      <th>1100793</th>\n",
       "      <td>2146</td>\n",
       "      <td>87.52</td>\n",
       "      <td>306.57</td>\n",
       "    </tr>\n",
       "    <tr>\n",
       "      <th>635880</th>\n",
       "      <td>1244</td>\n",
       "      <td>375.40</td>\n",
       "      <td>248.80</td>\n",
       "    </tr>\n",
       "  </tbody>\n",
       "</table>\n",
       "<p>1170059 rows × 3 columns</p>\n",
       "</div>"
      ],
      "text/plain": [
       "         calculatedfinishedsquarefeet  cost_per_sqft  sqft_room_ratio\n",
       "1702590                          2385         348.74           397.50\n",
       "1204794                           948         598.10           237.00\n",
       "855784                           1450          95.04           290.00\n",
       "2033187                          1324         529.16           220.67\n",
       "999881                           1450         248.72           290.00\n",
       "...                               ...            ...              ...\n",
       "1933819                          1376         165.78           275.20\n",
       "2086583                          2414         176.87           482.80\n",
       "2026377                          1752         220.94           250.29\n",
       "1100793                          2146          87.52           306.57\n",
       "635880                           1244         375.40           248.80\n",
       "\n",
       "[1170059 rows x 3 columns]"
      ]
     },
     "execution_count": 350,
     "metadata": {},
     "output_type": "execute_result"
    }
   ],
   "source": [
    "X_train"
   ]
  },
  {
   "cell_type": "code",
   "execution_count": 354,
   "id": "a00bee6b",
   "metadata": {},
   "outputs": [],
   "source": [
    "#Assign the scaler to a variable, and fit/transform the training data\n",
    "mms = sklearn.preprocessing.MinMaxScaler()\n",
    "\n",
    "mms.fit(X_train)\n",
    "\n",
    "train_mms = mms.transform(X_train)"
   ]
  },
  {
   "cell_type": "code",
   "execution_count": 355,
   "id": "826efaad",
   "metadata": {},
   "outputs": [],
   "source": [
    "#Is there a mistake here?\n",
    "X_train_scaled = pd.DataFrame(train_mms, columns=list(X_train.columns))\n"
   ]
  },
  {
   "cell_type": "code",
   "execution_count": 356,
   "id": "7ba0e353",
   "metadata": {},
   "outputs": [],
   "source": [
    "#Assign the scaler to a variable, and fit/transform the training data\n",
    "mms = sklearn.preprocessing.MinMaxScaler()\n",
    "\n",
    "mms.fit(X_validate)\n",
    "\n",
    "validate_mms = mms.transform(X_validate)"
   ]
  },
  {
   "cell_type": "code",
   "execution_count": 358,
   "id": "db56f325",
   "metadata": {},
   "outputs": [],
   "source": [
    "#Is there a mistake here?\n",
    "X_validate_scaled = pd.DataFrame(validate_mms, columns=list(X_validate.columns))"
   ]
  },
  {
   "cell_type": "code",
   "execution_count": 359,
   "id": "a1620e30",
   "metadata": {},
   "outputs": [
    {
     "data": {
      "text/html": [
       "<div>\n",
       "<style scoped>\n",
       "    .dataframe tbody tr th:only-of-type {\n",
       "        vertical-align: middle;\n",
       "    }\n",
       "\n",
       "    .dataframe tbody tr th {\n",
       "        vertical-align: top;\n",
       "    }\n",
       "\n",
       "    .dataframe thead th {\n",
       "        text-align: right;\n",
       "    }\n",
       "</style>\n",
       "<table border=\"1\" class=\"dataframe\">\n",
       "  <thead>\n",
       "    <tr style=\"text-align: right;\">\n",
       "      <th></th>\n",
       "      <th>calculatedfinishedsquarefeet</th>\n",
       "      <th>cost_per_sqft</th>\n",
       "      <th>sqft_room_ratio</th>\n",
       "    </tr>\n",
       "  </thead>\n",
       "  <tbody>\n",
       "    <tr>\n",
       "      <th>0</th>\n",
       "      <td>0.002407</td>\n",
       "      <td>0.000793</td>\n",
       "      <td>0.002750</td>\n",
       "    </tr>\n",
       "    <tr>\n",
       "      <th>1</th>\n",
       "      <td>0.001964</td>\n",
       "      <td>0.001628</td>\n",
       "      <td>0.002618</td>\n",
       "    </tr>\n",
       "    <tr>\n",
       "      <th>2</th>\n",
       "      <td>0.002828</td>\n",
       "      <td>0.000679</td>\n",
       "      <td>0.003231</td>\n",
       "    </tr>\n",
       "    <tr>\n",
       "      <th>3</th>\n",
       "      <td>0.002454</td>\n",
       "      <td>0.001146</td>\n",
       "      <td>0.003272</td>\n",
       "    </tr>\n",
       "    <tr>\n",
       "      <th>4</th>\n",
       "      <td>0.002831</td>\n",
       "      <td>0.000350</td>\n",
       "      <td>0.003774</td>\n",
       "    </tr>\n",
       "    <tr>\n",
       "      <th>...</th>\n",
       "      <td>...</td>\n",
       "      <td>...</td>\n",
       "      <td>...</td>\n",
       "    </tr>\n",
       "    <tr>\n",
       "      <th>501450</th>\n",
       "      <td>0.002660</td>\n",
       "      <td>0.001500</td>\n",
       "      <td>0.002659</td>\n",
       "    </tr>\n",
       "    <tr>\n",
       "      <th>501451</th>\n",
       "      <td>0.001641</td>\n",
       "      <td>0.000757</td>\n",
       "      <td>0.003282</td>\n",
       "    </tr>\n",
       "    <tr>\n",
       "      <th>501452</th>\n",
       "      <td>0.001254</td>\n",
       "      <td>0.001442</td>\n",
       "      <td>0.002510</td>\n",
       "    </tr>\n",
       "    <tr>\n",
       "      <th>501453</th>\n",
       "      <td>0.001976</td>\n",
       "      <td>0.000363</td>\n",
       "      <td>0.003161</td>\n",
       "    </tr>\n",
       "    <tr>\n",
       "      <th>501454</th>\n",
       "      <td>0.001900</td>\n",
       "      <td>0.000764</td>\n",
       "      <td>0.002171</td>\n",
       "    </tr>\n",
       "  </tbody>\n",
       "</table>\n",
       "<p>501455 rows × 3 columns</p>\n",
       "</div>"
      ],
      "text/plain": [
       "        calculatedfinishedsquarefeet  cost_per_sqft  sqft_room_ratio\n",
       "0                           0.002407       0.000793         0.002750\n",
       "1                           0.001964       0.001628         0.002618\n",
       "2                           0.002828       0.000679         0.003231\n",
       "3                           0.002454       0.001146         0.003272\n",
       "4                           0.002831       0.000350         0.003774\n",
       "...                              ...            ...              ...\n",
       "501450                      0.002660       0.001500         0.002659\n",
       "501451                      0.001641       0.000757         0.003282\n",
       "501452                      0.001254       0.001442         0.002510\n",
       "501453                      0.001976       0.000363         0.003161\n",
       "501454                      0.001900       0.000764         0.002171\n",
       "\n",
       "[501455 rows x 3 columns]"
      ]
     },
     "execution_count": 359,
     "metadata": {},
     "output_type": "execute_result"
    }
   ],
   "source": [
    "X_validate_scaled"
   ]
  },
  {
   "cell_type": "code",
   "execution_count": 362,
   "id": "fff78271",
   "metadata": {},
   "outputs": [
    {
     "data": {
      "text/plain": [
       "Text(0.5, 1.0, 'Scaled')"
      ]
     },
     "execution_count": 362,
     "metadata": {},
     "output_type": "execute_result"
    },
    {
     "data": {
      "image/png": "[encoded data removed]",
      "text/plain": [
       "<Figure size 936x432 with 2 Axes>"
      ]
     },
     "metadata": {
      "needs_background": "light"
     },
     "output_type": "display_data"
    }
   ],
   "source": [
    "#Visualize the difference between unscaled/scaled data\n",
    "plt.figure(figsize=(13, 6))\n",
    "plt.subplot(121)\n",
    "plt.hist(X_train, bins=25, ec='black')\n",
    "plt.title('Original')\n",
    "plt.subplot(122)\n",
    "plt.hist(train_mms[:,1], bins=25, ec='black')\n",
    "plt.title('Scaled')"
   ]
  },
  {
   "cell_type": "code",
   "execution_count": 363,
   "id": "cfc223ca",
   "metadata": {},
   "outputs": [
    {
     "data": {
      "text/plain": [
       "(array([320321., 401867., 229418., 107175.,  49707.,  24490.,  15163.,\n",
       "         10039.,   6878.,   5001.]),\n",
       " array([2.2000000e+01, 2.0001930e+05, 4.0001660e+05, 6.0001390e+05,\n",
       "        8.0001120e+05, 1.0000085e+06, 1.2000058e+06, 1.4000031e+06,\n",
       "        1.6000004e+06, 1.7999977e+06, 1.9999950e+06]),\n",
       " <BarContainer object of 10 artists>)"
      ]
     },
     "execution_count": 363,
     "metadata": {},
     "output_type": "execute_result"
    },
    {
     "data": {
      "image/png": "[encoded data removed]",
      "text/plain": [
       "<Figure size 432x288 with 1 Axes>"
      ]
     },
     "metadata": {
      "needs_background": "light"
     },
     "output_type": "display_data"
    }
   ],
   "source": [
    "plt.hist(y_train)"
   ]
  },
  {
   "cell_type": "code",
   "execution_count": 364,
   "id": "14565926",
   "metadata": {},
   "outputs": [],
   "source": [
    "y_train = pd.DataFrame(y_train)\n",
    "y_validate = pd.DataFrame(y_validate)"
   ]
  },
  {
   "cell_type": "code",
   "execution_count": null,
   "id": "8245c3a1",
   "metadata": {},
   "outputs": [],
   "source": []
  },
  {
   "cell_type": "code",
   "execution_count": 365,
   "id": "e4685d6c",
   "metadata": {
    "scrolled": true
   },
   "outputs": [
    {
     "name": "stdout",
     "output_type": "stream",
     "text": [
      "RMSE using Mean\n",
      "Train/In-Sample:  313644.26 \n",
      "Validate/Out-of-Sample:  313020.06\n",
      "RMSE using Median\n",
      "Train/In-Sample:  322873.31 \n",
      "Validate/Out-of-Sample:  322197.37\n"
     ]
    }
   ],
   "source": [
    "# 1. Predict home_value_pred_mean\n",
    "home_value_pred_mean = y_train['taxvaluedollarcnt'].mean()\n",
    "y_train['home_value_pred_mean'] = home_value_pred_mean\n",
    "y_validate['home_value_pred_mean'] = home_value_pred_mean\n",
    "\n",
    "# 2. compute home_value_pred_median\n",
    "home_value_median = y_train['taxvaluedollarcnt'].median()\n",
    "y_train['home_value_median'] = home_value_median\n",
    "y_validate['home_value_median'] = home_value_median\n",
    "\n",
    "# 3. RMSE of home_value_pred_mean\n",
    "rmse_train = mean_squared_error(y_train.taxvaluedollarcnt, y_train.home_value_pred_mean)**(1/2)\n",
    "rmse_validate = mean_squared_error(y_validate.taxvaluedollarcnt, y_validate.home_value_pred_mean)**(1/2)\n",
    "\n",
    "print(\"RMSE using Mean\\nTrain/In-Sample: \", round(rmse_train, 2), \n",
    "      \"\\nValidate/Out-of-Sample: \", round(rmse_validate, 2))\n",
    "\n",
    "# 4. RMSE of home_value_pred_median\n",
    "rmse_train = mean_squared_error(y_train.taxvaluedollarcnt, y_train.home_value_median)**(1/2)\n",
    "rmse_validate = mean_squared_error(y_validate.taxvaluedollarcnt, y_validate.home_value_median)**(1/2)\n",
    "\n",
    "print(\"RMSE using Median\\nTrain/In-Sample: \", round(rmse_train, 2), \n",
    "      \"\\nValidate/Out-of-Sample: \", round(rmse_validate, 2))"
   ]
  },
  {
   "cell_type": "code",
   "execution_count": 366,
   "id": "eec27995",
   "metadata": {},
   "outputs": [
    {
     "data": {
      "text/html": [
       "<div>\n",
       "<style scoped>\n",
       "    .dataframe tbody tr th:only-of-type {\n",
       "        vertical-align: middle;\n",
       "    }\n",
       "\n",
       "    .dataframe tbody tr th {\n",
       "        vertical-align: top;\n",
       "    }\n",
       "\n",
       "    .dataframe thead th {\n",
       "        text-align: right;\n",
       "    }\n",
       "</style>\n",
       "<table border=\"1\" class=\"dataframe\">\n",
       "  <thead>\n",
       "    <tr style=\"text-align: right;\">\n",
       "      <th></th>\n",
       "      <th>taxvaluedollarcnt</th>\n",
       "      <th>home_value_pred_mean</th>\n",
       "      <th>home_value_median</th>\n",
       "    </tr>\n",
       "  </thead>\n",
       "  <tbody>\n",
       "    <tr>\n",
       "      <th>1702590</th>\n",
       "      <td>831746</td>\n",
       "      <td>399174.008496</td>\n",
       "      <td>322529.0</td>\n",
       "    </tr>\n",
       "    <tr>\n",
       "      <th>1204794</th>\n",
       "      <td>567000</td>\n",
       "      <td>399174.008496</td>\n",
       "      <td>322529.0</td>\n",
       "    </tr>\n",
       "    <tr>\n",
       "      <th>855784</th>\n",
       "      <td>137805</td>\n",
       "      <td>399174.008496</td>\n",
       "      <td>322529.0</td>\n",
       "    </tr>\n",
       "    <tr>\n",
       "      <th>2033187</th>\n",
       "      <td>700607</td>\n",
       "      <td>399174.008496</td>\n",
       "      <td>322529.0</td>\n",
       "    </tr>\n",
       "    <tr>\n",
       "      <th>999881</th>\n",
       "      <td>360649</td>\n",
       "      <td>399174.008496</td>\n",
       "      <td>322529.0</td>\n",
       "    </tr>\n",
       "    <tr>\n",
       "      <th>...</th>\n",
       "      <td>...</td>\n",
       "      <td>...</td>\n",
       "      <td>...</td>\n",
       "    </tr>\n",
       "    <tr>\n",
       "      <th>1933819</th>\n",
       "      <td>228120</td>\n",
       "      <td>399174.008496</td>\n",
       "      <td>322529.0</td>\n",
       "    </tr>\n",
       "    <tr>\n",
       "      <th>2086583</th>\n",
       "      <td>426973</td>\n",
       "      <td>399174.008496</td>\n",
       "      <td>322529.0</td>\n",
       "    </tr>\n",
       "    <tr>\n",
       "      <th>2026377</th>\n",
       "      <td>387090</td>\n",
       "      <td>399174.008496</td>\n",
       "      <td>322529.0</td>\n",
       "    </tr>\n",
       "    <tr>\n",
       "      <th>1100793</th>\n",
       "      <td>187821</td>\n",
       "      <td>399174.008496</td>\n",
       "      <td>322529.0</td>\n",
       "    </tr>\n",
       "    <tr>\n",
       "      <th>635880</th>\n",
       "      <td>467000</td>\n",
       "      <td>399174.008496</td>\n",
       "      <td>322529.0</td>\n",
       "    </tr>\n",
       "  </tbody>\n",
       "</table>\n",
       "<p>1170059 rows × 3 columns</p>\n",
       "</div>"
      ],
      "text/plain": [
       "         taxvaluedollarcnt  home_value_pred_mean  home_value_median\n",
       "1702590             831746         399174.008496           322529.0\n",
       "1204794             567000         399174.008496           322529.0\n",
       "855784              137805         399174.008496           322529.0\n",
       "2033187             700607         399174.008496           322529.0\n",
       "999881              360649         399174.008496           322529.0\n",
       "...                    ...                   ...                ...\n",
       "1933819             228120         399174.008496           322529.0\n",
       "2086583             426973         399174.008496           322529.0\n",
       "2026377             387090         399174.008496           322529.0\n",
       "1100793             187821         399174.008496           322529.0\n",
       "635880              467000         399174.008496           322529.0\n",
       "\n",
       "[1170059 rows x 3 columns]"
      ]
     },
     "execution_count": 366,
     "metadata": {},
     "output_type": "execute_result"
    }
   ],
   "source": [
    "y_train"
   ]
  },
  {
   "cell_type": "markdown",
   "id": "e6b6fc06",
   "metadata": {},
   "source": [
    "LinearRegression (OLS)\n",
    "Fit the model using X_train_scaled and the labels from y_train.\n",
    "\n",
    "Predict final grade for students in training sample using our model (lm).\n",
    "\n",
    "Evaluate using RMSE\n",
    "\n",
    "Repeat predictions and evaluation for validation.\n",
    "\n",
    "Compare RMSE train vs. validation. Overfitting?"
   ]
  },
  {
   "cell_type": "code",
   "execution_count": 367,
   "id": "4e6008da",
   "metadata": {},
   "outputs": [],
   "source": [
    "# create the model object\n",
    "lm = LinearRegression(normalize=True)"
   ]
  },
  {
   "cell_type": "code",
   "execution_count": 368,
   "id": "0d70c88c",
   "metadata": {},
   "outputs": [
    {
     "data": {
      "text/plain": [
       "LinearRegression(normalize=True)"
      ]
     },
     "execution_count": 368,
     "metadata": {},
     "output_type": "execute_result"
    }
   ],
   "source": [
    "# fit the model to our training data. We must specify the column in y_train, \n",
    "# since we have converted it to a dataframe from a series! \n",
    "lm.fit(X_train_scaled, y_train.taxvaluedollarcnt)"
   ]
  },
  {
   "cell_type": "code",
   "execution_count": 369,
   "id": "dd355b32",
   "metadata": {},
   "outputs": [],
   "source": [
    "# predict train\n",
    "y_train['taxvaluedollarcnt_lm'] = lm.predict(X_train_scaled)"
   ]
  },
  {
   "cell_type": "code",
   "execution_count": 370,
   "id": "8a9eed76",
   "metadata": {},
   "outputs": [],
   "source": [
    "# evaluate: rmse\n",
    "rmse_train = mean_squared_error(y_train.taxvaluedollarcnt, y_train.taxvaluedollarcnt_lm)**(1/2)"
   ]
  },
  {
   "cell_type": "code",
   "execution_count": 371,
   "id": "86ca8bb7",
   "metadata": {},
   "outputs": [],
   "source": [
    "# predict validate\n",
    "y_validate['taxvaluedollarcnt_lm'] = lm.predict(X_validate_scaled)"
   ]
  },
  {
   "cell_type": "code",
   "execution_count": 372,
   "id": "6a366d8c",
   "metadata": {},
   "outputs": [],
   "source": [
    "# evaluate: rmse\n",
    "rmse_validate = mean_squared_error(y_validate.taxvaluedollarcnt, y_validate.taxvaluedollarcnt_lm)**(1/2)"
   ]
  },
  {
   "cell_type": "code",
   "execution_count": 373,
   "id": "a4827469",
   "metadata": {},
   "outputs": [
    {
     "name": "stdout",
     "output_type": "stream",
     "text": [
      "RMSE for OLS using LinearRegression\n",
      "Training/In-Sample:  252051.20781175254 \n",
      "Validation/Out-of-Sample:  492082.90031462914\n"
     ]
    }
   ],
   "source": [
    "print(\"RMSE for OLS using LinearRegression\\nTraining/In-Sample: \", rmse_train, \n",
    "      \"\\nValidation/Out-of-Sample: \", rmse_validate)"
   ]
  },
  {
   "cell_type": "markdown",
   "id": "f6e6c600",
   "metadata": {},
   "source": [
    "LassoLars\n",
    "\n",
    "Fit the model using X_train_scaled and the labels from y_train.\n",
    "\n",
    "Predict final grade for students in training sample using our model (lars).\n",
    "\n",
    "Evaluate using RMSE\n",
    "\n",
    "Repeat predictions and evaluation for validation.\n",
    "\n",
    "Compare RMSE train vs. validation. Overfitting?"
   ]
  },
  {
   "cell_type": "code",
   "execution_count": 374,
   "id": "0b4fd2c9",
   "metadata": {},
   "outputs": [],
   "source": [
    "# create the model object\n",
    "lars = LassoLars(alpha=1.0)"
   ]
  },
  {
   "cell_type": "code",
   "execution_count": 375,
   "id": "3167946e",
   "metadata": {},
   "outputs": [
    {
     "data": {
      "text/plain": [
       "LassoLars()"
      ]
     },
     "execution_count": 375,
     "metadata": {},
     "output_type": "execute_result"
    }
   ],
   "source": [
    "# fit the model to our training data. We must specify the column in y_train, \n",
    "# since we have converted it to a dataframe from a series! \n",
    "lars.fit(X_train_scaled, y_train.taxvaluedollarcnt)"
   ]
  },
  {
   "cell_type": "code",
   "execution_count": 376,
   "id": "c0995de1",
   "metadata": {},
   "outputs": [],
   "source": [
    "# predict train\n",
    "y_train['taxvaluedollarcnt_pred_lars'] = lars.predict(X_train_scaled)"
   ]
  },
  {
   "cell_type": "code",
   "execution_count": 377,
   "id": "34ba9f17",
   "metadata": {},
   "outputs": [],
   "source": [
    "# evaluate: rmse\n",
    "rmse_train = mean_squared_error(y_train.taxvaluedollarcnt, y_train.taxvaluedollarcnt_pred_lars)**(1/2)"
   ]
  },
  {
   "cell_type": "code",
   "execution_count": 378,
   "id": "8661ebbb",
   "metadata": {},
   "outputs": [],
   "source": [
    "# predict validate\n",
    "y_validate['taxvaluedollarcnt_pred_lars'] = lars.predict(X_validate_scaled)"
   ]
  },
  {
   "cell_type": "code",
   "execution_count": 379,
   "id": "e099467e",
   "metadata": {},
   "outputs": [],
   "source": [
    "# evaluate: rmse\n",
    "rmse_validate = mean_squared_error(y_validate.taxvaluedollarcnt, y_validate.taxvaluedollarcnt_pred_lars)**(1/2)"
   ]
  },
  {
   "cell_type": "code",
   "execution_count": 380,
   "id": "5d8fe023",
   "metadata": {},
   "outputs": [
    {
     "name": "stdout",
     "output_type": "stream",
     "text": [
      "RMSE for Lasso + Lars\n",
      "Training/In-Sample:  252056.3095491584 \n",
      "Validation/Out-of-Sample:  489762.4722651199\n"
     ]
    }
   ],
   "source": [
    "print(\"RMSE for Lasso + Lars\\nTraining/In-Sample: \", rmse_train, \n",
    "      \"\\nValidation/Out-of-Sample: \", rmse_validate)"
   ]
  },
  {
   "cell_type": "markdown",
   "id": "15880734",
   "metadata": {},
   "source": [
    "TweedieRegressor (GLM)\n",
    "\n",
    "Fit the model using X_train_scaled and the labels from y_train.\n",
    "\n",
    "Predict final grade for students in training sample using our model (glm).\n",
    "\n",
    "Evaluate using RMSE\n",
    "\n",
    "Repeat predictions and evaluation for validation.\n",
    "\n",
    "Compare RMSE train vs. validation. Overfitting?"
   ]
  },
  {
   "cell_type": "code",
   "execution_count": 381,
   "id": "03135ed6",
   "metadata": {},
   "outputs": [],
   "source": [
    "# create the model object\n",
    "glm = TweedieRegressor(power=1, alpha=0)"
   ]
  },
  {
   "cell_type": "code",
   "execution_count": 382,
   "id": "32b4f33a",
   "metadata": {},
   "outputs": [
    {
     "data": {
      "text/plain": [
       "TweedieRegressor(alpha=0, power=1)"
      ]
     },
     "execution_count": 382,
     "metadata": {},
     "output_type": "execute_result"
    }
   ],
   "source": [
    "# fit the model to our training data. We must specify the column in y_train, \n",
    "# since we have converted it to a dataframe from a series! \n",
    "glm.fit(X_train_scaled, y_train.taxvaluedollarcnt)"
   ]
  },
  {
   "cell_type": "code",
   "execution_count": 383,
   "id": "f5d65cb7",
   "metadata": {},
   "outputs": [],
   "source": [
    "# predict train\n",
    "y_train['taxvaluedollarcnt_pred_glm'] = glm.predict(X_train_scaled)"
   ]
  },
  {
   "cell_type": "code",
   "execution_count": 384,
   "id": "e1a128d7",
   "metadata": {},
   "outputs": [],
   "source": [
    "# evaluate: rmse\n",
    "rmse_train = mean_squared_error(y_train.taxvaluedollarcnt, y_train.taxvaluedollarcnt_pred_glm)**(1/2)"
   ]
  },
  {
   "cell_type": "code",
   "execution_count": 385,
   "id": "87ea1b1b",
   "metadata": {},
   "outputs": [],
   "source": [
    "# predict validate\n",
    "y_validate['taxvaluedollarcnt_pred_glm'] = glm.predict(X_validate_scaled)"
   ]
  },
  {
   "cell_type": "code",
   "execution_count": 386,
   "id": "3b186e9f",
   "metadata": {},
   "outputs": [],
   "source": [
    "# evaluate: rmse\n",
    "rmse_validate = mean_squared_error(y_validate.taxvaluedollarcnt, y_validate.taxvaluedollarcnt_pred_glm)**(1/2)"
   ]
  },
  {
   "cell_type": "code",
   "execution_count": 387,
   "id": "9dba093d",
   "metadata": {},
   "outputs": [
    {
     "name": "stdout",
     "output_type": "stream",
     "text": [
      "RMSE for GLM using Tweedie, power=1 & alpha=0\n",
      "Training/In-Sample:  1506911.3078400525 \n",
      "Validation/Out-of-Sample:  348663.68218754383\n"
     ]
    }
   ],
   "source": [
    "print(\"RMSE for GLM using Tweedie, power=1 & alpha=0\\nTraining/In-Sample: \", rmse_train, \n",
    "      \"\\nValidation/Out-of-Sample: \", rmse_validate)"
   ]
  },
  {
   "cell_type": "markdown",
   "id": "fc492393",
   "metadata": {},
   "source": [
    "Polynomial Regression\n",
    "\n",
    "Using sklearn.preprocessing.PolynommialFeatures() + \n",
    "\n",
    "sklearn.linear_model.LinearRegression()\n",
    "\n",
    "Create the new features, based on value indicated for degree for train, validate & test.\n",
    "\n",
    "Fit the Linear Regression model\n",
    "\n",
    "Predict using the transformed (squared or cubed, e.g.) features\n",
    "\n",
    "Evaluate using RMSE\n",
    "\n",
    "Repeat predictions and evaluation for validation.\n",
    "\n",
    "Compare RMSE train vs. validation. Overfitting?"
   ]
  },
  {
   "cell_type": "code",
   "execution_count": 388,
   "id": "51291dec",
   "metadata": {},
   "outputs": [],
   "source": [
    "# make the polynomial features to get a new set of features\n",
    "pf = PolynomialFeatures(degree=2)\n",
    "\n",
    "# fit and transform X_train_scaled\n",
    "X_train_degree2 = pf.fit_transform(X_train_scaled)\n",
    "\n",
    "# transform X_validate_scaled & X_test_scaled\n",
    "X_validate_degree2 = pf.transform(X_validate_scaled)\n"
   ]
  },
  {
   "cell_type": "code",
   "execution_count": 389,
   "id": "686438c5",
   "metadata": {},
   "outputs": [
    {
     "name": "stdout",
     "output_type": "stream",
     "text": [
      "RMSE for Polynomial Model, degrees=2\n",
      "Training/In-Sample:  5.67152942621808 \n",
      "Validation/Out-of-Sample:  407782.0493020097\n"
     ]
    }
   ],
   "source": [
    "# create the model object\n",
    "lm2 = LinearRegression(normalize=True)\n",
    "\n",
    "# fit the model to our training data. We must specify the column in y_train, \n",
    "# since we have converted it to a dataframe from a series! \n",
    "lm2.fit(X_train_degree2, y_train.taxvaluedollarcnt)\n",
    "\n",
    "# predict train\n",
    "y_train['taxvaluedollarcnt_pred_lm2'] = lm2.predict(X_train_degree2)\n",
    "\n",
    "# evaluate: rmse\n",
    "rmse_train = mean_squared_error(y_train.taxvaluedollarcnt, y_train.taxvaluedollarcnt_pred_lm2)**(1/2)\n",
    "\n",
    "# predict validate\n",
    "y_validate['taxvaluedollarcnt_pred_lm2'] = lm2.predict(X_validate_degree2)\n",
    "\n",
    "# evaluate: rmse\n",
    "rmse_validate = mean_squared_error(y_validate.taxvaluedollarcnt, y_validate.taxvaluedollarcnt_pred_lm2)**(1/2)\n",
    "\n",
    "print(\"RMSE for Polynomial Model, degrees=2\\nTraining/In-Sample: \", rmse_train, \n",
    "      \"\\nValidation/Out-of-Sample: \", rmse_validate)"
   ]
  },
  {
   "cell_type": "code",
   "execution_count": 390,
   "id": "8b5b9369",
   "metadata": {},
   "outputs": [],
   "source": [
    "# make the polynomial features to get a new set of features\n",
    "pf = PolynomialFeatures(degree=3)\n",
    "\n",
    "# fit and transform X_train_scaled\n",
    "X_train_degree3 = pf.fit_transform(X_train_scaled)\n",
    "\n",
    "# transform X_validate_scaled & X_test_scaled\n",
    "X_validate_degree3 = pf.transform(X_validate_scaled)"
   ]
  },
  {
   "cell_type": "code",
   "execution_count": 391,
   "id": "759a42cc",
   "metadata": {
    "scrolled": true
   },
   "outputs": [
    {
     "name": "stdout",
     "output_type": "stream",
     "text": [
      "RMSE for Polynomial Model, degrees=3\n",
      "Training/In-Sample:  5.668807610071449 \n",
      "Validation/Out-of-Sample:  407782.23356308456\n"
     ]
    }
   ],
   "source": [
    "# create the model object\n",
    "lm3 = LinearRegression(normalize=True)\n",
    "\n",
    "# fit the model to our training data. We must specify the column in y_train, \n",
    "# since we have converted it to a dataframe from a series! \n",
    "lm3.fit(X_train_degree3, y_train.taxvaluedollarcnt)\n",
    "\n",
    "# predict train\n",
    "y_train['taxvaluedollarcnt_pred_lm3'] = lm3.predict(X_train_degree3)\n",
    "\n",
    "# evaluate: rmse\n",
    "rmse_train = mean_squared_error(y_train.taxvaluedollarcnt, y_train.taxvaluedollarcnt_pred_lm3)**(1/2)\n",
    "\n",
    "# predict validate\n",
    "y_validate['taxvaluedollarcnt_pred_lm3'] = lm3.predict(X_validate_degree3)\n",
    "\n",
    "# evaluate: rmse\n",
    "rmse_validate = mean_squared_error(y_validate.taxvaluedollarcnt, y_validate.taxvaluedollarcnt_pred_lm3)**(1/2)\n",
    "\n",
    "print(\"RMSE for Polynomial Model, degrees=3\\nTraining/In-Sample: \", rmse_train, \n",
    "      \"\\nValidation/Out-of-Sample: \", rmse_validate)"
   ]
  },
  {
   "cell_type": "code",
   "execution_count": 392,
   "id": "07306333",
   "metadata": {},
   "outputs": [
    {
     "data": {
      "text/html": [
       "<div>\n",
       "<style scoped>\n",
       "    .dataframe tbody tr th:only-of-type {\n",
       "        vertical-align: middle;\n",
       "    }\n",
       "\n",
       "    .dataframe tbody tr th {\n",
       "        vertical-align: top;\n",
       "    }\n",
       "\n",
       "    .dataframe thead th {\n",
       "        text-align: right;\n",
       "    }\n",
       "</style>\n",
       "<table border=\"1\" class=\"dataframe\">\n",
       "  <thead>\n",
       "    <tr style=\"text-align: right;\">\n",
       "      <th></th>\n",
       "      <th>taxvaluedollarcnt</th>\n",
       "      <th>home_value_pred_mean</th>\n",
       "      <th>home_value_median</th>\n",
       "      <th>taxvaluedollarcnt_lm</th>\n",
       "      <th>taxvaluedollarcnt_pred_lars</th>\n",
       "      <th>taxvaluedollarcnt_pred_glm</th>\n",
       "      <th>taxvaluedollarcnt_pred_lm2</th>\n",
       "      <th>taxvaluedollarcnt_pred_lm3</th>\n",
       "    </tr>\n",
       "  </thead>\n",
       "  <tbody>\n",
       "    <tr>\n",
       "      <th>1486401</th>\n",
       "      <td>354894</td>\n",
       "      <td>399174.008496</td>\n",
       "      <td>322529.0</td>\n",
       "      <td>5585.934755</td>\n",
       "      <td>8907.087487</td>\n",
       "      <td>311002.971635</td>\n",
       "      <td>69430.560623</td>\n",
       "      <td>69430.139528</td>\n",
       "    </tr>\n",
       "    <tr>\n",
       "      <th>1964431</th>\n",
       "      <td>594506</td>\n",
       "      <td>399174.008496</td>\n",
       "      <td>322529.0</td>\n",
       "      <td>18190.424473</td>\n",
       "      <td>20986.820880</td>\n",
       "      <td>309678.973669</td>\n",
       "      <td>116471.614178</td>\n",
       "      <td>116471.392235</td>\n",
       "    </tr>\n",
       "    <tr>\n",
       "      <th>1631271</th>\n",
       "      <td>356758</td>\n",
       "      <td>399174.008496</td>\n",
       "      <td>322529.0</td>\n",
       "      <td>9239.504792</td>\n",
       "      <td>12573.058766</td>\n",
       "      <td>311260.364687</td>\n",
       "      <td>69730.639524</td>\n",
       "      <td>69730.203452</td>\n",
       "    </tr>\n",
       "    <tr>\n",
       "      <th>1065206</th>\n",
       "      <td>522828</td>\n",
       "      <td>399174.008496</td>\n",
       "      <td>322529.0</td>\n",
       "      <td>14772.220179</td>\n",
       "      <td>17807.811889</td>\n",
       "      <td>308992.463334</td>\n",
       "      <td>102273.681599</td>\n",
       "      <td>102273.348225</td>\n",
       "    </tr>\n",
       "    <tr>\n",
       "      <th>951437</th>\n",
       "      <td>183952</td>\n",
       "      <td>399174.008496</td>\n",
       "      <td>322529.0</td>\n",
       "      <td>2628.407834</td>\n",
       "      <td>6132.638548</td>\n",
       "      <td>307884.120126</td>\n",
       "      <td>35952.947828</td>\n",
       "      <td>35952.449392</td>\n",
       "    </tr>\n",
       "    <tr>\n",
       "      <th>...</th>\n",
       "      <td>...</td>\n",
       "      <td>...</td>\n",
       "      <td>...</td>\n",
       "      <td>...</td>\n",
       "      <td>...</td>\n",
       "      <td>...</td>\n",
       "      <td>...</td>\n",
       "      <td>...</td>\n",
       "    </tr>\n",
       "    <tr>\n",
       "      <th>1984295</th>\n",
       "      <td>741813</td>\n",
       "      <td>399174.008496</td>\n",
       "      <td>322529.0</td>\n",
       "      <td>24629.477694</td>\n",
       "      <td>27473.707934</td>\n",
       "      <td>314317.447589</td>\n",
       "      <td>145044.621248</td>\n",
       "      <td>145044.358939</td>\n",
       "    </tr>\n",
       "    <tr>\n",
       "      <th>695898</th>\n",
       "      <td>231073</td>\n",
       "      <td>399174.008496</td>\n",
       "      <td>322529.0</td>\n",
       "      <td>-4701.645305</td>\n",
       "      <td>-1367.475125</td>\n",
       "      <td>302638.419735</td>\n",
       "      <td>45334.290981</td>\n",
       "      <td>45333.861862</td>\n",
       "    </tr>\n",
       "    <tr>\n",
       "      <th>1542519</th>\n",
       "      <td>336443</td>\n",
       "      <td>399174.008496</td>\n",
       "      <td>322529.0</td>\n",
       "      <td>4463.131871</td>\n",
       "      <td>7428.563692</td>\n",
       "      <td>304950.896421</td>\n",
       "      <td>66190.461111</td>\n",
       "      <td>66190.201240</td>\n",
       "    </tr>\n",
       "    <tr>\n",
       "      <th>1718131</th>\n",
       "      <td>133310</td>\n",
       "      <td>399174.008496</td>\n",
       "      <td>322529.0</td>\n",
       "      <td>-9225.414759</td>\n",
       "      <td>-5632.826042</td>\n",
       "      <td>305113.878976</td>\n",
       "      <td>26112.549009</td>\n",
       "      <td>26112.026416</td>\n",
       "    </tr>\n",
       "    <tr>\n",
       "      <th>1037699</th>\n",
       "      <td>269756</td>\n",
       "      <td>399174.008496</td>\n",
       "      <td>322529.0</td>\n",
       "      <td>-2556.219137</td>\n",
       "      <td>861.959303</td>\n",
       "      <td>310463.067346</td>\n",
       "      <td>52858.649992</td>\n",
       "      <td>52858.208317</td>\n",
       "    </tr>\n",
       "  </tbody>\n",
       "</table>\n",
       "<p>501455 rows × 8 columns</p>\n",
       "</div>"
      ],
      "text/plain": [
       "         taxvaluedollarcnt  home_value_pred_mean  home_value_median  \\\n",
       "1486401             354894         399174.008496           322529.0   \n",
       "1964431             594506         399174.008496           322529.0   \n",
       "1631271             356758         399174.008496           322529.0   \n",
       "1065206             522828         399174.008496           322529.0   \n",
       "951437              183952         399174.008496           322529.0   \n",
       "...                    ...                   ...                ...   \n",
       "1984295             741813         399174.008496           322529.0   \n",
       "695898              231073         399174.008496           322529.0   \n",
       "1542519             336443         399174.008496           322529.0   \n",
       "1718131             133310         399174.008496           322529.0   \n",
       "1037699             269756         399174.008496           322529.0   \n",
       "\n",
       "         taxvaluedollarcnt_lm  taxvaluedollarcnt_pred_lars  \\\n",
       "1486401           5585.934755                  8907.087487   \n",
       "1964431          18190.424473                 20986.820880   \n",
       "1631271           9239.504792                 12573.058766   \n",
       "1065206          14772.220179                 17807.811889   \n",
       "951437            2628.407834                  6132.638548   \n",
       "...                       ...                          ...   \n",
       "1984295          24629.477694                 27473.707934   \n",
       "695898           -4701.645305                 -1367.475125   \n",
       "1542519           4463.131871                  7428.563692   \n",
       "1718131          -9225.414759                 -5632.826042   \n",
       "1037699          -2556.219137                   861.959303   \n",
       "\n",
       "         taxvaluedollarcnt_pred_glm  taxvaluedollarcnt_pred_lm2  \\\n",
       "1486401               311002.971635                69430.560623   \n",
       "1964431               309678.973669               116471.614178   \n",
       "1631271               311260.364687                69730.639524   \n",
       "1065206               308992.463334               102273.681599   \n",
       "951437                307884.120126                35952.947828   \n",
       "...                             ...                         ...   \n",
       "1984295               314317.447589               145044.621248   \n",
       "695898                302638.419735                45334.290981   \n",
       "1542519               304950.896421                66190.461111   \n",
       "1718131               305113.878976                26112.549009   \n",
       "1037699               310463.067346                52858.649992   \n",
       "\n",
       "         taxvaluedollarcnt_pred_lm3  \n",
       "1486401                69430.139528  \n",
       "1964431               116471.392235  \n",
       "1631271                69730.203452  \n",
       "1065206               102273.348225  \n",
       "951437                 35952.449392  \n",
       "...                             ...  \n",
       "1984295               145044.358939  \n",
       "695898                 45333.861862  \n",
       "1542519                66190.201240  \n",
       "1718131                26112.026416  \n",
       "1037699                52858.208317  \n",
       "\n",
       "[501455 rows x 8 columns]"
      ]
     },
     "execution_count": 392,
     "metadata": {},
     "output_type": "execute_result"
    }
   ],
   "source": [
    "y_validate"
   ]
  },
  {
   "cell_type": "code",
   "execution_count": 393,
   "id": "9a83adc9",
   "metadata": {},
   "outputs": [],
   "source": [
    "# # y_validate.head()\n",
    "# plt.figure(figsize=(10,10))\n",
    "# plt.rcParams['agg.path.chunksize'] = 10000\n",
    "# plt.ylim(0, 1_000_000)\n",
    "# plt.plot(y_validate.taxvaluedollarcnt, y_validate.home_value_pred_mean, alpha=.5, color=\"gray\", label='_nolegend_')\n",
    "# # plt.annotate(\"Baseline: Predict Using Mean\", (16, 9.5))\n",
    "# plt.plot(y_validate.taxvaluedollarcnt, y_validate.taxvaluedollarcnt, alpha=.5, color=\"blue\", label='_nolegend_')\n",
    "# # plt.annotate(\"The Ideal Line: Predicted = Actual\", (.5, 3.5), rotation=15.5)\n",
    "\n",
    "# plt.scatter(y_validate.taxvaluedollarcnt, y_validate.taxvaluedollarcnt_lm, \n",
    "#             alpha=.5, color=\"red\", s=100, label=\"Model: LinearRegression\")\n",
    "# plt.scatter(y_validate.taxvaluedollarcnt, y_validate.taxvaluedollarcnt_pred_glm, \n",
    "#             alpha=.5, color=\"yellow\", s=100, label=\"Model: TweedieRegressor\")\n",
    "# plt.scatter(y_validate.taxvaluedollarcnt, y_validate.taxvaluedollarcnt_pred_lm2, \n",
    "#             alpha=.5, color=\"green\", s=100, label=\"Model 2nd degree Polynomial\")\n",
    "# plt.legend()\n",
    "# plt.xlabel(\"Actual Home Value\")\n",
    "# plt.ylabel(\"Predicted Home Value\")\n",
    "# plt.title(\"Where are predictions more extreme? More modest?\")\n",
    "# plt.show()"
   ]
  },
  {
   "cell_type": "code",
   "execution_count": 394,
   "id": "ab009026",
   "metadata": {
    "scrolled": true
   },
   "outputs": [],
   "source": [
    "# # y_validate.head()\n",
    "# plt.figure(figsize=(16,8))\n",
    "# plt.rcParams['agg.path.chunksize'] = 1000\n",
    "# plt.ylim(0, 500_000)\n",
    "# plt.axhline(label=\"No Error\")\n",
    "# plt.scatter(y_validate.taxvaluedollarcnt, y_validate.taxvaluedollarcnt_lm-y_validate.taxvaluedollarcnt, \n",
    "#             alpha=.5, color=\"red\", s=100, label=\"Model: LinearRegression\")\n",
    "# plt.scatter(y_validate.taxvaluedollarcnt, y_validate.taxvaluedollarcnt_pred_glm-y_validate.taxvaluedollarcnt, \n",
    "#             alpha=.5, color=\"yellow\", s=100, label=\"Model: TweedieRegressor\")\n",
    "# plt.scatter(y_validate.taxvaluedollarcnt, y_validate.taxvaluedollarcnt_pred_lm2-y_validate.taxvaluedollarcnt, \n",
    "#             alpha=.5, color=\"green\", s=100, label=\"Model 2nd degree Polynomial\")\n",
    "# plt.legend()\n",
    "# plt.xlabel(\"Actual Final Grade\")\n",
    "# plt.ylabel(\"Residual/Error: Predicted Grade - Actual Grade\")\n",
    "# plt.title(\"Do the size of errors change as the actual value changes?\")\n",
    "# plt.annotate(\"The polynomial model appears to overreact to noise\", (2.0, -10))\n",
    "# plt.annotate(\"The OLS model (LinearRegression)\\n appears to be most consistent\", (15.5, 3))\n",
    "# plt.show()"
   ]
  },
  {
   "cell_type": "code",
   "execution_count": 396,
   "id": "606e50ae",
   "metadata": {},
   "outputs": [
    {
     "data": {
      "image/png": "[encoded data removed]",
      "text/plain": [
       "<Figure size 1152x576 with 1 Axes>"
      ]
     },
     "metadata": {
      "needs_background": "light"
     },
     "output_type": "display_data"
    }
   ],
   "source": [
    "# plot to visualize actual vs predicted. \n",
    "plt.figure(figsize=(16,8))\n",
    "plt.ylim(0, 550_000)\n",
    "plt.xlim(0, 2_000_000)\n",
    "plt.hist(y_validate.taxvaluedollarcnt, color='blue', alpha=.5, label=\"Actual \")\n",
    "plt.hist(y_validate.taxvaluedollarcnt_lm, color='red', alpha=.5, label=\"Model: LinearRegression\")\n",
    "plt.hist(y_validate.taxvaluedollarcnt_pred_glm, color='yellow', alpha=.5, label=\"Model: TweedieRegressor\")\n",
    "plt.hist(y_validate.taxvaluedollarcnt_pred_lm2, color='green', alpha=.5, label=\"Model 2nd degree Polynomial\")\n",
    "plt.xlabel(\"home value\")\n",
    "plt.ylabel(\"number of homes\")\n",
    "plt.title(\"Comparing the Distribution of Actual to Distributions of Predicted for the Top Models\")\n",
    "plt.legend()\n",
    "plt.show()"
   ]
  },
  {
   "cell_type": "code",
   "execution_count": null,
   "id": "8ebf2bfb",
   "metadata": {},
   "outputs": [],
   "source": []
  },
  {
   "cell_type": "markdown",
   "id": "c2619be3",
   "metadata": {},
   "source": [
    "Model Selection & Out-of-Sample Evaluation\n",
    "\n",
    "Model selected: lm (using LinearRegression)"
   ]
  },
  {
   "cell_type": "code",
   "execution_count": 400,
   "id": "b8c6b0d8",
   "metadata": {},
   "outputs": [],
   "source": [
    "#Assign the scaler to a variable, and fit/transform the training data\n",
    "mms = sklearn.preprocessing.MinMaxScaler()\n",
    "\n",
    "mms.fit(X_test)\n",
    "\n",
    "test_mms = mms.transform(X_test)"
   ]
  },
  {
   "cell_type": "code",
   "execution_count": 401,
   "id": "fb460d56",
   "metadata": {},
   "outputs": [],
   "source": [
    "#Is there a mistake here?\n",
    "X_test_scaled = pd.DataFrame(test_mms, columns=list(X_test.columns))"
   ]
  },
  {
   "cell_type": "code",
   "execution_count": 404,
   "id": "cb2fcb8a",
   "metadata": {},
   "outputs": [
    {
     "data": {
      "text/html": [
       "<div>\n",
       "<style scoped>\n",
       "    .dataframe tbody tr th:only-of-type {\n",
       "        vertical-align: middle;\n",
       "    }\n",
       "\n",
       "    .dataframe tbody tr th {\n",
       "        vertical-align: top;\n",
       "    }\n",
       "\n",
       "    .dataframe thead th {\n",
       "        text-align: right;\n",
       "    }\n",
       "</style>\n",
       "<table border=\"1\" class=\"dataframe\">\n",
       "  <thead>\n",
       "    <tr style=\"text-align: right;\">\n",
       "      <th></th>\n",
       "      <th>calculatedfinishedsquarefeet</th>\n",
       "      <th>cost_per_sqft</th>\n",
       "      <th>sqft_room_ratio</th>\n",
       "    </tr>\n",
       "  </thead>\n",
       "  <tbody>\n",
       "    <tr>\n",
       "      <th>0</th>\n",
       "      <td>0.177670</td>\n",
       "      <td>0.000883</td>\n",
       "      <td>0.148253</td>\n",
       "    </tr>\n",
       "    <tr>\n",
       "      <th>1</th>\n",
       "      <td>0.066146</td>\n",
       "      <td>0.001094</td>\n",
       "      <td>0.082806</td>\n",
       "    </tr>\n",
       "    <tr>\n",
       "      <th>2</th>\n",
       "      <td>0.053685</td>\n",
       "      <td>0.000557</td>\n",
       "      <td>0.089635</td>\n",
       "    </tr>\n",
       "    <tr>\n",
       "      <th>3</th>\n",
       "      <td>0.104727</td>\n",
       "      <td>0.000887</td>\n",
       "      <td>0.104867</td>\n",
       "    </tr>\n",
       "    <tr>\n",
       "      <th>4</th>\n",
       "      <td>0.103153</td>\n",
       "      <td>0.000619</td>\n",
       "      <td>0.103291</td>\n",
       "    </tr>\n",
       "    <tr>\n",
       "      <th>...</th>\n",
       "      <td>...</td>\n",
       "      <td>...</td>\n",
       "      <td>...</td>\n",
       "    </tr>\n",
       "    <tr>\n",
       "      <th>417874</th>\n",
       "      <td>0.086160</td>\n",
       "      <td>0.001517</td>\n",
       "      <td>0.086273</td>\n",
       "    </tr>\n",
       "    <tr>\n",
       "      <th>417875</th>\n",
       "      <td>0.325571</td>\n",
       "      <td>0.001023</td>\n",
       "      <td>0.162980</td>\n",
       "    </tr>\n",
       "    <tr>\n",
       "      <th>417876</th>\n",
       "      <td>0.100887</td>\n",
       "      <td>0.000133</td>\n",
       "      <td>0.084171</td>\n",
       "    </tr>\n",
       "    <tr>\n",
       "      <th>417877</th>\n",
       "      <td>0.147083</td>\n",
       "      <td>0.000952</td>\n",
       "      <td>0.105182</td>\n",
       "    </tr>\n",
       "    <tr>\n",
       "      <th>417878</th>\n",
       "      <td>0.137579</td>\n",
       "      <td>0.000567</td>\n",
       "      <td>0.086077</td>\n",
       "    </tr>\n",
       "  </tbody>\n",
       "</table>\n",
       "<p>417879 rows × 3 columns</p>\n",
       "</div>"
      ],
      "text/plain": [
       "        calculatedfinishedsquarefeet  cost_per_sqft  sqft_room_ratio\n",
       "0                           0.177670       0.000883         0.148253\n",
       "1                           0.066146       0.001094         0.082806\n",
       "2                           0.053685       0.000557         0.089635\n",
       "3                           0.104727       0.000887         0.104867\n",
       "4                           0.103153       0.000619         0.103291\n",
       "...                              ...            ...              ...\n",
       "417874                      0.086160       0.001517         0.086273\n",
       "417875                      0.325571       0.001023         0.162980\n",
       "417876                      0.100887       0.000133         0.084171\n",
       "417877                      0.147083       0.000952         0.105182\n",
       "417878                      0.137579       0.000567         0.086077\n",
       "\n",
       "[417879 rows x 3 columns]"
      ]
     },
     "execution_count": 404,
     "metadata": {},
     "output_type": "execute_result"
    }
   ],
   "source": [
    "X_test_scaled"
   ]
  },
  {
   "cell_type": "code",
   "execution_count": 402,
   "id": "5483bb86",
   "metadata": {
    "scrolled": true
   },
   "outputs": [
    {
     "name": "stdout",
     "output_type": "stream",
     "text": [
      "RMSE for OLS Model using LinearRegression\n",
      "Out-of-Sample Performance:  1324713.8192676313\n"
     ]
    }
   ],
   "source": [
    "y_test = pd.DataFrame(y_test)\n",
    "\n",
    "# predict on test\n",
    "y_test['taxvaluedollarcnt_lm'] = lm.predict(X_test_scaled)\n",
    "\n",
    "# evaluate: rmse\n",
    "rmse_test = mean_squared_error(y_test.taxvaluedollarcnt, y_test.taxvaluedollarcnt_lm)**(1/2)\n",
    "\n",
    "print(\"RMSE for OLS Model using LinearRegression\\nOut-of-Sample Performance: \", rmse_test)"
   ]
  },
  {
   "cell_type": "code",
   "execution_count": 403,
   "id": "0f401761",
   "metadata": {},
   "outputs": [
    {
     "data": {
      "text/html": [
       "<div>\n",
       "<style scoped>\n",
       "    .dataframe tbody tr th:only-of-type {\n",
       "        vertical-align: middle;\n",
       "    }\n",
       "\n",
       "    .dataframe tbody tr th {\n",
       "        vertical-align: top;\n",
       "    }\n",
       "\n",
       "    .dataframe thead th {\n",
       "        text-align: right;\n",
       "    }\n",
       "</style>\n",
       "<table border=\"1\" class=\"dataframe\">\n",
       "  <thead>\n",
       "    <tr style=\"text-align: right;\">\n",
       "      <th></th>\n",
       "      <th>taxvaluedollarcnt</th>\n",
       "      <th>taxvaluedollarcnt_lm</th>\n",
       "    </tr>\n",
       "  </thead>\n",
       "  <tbody>\n",
       "    <tr>\n",
       "      <th>332785</th>\n",
       "      <td>815866</td>\n",
       "      <td>2.522545e+06</td>\n",
       "    </tr>\n",
       "    <tr>\n",
       "      <th>925969</th>\n",
       "      <td>376380</td>\n",
       "      <td>9.620086e+05</td>\n",
       "    </tr>\n",
       "    <tr>\n",
       "      <th>87705</th>\n",
       "      <td>155656</td>\n",
       "      <td>7.934009e+05</td>\n",
       "    </tr>\n",
       "    <tr>\n",
       "      <th>1183010</th>\n",
       "      <td>483265</td>\n",
       "      <td>1.498121e+06</td>\n",
       "    </tr>\n",
       "    <tr>\n",
       "      <th>317260</th>\n",
       "      <td>332000</td>\n",
       "      <td>1.469197e+06</td>\n",
       "    </tr>\n",
       "    <tr>\n",
       "      <th>...</th>\n",
       "      <td>...</td>\n",
       "      <td>...</td>\n",
       "    </tr>\n",
       "    <tr>\n",
       "      <th>1209931</th>\n",
       "      <td>680000</td>\n",
       "      <td>1.241670e+06</td>\n",
       "    </tr>\n",
       "    <tr>\n",
       "      <th>1081165</th>\n",
       "      <td>1731614</td>\n",
       "      <td>4.508329e+06</td>\n",
       "    </tr>\n",
       "    <tr>\n",
       "      <th>2105453</th>\n",
       "      <td>69738</td>\n",
       "      <td>1.403546e+06</td>\n",
       "    </tr>\n",
       "    <tr>\n",
       "      <th>1162662</th>\n",
       "      <td>728162</td>\n",
       "      <td>2.062324e+06</td>\n",
       "    </tr>\n",
       "    <tr>\n",
       "      <th>684076</th>\n",
       "      <td>405472</td>\n",
       "      <td>1.902850e+06</td>\n",
       "    </tr>\n",
       "  </tbody>\n",
       "</table>\n",
       "<p>417879 rows × 2 columns</p>\n",
       "</div>"
      ],
      "text/plain": [
       "         taxvaluedollarcnt  taxvaluedollarcnt_lm\n",
       "332785              815866          2.522545e+06\n",
       "925969              376380          9.620086e+05\n",
       "87705               155656          7.934009e+05\n",
       "1183010             483265          1.498121e+06\n",
       "317260              332000          1.469197e+06\n",
       "...                    ...                   ...\n",
       "1209931             680000          1.241670e+06\n",
       "1081165            1731614          4.508329e+06\n",
       "2105453              69738          1.403546e+06\n",
       "1162662             728162          2.062324e+06\n",
       "684076              405472          1.902850e+06\n",
       "\n",
       "[417879 rows x 2 columns]"
      ]
     },
     "execution_count": 403,
     "metadata": {},
     "output_type": "execute_result"
    }
   ],
   "source": [
    "y_test"
   ]
  },
  {
   "cell_type": "code",
   "execution_count": null,
   "id": "565cf6a7",
   "metadata": {},
   "outputs": [],
   "source": []
  },
  {
   "cell_type": "code",
   "execution_count": null,
   "id": "1a041433",
   "metadata": {},
   "outputs": [],
   "source": [
    "# create the model object\n",
    "lm = LinearRegression(normalize=True)"
   ]
  },
  {
   "cell_type": "code",
   "execution_count": null,
   "id": "3b2a91de",
   "metadata": {},
   "outputs": [],
   "source": [
    "# fit the model to our training data. We must specify the column in y_train, \n",
    "# since we have converted it to a dataframe from a series! \n",
    "lm.fit(X_train_scaled, y_train.taxvaluedollarcnt)"
   ]
  },
  {
   "cell_type": "code",
   "execution_count": null,
   "id": "113e19ee",
   "metadata": {},
   "outputs": [],
   "source": [
    "# predict train\n",
    "y_train['taxvaluedollarcnt_lm'] = lm.predict(X_train_scaled)"
   ]
  },
  {
   "cell_type": "code",
   "execution_count": null,
   "id": "2d83bad0",
   "metadata": {},
   "outputs": [],
   "source": [
    "# evaluate: rmse\n",
    "rmse_train = mean_squared_error(y_train.taxvaluedollarcnt, y_train.taxvaluedollarcnt_lm)**(1/2)"
   ]
  },
  {
   "cell_type": "code",
   "execution_count": null,
   "id": "5d817c45",
   "metadata": {},
   "outputs": [],
   "source": [
    "# predict validate\n",
    "y_validate['taxvaluedollarcnt_lm'] = lm.predict(X_validate_scaled)"
   ]
  },
  {
   "cell_type": "code",
   "execution_count": null,
   "id": "2b04d68f",
   "metadata": {},
   "outputs": [],
   "source": []
  },
  {
   "cell_type": "code",
   "execution_count": 405,
   "id": "6d6bd1dc",
   "metadata": {},
   "outputs": [],
   "source": [
    "#create object\n",
    "lars = LassoLars(alpha=1.0)"
   ]
  },
  {
   "cell_type": "code",
   "execution_count": null,
   "id": "b56c49f6",
   "metadata": {},
   "outputs": [],
   "source": [
    "# fit the model to our training data. We must specify the column in y_train, \n",
    "# since we have converted it to a dataframe from a series! \n",
    "lars.fit(X_train_scaled, y_train.taxvaluedollarcnt)"
   ]
  },
  {
   "cell_type": "code",
   "execution_count": null,
   "id": "1d8273fe",
   "metadata": {},
   "outputs": [],
   "source": [
    "# predict train\n",
    "y_train['taxvaluedollarcnt_pred_lars'] = lars.predict(X_train_scaled)"
   ]
  },
  {
   "cell_type": "code",
   "execution_count": null,
   "id": "749b0ebf",
   "metadata": {},
   "outputs": [],
   "source": [
    "# evaluate: rmse\n",
    "rmse_train = mean_squared_error(y_train.taxvaluedollarcnt, y_train.taxvaluedollarcnt_pred_lars)**(1/2)"
   ]
  },
  {
   "cell_type": "code",
   "execution_count": null,
   "id": "c16c596d",
   "metadata": {},
   "outputs": [],
   "source": [
    "# predict validate\n",
    "y_validate['taxvaluedollarcnt_pred_lars'] = lars.predict(X_validate_scaled)"
   ]
  },
  {
   "cell_type": "code",
   "execution_count": null,
   "id": "ec826e9e",
   "metadata": {},
   "outputs": [],
   "source": [
    "# evaluate: rmse\n",
    "rmse_validate = mean_squared_error(y_validate.taxvaluedollarcnt, y_validate.taxvaluedollarcnt_pred_lars)**(1/2)"
   ]
  },
  {
   "cell_type": "code",
   "execution_count": null,
   "id": "cbb269cf",
   "metadata": {},
   "outputs": [],
   "source": [
    "print(\"RMSE for Lasso + Lars\\nTraining/In-Sample: \", rmse_train, \n",
    "      \"\\nValidation/Out-of-Sample: \", rmse_validate)"
   ]
  },
  {
   "cell_type": "code",
   "execution_count": null,
   "id": "5119cf3c",
   "metadata": {},
   "outputs": [],
   "source": []
  },
  {
   "cell_type": "code",
   "execution_count": null,
   "id": "30ce8d6c",
   "metadata": {},
   "outputs": [],
   "source": []
  },
  {
   "cell_type": "code",
   "execution_count": null,
   "id": "8cc37118",
   "metadata": {},
   "outputs": [],
   "source": []
  },
  {
   "cell_type": "code",
   "execution_count": null,
   "id": "a75df899",
   "metadata": {},
   "outputs": [],
   "source": []
  },
  {
   "cell_type": "code",
   "execution_count": 90,
   "id": "276c76ad",
   "metadata": {},
   "outputs": [],
   "source": [
    "def scaled_minmax(train, validate, test):\n",
    "    scaler = MinMaxScaler()\n",
    "    scaler.fit(train)\n",
    "    train_scaled = scaler.transform(train)\n",
    "    validate_scaled = scaler.transform(validate)\n",
    "    test_scaled = scaler.transform(test)\n",
    "    return train_scaled, validate_scaled, test_scaled"
   ]
  },
  {
   "cell_type": "code",
   "execution_count": 98,
   "id": "c20613b2",
   "metadata": {},
   "outputs": [],
   "source": [
    "#scale\n",
    "train_scaled, validate_scaled, test_scaled= scaled_minmax(train, validate, test)"
   ]
  },
  {
   "cell_type": "code",
   "execution_count": 99,
   "id": "00ec2c16",
   "metadata": {},
   "outputs": [
    {
     "data": {
      "text/plain": [
       "array([[0.4       , 0.45454545, 0.04025735, ..., 1.        , 0.        ,\n",
       "        0.        ],\n",
       "       [0.2       , 0.27272727, 0.01599149, ..., 0.        , 1.        ,\n",
       "        0.        ],\n",
       "       [0.4       , 0.27272727, 0.0244685 , ..., 1.        , 0.        ,\n",
       "        0.        ],\n",
       "       ...,\n",
       "       [0.6       , 0.45454545, 0.02956821, ..., 1.        , 0.        ,\n",
       "        0.        ],\n",
       "       [0.6       , 0.45454545, 0.03622148, ..., 1.        , 0.        ,\n",
       "        0.        ],\n",
       "       [0.4       , 0.27272727, 0.02098989, ..., 0.        , 0.        ,\n",
       "        1.        ]])"
      ]
     },
     "execution_count": 99,
     "metadata": {},
     "output_type": "execute_result"
    }
   ],
   "source": [
    "train_scaled"
   ]
  },
  {
   "cell_type": "code",
   "execution_count": null,
   "id": "97dcf9c1",
   "metadata": {},
   "outputs": [],
   "source": []
  },
  {
   "cell_type": "code",
   "execution_count": null,
   "id": "1a58acb6",
   "metadata": {},
   "outputs": [],
   "source": [
    "#establish baseline"
   ]
  },
  {
   "cell_type": "code",
   "execution_count": null,
   "id": "8e7fc4c3",
   "metadata": {},
   "outputs": [],
   "source": [
    "#fit model to train"
   ]
  },
  {
   "cell_type": "code",
   "execution_count": null,
   "id": "960e4fcb",
   "metadata": {},
   "outputs": [],
   "source": [
    "#build df with model predictions"
   ]
  }
 ],
 "metadata": {
  "kernelspec": {
   "display_name": "Python 3 (ipykernel)",
   "language": "python",
   "name": "python3"
  },
  "language_info": {
   "codemirror_mode": {
    "name": "ipython",
    "version": 3
   },
   "file_extension": ".py",
   "mimetype": "text/x-python",
   "name": "python",
   "nbconvert_exporter": "python",
   "pygments_lexer": "ipython3",
   "version": "3.9.12"
  }
 },
 "nbformat": 4,
 "nbformat_minor": 5
}
