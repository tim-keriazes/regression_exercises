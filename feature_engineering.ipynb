{
 "cells": [
  {
   "cell_type": "code",
   "execution_count": 9,
   "id": "0028017a",
   "metadata": {},
   "outputs": [],
   "source": [
    "# imports\n",
    "import pandas as pd\n",
    "import numpy as np\n",
    "import matplotlib.pyplot as plt\n",
    "from scipy import stats\n",
    "from sklearn.metrics import mean_squared_error, r2_score, explained_variance_score\n",
    "from sklearn.feature_selection import SelectKBest, f_regression\n",
    "from sklearn.feature_selection import RFE\n",
    "from sklearn.linear_model import LinearRegression\n",
    "from sklearn.feature_selection import f_regression \n",
    "from math import sqrt\n",
    "import seaborn as sns\n",
    "import warnings\n",
    "warnings.filterwarnings('ignore')\n",
    "\n",
    "from statsmodels.formula.api import ols\n",
    "\n",
    "import prepare_telco\n",
    "from pydataset import data\n",
    "\n",
    "#from math import sqrt\n",
    "#from sklearn.metrics import mean_squared_error"
   ]
  },
  {
   "cell_type": "markdown",
   "id": "5e741487",
   "metadata": {},
   "source": [
    "### 1. Load the tips dataset.\n",
    "\n",
    "    -Create a column named price_per_person. This should be the total bill divided by the party size.\n",
    "    -Before using any of the methods discussed in the lesson, which features do you think would be most important for predicting the tip amount?\n",
    "    -Use select k best to select the top 2 features for predicting tip amount. What are they?\n",
    "    -Use recursive feature elimination to select the top 2 features for tip amount. What are they?\n",
    "    -Why do you think select k best and recursive feature elimination might give different answers for the top features? Does this change as you change the number of features your are selecting?"
   ]
  },
  {
   "cell_type": "code",
   "execution_count": null,
   "id": "4374af7a",
   "metadata": {},
   "outputs": [],
   "source": []
  },
  {
   "cell_type": "code",
   "execution_count": 18,
   "id": "eb482d01",
   "metadata": {},
   "outputs": [],
   "source": [
    "tips = sns.load_dataset('tips')"
   ]
  },
  {
   "cell_type": "code",
   "execution_count": 19,
   "id": "cd1bd7c3",
   "metadata": {
    "scrolled": true
   },
   "outputs": [
    {
     "data": {
      "text/html": [
       "<div>\n",
       "<style scoped>\n",
       "    .dataframe tbody tr th:only-of-type {\n",
       "        vertical-align: middle;\n",
       "    }\n",
       "\n",
       "    .dataframe tbody tr th {\n",
       "        vertical-align: top;\n",
       "    }\n",
       "\n",
       "    .dataframe thead th {\n",
       "        text-align: right;\n",
       "    }\n",
       "</style>\n",
       "<table border=\"1\" class=\"dataframe\">\n",
       "  <thead>\n",
       "    <tr style=\"text-align: right;\">\n",
       "      <th></th>\n",
       "      <th>total_bill</th>\n",
       "      <th>tip</th>\n",
       "      <th>sex</th>\n",
       "      <th>smoker</th>\n",
       "      <th>day</th>\n",
       "      <th>time</th>\n",
       "      <th>size</th>\n",
       "    </tr>\n",
       "  </thead>\n",
       "  <tbody>\n",
       "    <tr>\n",
       "      <th>0</th>\n",
       "      <td>16.99</td>\n",
       "      <td>1.01</td>\n",
       "      <td>Female</td>\n",
       "      <td>No</td>\n",
       "      <td>Sun</td>\n",
       "      <td>Dinner</td>\n",
       "      <td>2</td>\n",
       "    </tr>\n",
       "    <tr>\n",
       "      <th>1</th>\n",
       "      <td>10.34</td>\n",
       "      <td>1.66</td>\n",
       "      <td>Male</td>\n",
       "      <td>No</td>\n",
       "      <td>Sun</td>\n",
       "      <td>Dinner</td>\n",
       "      <td>3</td>\n",
       "    </tr>\n",
       "    <tr>\n",
       "      <th>2</th>\n",
       "      <td>21.01</td>\n",
       "      <td>3.50</td>\n",
       "      <td>Male</td>\n",
       "      <td>No</td>\n",
       "      <td>Sun</td>\n",
       "      <td>Dinner</td>\n",
       "      <td>3</td>\n",
       "    </tr>\n",
       "    <tr>\n",
       "      <th>3</th>\n",
       "      <td>23.68</td>\n",
       "      <td>3.31</td>\n",
       "      <td>Male</td>\n",
       "      <td>No</td>\n",
       "      <td>Sun</td>\n",
       "      <td>Dinner</td>\n",
       "      <td>2</td>\n",
       "    </tr>\n",
       "    <tr>\n",
       "      <th>4</th>\n",
       "      <td>24.59</td>\n",
       "      <td>3.61</td>\n",
       "      <td>Female</td>\n",
       "      <td>No</td>\n",
       "      <td>Sun</td>\n",
       "      <td>Dinner</td>\n",
       "      <td>4</td>\n",
       "    </tr>\n",
       "  </tbody>\n",
       "</table>\n",
       "</div>"
      ],
      "text/plain": [
       "   total_bill   tip     sex smoker  day    time  size\n",
       "0       16.99  1.01  Female     No  Sun  Dinner     2\n",
       "1       10.34  1.66    Male     No  Sun  Dinner     3\n",
       "2       21.01  3.50    Male     No  Sun  Dinner     3\n",
       "3       23.68  3.31    Male     No  Sun  Dinner     2\n",
       "4       24.59  3.61  Female     No  Sun  Dinner     4"
      ]
     },
     "execution_count": 19,
     "metadata": {},
     "output_type": "execute_result"
    }
   ],
   "source": [
    "tips.head()"
   ]
  },
  {
   "cell_type": "code",
   "execution_count": 20,
   "id": "8800a583",
   "metadata": {},
   "outputs": [],
   "source": [
    "#new column total bill divided by size\n",
    "tips['price_per_person'] = tips['total_bill']/tips['size']"
   ]
  },
  {
   "cell_type": "code",
   "execution_count": 21,
   "id": "04f10ef7",
   "metadata": {},
   "outputs": [],
   "source": [
    "tips.price_per_person=tips.price_per_person.round(2)"
   ]
  },
  {
   "cell_type": "code",
   "execution_count": 22,
   "id": "4b02598f",
   "metadata": {},
   "outputs": [
    {
     "data": {
      "text/html": [
       "<div>\n",
       "<style scoped>\n",
       "    .dataframe tbody tr th:only-of-type {\n",
       "        vertical-align: middle;\n",
       "    }\n",
       "\n",
       "    .dataframe tbody tr th {\n",
       "        vertical-align: top;\n",
       "    }\n",
       "\n",
       "    .dataframe thead th {\n",
       "        text-align: right;\n",
       "    }\n",
       "</style>\n",
       "<table border=\"1\" class=\"dataframe\">\n",
       "  <thead>\n",
       "    <tr style=\"text-align: right;\">\n",
       "      <th></th>\n",
       "      <th>total_bill</th>\n",
       "      <th>tip</th>\n",
       "      <th>sex</th>\n",
       "      <th>smoker</th>\n",
       "      <th>day</th>\n",
       "      <th>time</th>\n",
       "      <th>size</th>\n",
       "      <th>price_per_person</th>\n",
       "    </tr>\n",
       "  </thead>\n",
       "  <tbody>\n",
       "    <tr>\n",
       "      <th>0</th>\n",
       "      <td>16.99</td>\n",
       "      <td>1.01</td>\n",
       "      <td>Female</td>\n",
       "      <td>No</td>\n",
       "      <td>Sun</td>\n",
       "      <td>Dinner</td>\n",
       "      <td>2</td>\n",
       "      <td>8.49</td>\n",
       "    </tr>\n",
       "    <tr>\n",
       "      <th>1</th>\n",
       "      <td>10.34</td>\n",
       "      <td>1.66</td>\n",
       "      <td>Male</td>\n",
       "      <td>No</td>\n",
       "      <td>Sun</td>\n",
       "      <td>Dinner</td>\n",
       "      <td>3</td>\n",
       "      <td>3.45</td>\n",
       "    </tr>\n",
       "    <tr>\n",
       "      <th>2</th>\n",
       "      <td>21.01</td>\n",
       "      <td>3.50</td>\n",
       "      <td>Male</td>\n",
       "      <td>No</td>\n",
       "      <td>Sun</td>\n",
       "      <td>Dinner</td>\n",
       "      <td>3</td>\n",
       "      <td>7.00</td>\n",
       "    </tr>\n",
       "    <tr>\n",
       "      <th>3</th>\n",
       "      <td>23.68</td>\n",
       "      <td>3.31</td>\n",
       "      <td>Male</td>\n",
       "      <td>No</td>\n",
       "      <td>Sun</td>\n",
       "      <td>Dinner</td>\n",
       "      <td>2</td>\n",
       "      <td>11.84</td>\n",
       "    </tr>\n",
       "    <tr>\n",
       "      <th>4</th>\n",
       "      <td>24.59</td>\n",
       "      <td>3.61</td>\n",
       "      <td>Female</td>\n",
       "      <td>No</td>\n",
       "      <td>Sun</td>\n",
       "      <td>Dinner</td>\n",
       "      <td>4</td>\n",
       "      <td>6.15</td>\n",
       "    </tr>\n",
       "    <tr>\n",
       "      <th>...</th>\n",
       "      <td>...</td>\n",
       "      <td>...</td>\n",
       "      <td>...</td>\n",
       "      <td>...</td>\n",
       "      <td>...</td>\n",
       "      <td>...</td>\n",
       "      <td>...</td>\n",
       "      <td>...</td>\n",
       "    </tr>\n",
       "    <tr>\n",
       "      <th>239</th>\n",
       "      <td>29.03</td>\n",
       "      <td>5.92</td>\n",
       "      <td>Male</td>\n",
       "      <td>No</td>\n",
       "      <td>Sat</td>\n",
       "      <td>Dinner</td>\n",
       "      <td>3</td>\n",
       "      <td>9.68</td>\n",
       "    </tr>\n",
       "    <tr>\n",
       "      <th>240</th>\n",
       "      <td>27.18</td>\n",
       "      <td>2.00</td>\n",
       "      <td>Female</td>\n",
       "      <td>Yes</td>\n",
       "      <td>Sat</td>\n",
       "      <td>Dinner</td>\n",
       "      <td>2</td>\n",
       "      <td>13.59</td>\n",
       "    </tr>\n",
       "    <tr>\n",
       "      <th>241</th>\n",
       "      <td>22.67</td>\n",
       "      <td>2.00</td>\n",
       "      <td>Male</td>\n",
       "      <td>Yes</td>\n",
       "      <td>Sat</td>\n",
       "      <td>Dinner</td>\n",
       "      <td>2</td>\n",
       "      <td>11.34</td>\n",
       "    </tr>\n",
       "    <tr>\n",
       "      <th>242</th>\n",
       "      <td>17.82</td>\n",
       "      <td>1.75</td>\n",
       "      <td>Male</td>\n",
       "      <td>No</td>\n",
       "      <td>Sat</td>\n",
       "      <td>Dinner</td>\n",
       "      <td>2</td>\n",
       "      <td>8.91</td>\n",
       "    </tr>\n",
       "    <tr>\n",
       "      <th>243</th>\n",
       "      <td>18.78</td>\n",
       "      <td>3.00</td>\n",
       "      <td>Female</td>\n",
       "      <td>No</td>\n",
       "      <td>Thur</td>\n",
       "      <td>Dinner</td>\n",
       "      <td>2</td>\n",
       "      <td>9.39</td>\n",
       "    </tr>\n",
       "  </tbody>\n",
       "</table>\n",
       "<p>244 rows × 8 columns</p>\n",
       "</div>"
      ],
      "text/plain": [
       "     total_bill   tip     sex smoker   day    time  size  price_per_person\n",
       "0         16.99  1.01  Female     No   Sun  Dinner     2              8.49\n",
       "1         10.34  1.66    Male     No   Sun  Dinner     3              3.45\n",
       "2         21.01  3.50    Male     No   Sun  Dinner     3              7.00\n",
       "3         23.68  3.31    Male     No   Sun  Dinner     2             11.84\n",
       "4         24.59  3.61  Female     No   Sun  Dinner     4              6.15\n",
       "..          ...   ...     ...    ...   ...     ...   ...               ...\n",
       "239       29.03  5.92    Male     No   Sat  Dinner     3              9.68\n",
       "240       27.18  2.00  Female    Yes   Sat  Dinner     2             13.59\n",
       "241       22.67  2.00    Male    Yes   Sat  Dinner     2             11.34\n",
       "242       17.82  1.75    Male     No   Sat  Dinner     2              8.91\n",
       "243       18.78  3.00  Female     No  Thur  Dinner     2              9.39\n",
       "\n",
       "[244 rows x 8 columns]"
      ]
     },
     "execution_count": 22,
     "metadata": {},
     "output_type": "execute_result"
    }
   ],
   "source": [
    "tips"
   ]
  },
  {
   "cell_type": "code",
   "execution_count": 23,
   "id": "015aaa97",
   "metadata": {},
   "outputs": [],
   "source": [
    "# -Before using any of the methods discussed in the lesson, \n",
    "# which features do you think would be most important for predicting the tip amount?\n",
    "# I think total_bill, size, day/time"
   ]
  },
  {
   "cell_type": "code",
   "execution_count": 30,
   "id": "c4f6b87e",
   "metadata": {},
   "outputs": [],
   "source": [
    "#data needs to be cleaned \n",
    "# Convert binary categorical variables to numeric\n",
    "    tips['sex'] = tips.sex.map({'Female': 1, 'Male': 0})\n",
    "    tips['smoker'] = tips.smoker.map({'Yes': 1, 'No': 0})\n",
    "    \n",
    "    \n",
    "    # Get dummies for non-binary categorical variables\n",
    "    dummy_df = pd.get_dummies(tips[['day', \\\n",
    "                              'time']], dummy_na=False, \\\n",
    "                              drop_first=True)\n",
    "    \n",
    "    # Concatenate dummy dataframe to original \n",
    "    tips = pd.concat([tips, dummy_df], axis=1)"
   ]
  },
  {
   "cell_type": "code",
   "execution_count": 31,
   "id": "f6b15962",
   "metadata": {
    "scrolled": false
   },
   "outputs": [
    {
     "name": "stdout",
     "output_type": "stream",
     "text": [
      "<class 'pandas.core.frame.DataFrame'>\n",
      "RangeIndex: 244 entries, 0 to 243\n",
      "Data columns (total 12 columns):\n",
      " #   Column            Non-Null Count  Dtype   \n",
      "---  ------            --------------  -----   \n",
      " 0   total_bill        244 non-null    float64 \n",
      " 1   tip               244 non-null    float64 \n",
      " 2   sex               244 non-null    category\n",
      " 3   smoker            244 non-null    category\n",
      " 4   day               244 non-null    category\n",
      " 5   time              244 non-null    category\n",
      " 6   size              244 non-null    int64   \n",
      " 7   price_per_person  244 non-null    float64 \n",
      " 8   day_Fri           244 non-null    uint8   \n",
      " 9   day_Sat           244 non-null    uint8   \n",
      " 10  day_Sun           244 non-null    uint8   \n",
      " 11  time_Dinner       244 non-null    uint8   \n",
      "dtypes: category(4), float64(3), int64(1), uint8(4)\n",
      "memory usage: 10.2 KB\n"
     ]
    }
   ],
   "source": [
    "tips.info(show_counts=True)"
   ]
  },
  {
   "cell_type": "code",
   "execution_count": 38,
   "id": "e2de8032",
   "metadata": {},
   "outputs": [],
   "source": [
    "#clean data, change type to numeric so it can be modeled\n",
    "tips.sex = pd.to_numeric(tips.sex, errors='coerce').astype('float64')\n",
    "tips.smoker = pd.to_numeric(tips.smoker, errors='coerce').astype('float64')"
   ]
  },
  {
   "cell_type": "code",
   "execution_count": 37,
   "id": "271e794e",
   "metadata": {},
   "outputs": [
    {
     "data": {
      "text/plain": [
       "['total_bill',\n",
       " 'tip',\n",
       " 'sex',\n",
       " 'smoker',\n",
       " 'day',\n",
       " 'time',\n",
       " 'size',\n",
       " 'price_per_person',\n",
       " 'day_Fri',\n",
       " 'day_Sat',\n",
       " 'day_Sun',\n",
       " 'time_Dinner']"
      ]
     },
     "execution_count": 37,
     "metadata": {},
     "output_type": "execute_result"
    }
   ],
   "source": [
    "tips.columns.tolist()"
   ]
  },
  {
   "cell_type": "code",
   "execution_count": 24,
   "id": "389e7736",
   "metadata": {},
   "outputs": [],
   "source": [
    "# Use select k best to select the top 2 features for predicting tip amount. What are they?"
   ]
  },
  {
   "cell_type": "code",
   "execution_count": 33,
   "id": "6e3305ae",
   "metadata": {},
   "outputs": [],
   "source": [
    "train, validate, test = prepare_telco.split(tips, stratify_by=None)"
   ]
  },
  {
   "cell_type": "code",
   "execution_count": 34,
   "id": "7bf6c2a9",
   "metadata": {},
   "outputs": [
    {
     "name": "stdout",
     "output_type": "stream",
     "text": [
      "<class 'pandas.core.frame.DataFrame'>\n",
      "Int64Index: 136 entries, 18 to 166\n",
      "Data columns (total 12 columns):\n",
      " #   Column            Non-Null Count  Dtype   \n",
      "---  ------            --------------  -----   \n",
      " 0   total_bill        136 non-null    float64 \n",
      " 1   tip               136 non-null    float64 \n",
      " 2   sex               136 non-null    category\n",
      " 3   smoker            136 non-null    category\n",
      " 4   day               136 non-null    category\n",
      " 5   time              136 non-null    category\n",
      " 6   size              136 non-null    int64   \n",
      " 7   price_per_person  136 non-null    float64 \n",
      " 8   day_Fri           136 non-null    uint8   \n",
      " 9   day_Sat           136 non-null    uint8   \n",
      " 10  day_Sun           136 non-null    uint8   \n",
      " 11  time_Dinner       136 non-null    uint8   \n",
      "dtypes: category(4), float64(3), int64(1), uint8(4)\n",
      "memory usage: 6.9 KB\n"
     ]
    }
   ],
   "source": [
    "train.info(show_counts=True)"
   ]
  },
  {
   "cell_type": "code",
   "execution_count": 39,
   "id": "b41509cc",
   "metadata": {},
   "outputs": [],
   "source": [
    "#remove target from X_train, remove categoricals so it can be modeled\n",
    "X_train = train.drop(columns=['tip','day','time'])\n",
    "y_train = train.tip"
   ]
  },
  {
   "cell_type": "code",
   "execution_count": 46,
   "id": "5da67bde",
   "metadata": {},
   "outputs": [],
   "source": [
    "# from sklearn.feature_selection import SelectKBest, f_regression\n",
    "\n",
    "# parameters: f_regression stats test, give me 2 features\n",
    "f_selector = SelectKBest(f_regression, k=2)\n",
    "\n",
    "# find the top 8 X's correlated with y\n",
    "f_selector.fit(X_train, y_train)\n",
    "\n",
    "# boolean mask of whether the column was selected or not. \n",
    "feature_mask = f_selector.get_support()\n",
    "\n",
    "# get list of top K features. \n",
    "f_feature = X_train.iloc[:,feature_mask].columns.tolist()"
   ]
  },
  {
   "cell_type": "code",
   "execution_count": 47,
   "id": "98bc18f5",
   "metadata": {},
   "outputs": [
    {
     "data": {
      "text/plain": [
       "['total_bill', 'size']"
      ]
     },
     "execution_count": 47,
     "metadata": {},
     "output_type": "execute_result"
    }
   ],
   "source": [
    "f_feature"
   ]
  },
  {
   "cell_type": "code",
   "execution_count": null,
   "id": "9ed7c123",
   "metadata": {},
   "outputs": [],
   "source": [
    "# Use recursive feature elimination to select the top 2 features for tip amount. What are they?"
   ]
  },
  {
   "cell_type": "code",
   "execution_count": 58,
   "id": "3daf372b",
   "metadata": {},
   "outputs": [],
   "source": [
    "# from sklearn.linear_model import LinearRegression\n",
    "# from sklearn.feature_selection import RFE\n",
    "\n",
    "# initialize the ML algorithm\n",
    "lm = LinearRegression()\n",
    "\n",
    "# create the rfe object, indicating the ML object (lm) and the number of features I want to end up with. \n",
    "rfe = RFE(lm, n_features_to_select=2)\n",
    "\n",
    "# fit the data using RFE\n",
    "rfe.fit(X_train,y_train)  \n",
    "\n",
    "# get the mask of the columns selected\n",
    "feature_mask = rfe.support_\n",
    "\n",
    "# get list of the column names. \n",
    "rfe_feature = X_train.iloc[:,feature_mask].columns.tolist()"
   ]
  },
  {
   "cell_type": "code",
   "execution_count": 59,
   "id": "696d9bf5",
   "metadata": {},
   "outputs": [
    {
     "data": {
      "text/plain": [
       "['sex', 'size']"
      ]
     },
     "execution_count": 59,
     "metadata": {},
     "output_type": "execute_result"
    }
   ],
   "source": [
    "rfe_feature"
   ]
  },
  {
   "cell_type": "code",
   "execution_count": 55,
   "id": "b3a26c9e",
   "metadata": {},
   "outputs": [],
   "source": [
    "# Why do you think select k best and recursive feature elimination \n",
    "# might give different answers for the top features? Does this \n",
    "# change as you change the number of features your are selecting?\n",
    "#rfe models combinations of the features, kbest tests each individual feature with target"
   ]
  },
  {
   "cell_type": "markdown",
   "id": "4f7878a3",
   "metadata": {},
   "source": [
    "#### 2. Write a function named select_kbest that takes in the predictors (X), the target (y), and the number of features to select (k) and returns the names of the top k selected features based on the SelectKBest class. Test your function with the tips dataset. You should see the same results as when you did the process manually."
   ]
  },
  {
   "cell_type": "code",
   "execution_count": 71,
   "id": "67b7eb6a",
   "metadata": {},
   "outputs": [],
   "source": [
    "def select_kbest(X_train, y_train, k):\n",
    "    # parameters: f_regression stats test, give me 2 features\n",
    "    f_selector = SelectKBest(f_regression, k=k)\n",
    "\n",
    "# find the top 8 X's correlated with y\n",
    "    f_selector.fit(X_train, y_train)\n",
    "\n",
    "# boolean mask of whether the column was selected or not. \n",
    "    feature_mask = f_selector.get_support()\n",
    "\n",
    "# get list of top K features. \n",
    "    f_feature = X_train.iloc[:,feature_mask].columns.tolist()\n",
    "    return f_feature\n",
    "    "
   ]
  },
  {
   "cell_type": "markdown",
   "id": "e2e66624",
   "metadata": {},
   "source": [
    "#### 3. Write a function named rfe that takes in the predictors, the target, and the number of features to select. It should return the top k features based on the RFE class. Test your function with the tips dataset. You should see the same results as when you did the process manually."
   ]
  },
  {
   "cell_type": "code",
   "execution_count": 72,
   "id": "6e80c9bb",
   "metadata": {},
   "outputs": [],
   "source": [
    "def rfe (X_train, y_train, k):\n",
    "    # initialize the ML algorithm\n",
    "    lm = LinearRegression()\n",
    "\n",
    "# create the rfe object, indicating the ML object (lm) and the number of features I want to end up with. \n",
    "    rfe = RFE(lm, n_features_to_select=k)\n",
    "\n",
    "# fit the data using RFE\n",
    "    rfe.fit(X_train,y_train)  \n",
    "\n",
    "# get the mask of the columns selected\n",
    "    feature_mask = rfe.support_\n",
    "\n",
    "# get list of the column names. \n",
    "    rfe_feature = X_train.iloc[:,feature_mask].columns.tolist()\n",
    "    return rfe_feature\n",
    "    "
   ]
  },
  {
   "cell_type": "markdown",
   "id": "baa0ccea",
   "metadata": {},
   "source": [
    "#### 4. Load the swiss dataset and use all the other features to predict Fertility. Find the top 3 features using both select k best and recursive feature elimination (use the functions you just built to help you out)"
   ]
  },
  {
   "cell_type": "code",
   "execution_count": 76,
   "id": "d176aeb2",
   "metadata": {
    "scrolled": false
   },
   "outputs": [
    {
     "data": {
      "text/html": [
       "<div>\n",
       "<style scoped>\n",
       "    .dataframe tbody tr th:only-of-type {\n",
       "        vertical-align: middle;\n",
       "    }\n",
       "\n",
       "    .dataframe tbody tr th {\n",
       "        vertical-align: top;\n",
       "    }\n",
       "\n",
       "    .dataframe thead th {\n",
       "        text-align: right;\n",
       "    }\n",
       "</style>\n",
       "<table border=\"1\" class=\"dataframe\">\n",
       "  <thead>\n",
       "    <tr style=\"text-align: right;\">\n",
       "      <th></th>\n",
       "      <th>Fertility</th>\n",
       "      <th>Agriculture</th>\n",
       "      <th>Examination</th>\n",
       "      <th>Education</th>\n",
       "      <th>Catholic</th>\n",
       "      <th>Infant.Mortality</th>\n",
       "    </tr>\n",
       "  </thead>\n",
       "  <tbody>\n",
       "    <tr>\n",
       "      <th>Courtelary</th>\n",
       "      <td>80.2</td>\n",
       "      <td>17.0</td>\n",
       "      <td>15</td>\n",
       "      <td>12</td>\n",
       "      <td>9.96</td>\n",
       "      <td>22.2</td>\n",
       "    </tr>\n",
       "    <tr>\n",
       "      <th>Delemont</th>\n",
       "      <td>83.1</td>\n",
       "      <td>45.1</td>\n",
       "      <td>6</td>\n",
       "      <td>9</td>\n",
       "      <td>84.84</td>\n",
       "      <td>22.2</td>\n",
       "    </tr>\n",
       "    <tr>\n",
       "      <th>Franches-Mnt</th>\n",
       "      <td>92.5</td>\n",
       "      <td>39.7</td>\n",
       "      <td>5</td>\n",
       "      <td>5</td>\n",
       "      <td>93.40</td>\n",
       "      <td>20.2</td>\n",
       "    </tr>\n",
       "    <tr>\n",
       "      <th>Moutier</th>\n",
       "      <td>85.8</td>\n",
       "      <td>36.5</td>\n",
       "      <td>12</td>\n",
       "      <td>7</td>\n",
       "      <td>33.77</td>\n",
       "      <td>20.3</td>\n",
       "    </tr>\n",
       "    <tr>\n",
       "      <th>Neuveville</th>\n",
       "      <td>76.9</td>\n",
       "      <td>43.5</td>\n",
       "      <td>17</td>\n",
       "      <td>15</td>\n",
       "      <td>5.16</td>\n",
       "      <td>20.6</td>\n",
       "    </tr>\n",
       "  </tbody>\n",
       "</table>\n",
       "</div>"
      ],
      "text/plain": [
       "              Fertility  Agriculture  Examination  Education  Catholic  \\\n",
       "Courtelary         80.2         17.0           15         12      9.96   \n",
       "Delemont           83.1         45.1            6          9     84.84   \n",
       "Franches-Mnt       92.5         39.7            5          5     93.40   \n",
       "Moutier            85.8         36.5           12          7     33.77   \n",
       "Neuveville         76.9         43.5           17         15      5.16   \n",
       "\n",
       "              Infant.Mortality  \n",
       "Courtelary                22.2  \n",
       "Delemont                  22.2  \n",
       "Franches-Mnt              20.2  \n",
       "Moutier                   20.3  \n",
       "Neuveville                20.6  "
      ]
     },
     "execution_count": 76,
     "metadata": {},
     "output_type": "execute_result"
    }
   ],
   "source": [
    "swiss =data('swiss')\n",
    "swiss.head()"
   ]
  },
  {
   "cell_type": "code",
   "execution_count": 77,
   "id": "1a9705c4",
   "metadata": {},
   "outputs": [],
   "source": [
    "#Create X and y dataframes\n",
    "X = swiss.drop(columns=['Fertility'])\n",
    "y = swiss['Fertility']"
   ]
  },
  {
   "cell_type": "code",
   "execution_count": 78,
   "id": "8319e044",
   "metadata": {},
   "outputs": [],
   "source": [
    "#Create a list of columns\n",
    "X_columns = list(X.columns)"
   ]
  },
  {
   "cell_type": "code",
   "execution_count": 79,
   "id": "7d54f9c3",
   "metadata": {},
   "outputs": [
    {
     "data": {
      "text/html": [
       "<div>\n",
       "<style scoped>\n",
       "    .dataframe tbody tr th:only-of-type {\n",
       "        vertical-align: middle;\n",
       "    }\n",
       "\n",
       "    .dataframe tbody tr th {\n",
       "        vertical-align: top;\n",
       "    }\n",
       "\n",
       "    .dataframe thead th {\n",
       "        text-align: right;\n",
       "    }\n",
       "</style>\n",
       "<table border=\"1\" class=\"dataframe\">\n",
       "  <thead>\n",
       "    <tr style=\"text-align: right;\">\n",
       "      <th></th>\n",
       "      <th>Agriculture</th>\n",
       "      <th>Examination</th>\n",
       "      <th>Education</th>\n",
       "      <th>Catholic</th>\n",
       "      <th>Infant.Mortality</th>\n",
       "    </tr>\n",
       "  </thead>\n",
       "  <tbody>\n",
       "    <tr>\n",
       "      <th>Courtelary</th>\n",
       "      <td>0.178531</td>\n",
       "      <td>0.352941</td>\n",
       "      <td>0.211538</td>\n",
       "      <td>0.079816</td>\n",
       "      <td>0.721519</td>\n",
       "    </tr>\n",
       "    <tr>\n",
       "      <th>Delemont</th>\n",
       "      <td>0.496045</td>\n",
       "      <td>0.088235</td>\n",
       "      <td>0.153846</td>\n",
       "      <td>0.845069</td>\n",
       "      <td>0.721519</td>\n",
       "    </tr>\n",
       "    <tr>\n",
       "      <th>Franches-Mnt</th>\n",
       "      <td>0.435028</td>\n",
       "      <td>0.058824</td>\n",
       "      <td>0.076923</td>\n",
       "      <td>0.932550</td>\n",
       "      <td>0.594937</td>\n",
       "    </tr>\n",
       "    <tr>\n",
       "      <th>Moutier</th>\n",
       "      <td>0.398870</td>\n",
       "      <td>0.264706</td>\n",
       "      <td>0.115385</td>\n",
       "      <td>0.323148</td>\n",
       "      <td>0.601266</td>\n",
       "    </tr>\n",
       "    <tr>\n",
       "      <th>Neuveville</th>\n",
       "      <td>0.477966</td>\n",
       "      <td>0.411765</td>\n",
       "      <td>0.269231</td>\n",
       "      <td>0.030761</td>\n",
       "      <td>0.620253</td>\n",
       "    </tr>\n",
       "  </tbody>\n",
       "</table>\n",
       "</div>"
      ],
      "text/plain": [
       "              Agriculture  Examination  Education  Catholic  Infant.Mortality\n",
       "Courtelary       0.178531     0.352941   0.211538  0.079816          0.721519\n",
       "Delemont         0.496045     0.088235   0.153846  0.845069          0.721519\n",
       "Franches-Mnt     0.435028     0.058824   0.076923  0.932550          0.594937\n",
       "Moutier          0.398870     0.264706   0.115385  0.323148          0.601266\n",
       "Neuveville       0.477966     0.411765   0.269231  0.030761          0.620253"
      ]
     },
     "execution_count": 79,
     "metadata": {},
     "output_type": "execute_result"
    }
   ],
   "source": [
    "from sklearn.preprocessing import MinMaxScaler\n",
    "#minmax scaling\n",
    "#Instantiate a scaler and fit/transform the columns\n",
    "mms2 = MinMaxScaler()\n",
    "\n",
    "X[X_columns] = mms2.fit_transform(X[X_columns])\n",
    "\n",
    "X.head()"
   ]
  },
  {
   "cell_type": "code",
   "execution_count": null,
   "id": "29b916ff",
   "metadata": {},
   "outputs": [],
   "source": []
  },
  {
   "cell_type": "code",
   "execution_count": 80,
   "id": "0dcc6ca3",
   "metadata": {},
   "outputs": [
    {
     "data": {
      "text/plain": [
       "['Examination', 'Education', 'Catholic']"
      ]
     },
     "execution_count": 80,
     "metadata": {},
     "output_type": "execute_result"
    }
   ],
   "source": [
    "#kbest function\n",
    "#Run the select k best function\n",
    "select_kbest(X, y, 3)"
   ]
  },
  {
   "cell_type": "code",
   "execution_count": 81,
   "id": "2eccef55",
   "metadata": {},
   "outputs": [
    {
     "data": {
      "text/plain": [
       "['Agriculture', 'Education', 'Infant.Mortality']"
      ]
     },
     "execution_count": 81,
     "metadata": {},
     "output_type": "execute_result"
    }
   ],
   "source": [
    "#rfe function\n",
    "#Run the rfe function\n",
    "rfe(X, y, 3)"
   ]
  },
  {
   "cell_type": "code",
   "execution_count": null,
   "id": "edfb576c",
   "metadata": {},
   "outputs": [],
   "source": []
  },
  {
   "cell_type": "code",
   "execution_count": null,
   "id": "6542e84f",
   "metadata": {},
   "outputs": [],
   "source": []
  },
  {
   "cell_type": "code",
   "execution_count": null,
   "id": "f62897b0",
   "metadata": {},
   "outputs": [],
   "source": []
  },
  {
   "cell_type": "code",
   "execution_count": null,
   "id": "5aef742e",
   "metadata": {},
   "outputs": [],
   "source": []
  },
  {
   "cell_type": "code",
   "execution_count": null,
   "id": "f24ac35e",
   "metadata": {},
   "outputs": [],
   "source": []
  },
  {
   "cell_type": "code",
   "execution_count": null,
   "id": "cf8801f5",
   "metadata": {},
   "outputs": [],
   "source": []
  },
  {
   "cell_type": "code",
   "execution_count": null,
   "id": "a90075c4",
   "metadata": {},
   "outputs": [],
   "source": []
  },
  {
   "cell_type": "code",
   "execution_count": null,
   "id": "870d4b0e",
   "metadata": {},
   "outputs": [],
   "source": []
  },
  {
   "cell_type": "code",
   "execution_count": null,
   "id": "f2181147",
   "metadata": {},
   "outputs": [],
   "source": []
  },
  {
   "cell_type": "code",
   "execution_count": null,
   "id": "018ed6f9",
   "metadata": {},
   "outputs": [],
   "source": []
  }
 ],
 "metadata": {
  "kernelspec": {
   "display_name": "Python 3 (ipykernel)",
   "language": "python",
   "name": "python3"
  },
  "language_info": {
   "codemirror_mode": {
    "name": "ipython",
    "version": 3
   },
   "file_extension": ".py",
   "mimetype": "text/x-python",
   "name": "python",
   "nbconvert_exporter": "python",
   "pygments_lexer": "ipython3",
   "version": "3.9.12"
  }
 },
 "nbformat": 4,
 "nbformat_minor": 5
}
